{
 "cells": [
  {
   "metadata": {},
   "cell_type": "code",
   "outputs": [],
   "execution_count": null,
   "source": [
    "import pandas as pd\n",
    "from IPython.display import Markdown, display"
   ],
   "id": "39d0a47555b7d71b"
  },
  {
   "metadata": {
    "collapsed": true
   },
   "cell_type": "code",
   "outputs": [],
   "execution_count": null,
   "source": [
    "data = pd.read_json('dataset/data_v1.json')\n",
    "data"
   ],
   "id": "initial_id"
  },
  {
   "metadata": {},
   "cell_type": "code",
   "outputs": [],
   "execution_count": null,
   "source": [
    "data\n",
    "# Select the specified columns\n",
    "textonly = data[data['Question Type'] == 'text only']\n",
    "textonlymath = textonly[textonly['QA Type'] == 'Math reasoning QA']\n",
    "\n",
    "Knowledge = data[data['QA Type'] != 'Math reasoning QA']\n",
    "# Iterate through each row in the selected columns DataFrame\n",
    "for index, row in Knowledge.iterrows():\n",
    "    print(f\"ID: {row['ID']}\")\n",
    "    print(f\"Question Number: {row['Question Number']}\")\n",
    "    print(f\"Question Text: {row['Question Text']}\")\n",
    "    print(f\"Image: {row['Image']}\")\n",
    "    print(f\"Options: {row['Options']}\")\n",
    "    print(f\"Answer: {row['Answer']}\")\n",
    "    display(Markdown(f\"Explanation: {row['Explanation']}\"))\n",
    "    print(f\"Book Label: {row['Book Label']}\")\n",
    "    print(\"-\" * 50)"
   ],
   "id": "bb4093c2ac17c5f3"
  }
 ],
 "metadata": {
  "kernelspec": {
   "display_name": "Python 3",
   "language": "python",
   "name": "python3"
  },
  "language_info": {
   "codemirror_mode": {
    "name": "ipython",
    "version": 2
   },
   "file_extension": ".py",
   "mimetype": "text/x-python",
   "name": "python",
   "nbconvert_exporter": "python",
   "pygments_lexer": "ipython2",
   "version": "2.7.6"
  }
 },
 "nbformat": 4,
 "nbformat_minor": 5
}
