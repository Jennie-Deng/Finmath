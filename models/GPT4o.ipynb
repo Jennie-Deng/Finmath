{
 "cells": [
  {
   "cell_type": "code",
   "id": "initial_id",
   "metadata": {
    "collapsed": true,
    "ExecuteTime": {
     "end_time": "2024-09-24T04:06:17.664440Z",
     "start_time": "2024-09-24T04:06:17.412288Z"
    }
   },
   "source": [
    "import base64\n",
    "import openai\n",
    "import requests\n",
    "import json\n",
    "from tqdm import tqdm\n",
    "import os\n",
    "from multiprocessing import Pool\n",
    "from tqdm import tqdm\n",
    "import random\n",
    "from time import sleep\n",
    "os.chdir(os.getcwd())"
   ],
   "outputs": [],
   "execution_count": 2
  },
  {
   "metadata": {
    "ExecuteTime": {
     "end_time": "2024-09-24T04:09:37.447671Z",
     "start_time": "2024-09-24T04:09:36.079692Z"
    }
   },
   "cell_type": "code",
   "source": [
    "client = openai.OpenAI(api_key=\"sk-VUQOgoxNjtiPxFDo895535A3635847B7A903688099089385\", base_url=\"https://api.xi-ai.cn/v1\")\n",
    "# completion = client.chat.completions.create(\n",
    "#     model=\"gpt-4o\",\n",
    "#     messages=[\n",
    "#         {\"role\": \"system\", \"content\": \"You are a helpful assistant.\"},\n",
    "#         {\"role\": \"user\", \"content\": \"Hello!\"}\n",
    "#     ]\n",
    "# )\n",
    "# \n",
    "# completion.choices[0].message.content\n",
    "MODEL = 'gpt-4o'\n",
    "\n",
    "if not os.path.exists(f'{MODEL}_answer.json'):\n",
    "    with open(f'{MODEL}_answer.json','w') as f:\n",
    "        pass\n",
    "\n",
    "def load_json (file_path)->list:\n",
    "    with open (file_path,'r') as f:\n",
    "        return "
   ],
   "id": "4ce122702c68c7b0",
   "outputs": [
    {
     "data": {
      "text/plain": [
       "'Hi there! How can I assist you today?'"
      ]
     },
     "execution_count": 6,
     "metadata": {},
     "output_type": "execute_result"
    }
   ],
   "execution_count": 6
  },
  {
   "metadata": {},
   "cell_type": "code",
   "outputs": [],
   "execution_count": null,
   "source": "def",
   "id": "87424c984a3adebf"
  }
 ],
 "metadata": {
  "kernelspec": {
   "display_name": "Python 3",
   "language": "python",
   "name": "python3"
  },
  "language_info": {
   "codemirror_mode": {
    "name": "ipython",
    "version": 2
   },
   "file_extension": ".py",
   "mimetype": "text/x-python",
   "name": "python",
   "nbconvert_exporter": "python",
   "pygments_lexer": "ipython2",
   "version": "2.7.6"
  }
 },
 "nbformat": 4,
 "nbformat_minor": 5
}
