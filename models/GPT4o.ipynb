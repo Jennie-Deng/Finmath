{
 "cells": [
  {
   "metadata": {
    "ExecuteTime": {
     "end_time": "2024-09-25T01:51:07.904150Z",
     "start_time": "2024-09-25T01:51:06.195095Z"
    }
   },
   "cell_type": "code",
   "source": [
    "import time\n",
    "import os\n",
    "import json\n",
    "import openai\n",
    "from multiprocessing import Pool\n",
    "from tqdm import tqdm"
   ],
   "id": "59bd05cffd4bba75",
   "outputs": [],
   "execution_count": 1
  },
  {
   "metadata": {
    "ExecuteTime": {
     "end_time": "2024-09-25T02:01:23.944754Z",
     "start_time": "2024-09-25T02:01:23.866377Z"
    }
   },
   "cell_type": "code",
   "source": "",
   "id": "cc7b9775e73c0bc0",
   "outputs": [
    {
     "data": {
      "text/plain": [
       "'/Volumes/Jennie/Reasoning/FinMath/models'"
      ]
     },
     "execution_count": 4,
     "metadata": {},
     "output_type": "execute_result"
    }
   ],
   "execution_count": 4
  }
 ],
 "metadata": {
  "kernelspec": {
   "display_name": "Python 3",
   "language": "python",
   "name": "python3"
  },
  "language_info": {
   "codemirror_mode": {
    "name": "ipython",
    "version": 2
   },
   "file_extension": ".py",
   "mimetype": "text/x-python",
   "name": "python",
   "nbconvert_exporter": "python",
   "pygments_lexer": "ipython2",
   "version": "2.7.6"
  }
 },
 "nbformat": 4,
 "nbformat_minor": 5
}
