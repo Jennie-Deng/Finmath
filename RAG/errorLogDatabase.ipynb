{
 "cells": [
  {
   "cell_type": "markdown",
   "metadata": {},
   "source": [
    "### In-Context Learning"
   ]
  },
  {
   "cell_type": "code",
   "execution_count": 3,
   "metadata": {},
   "outputs": [],
   "source": [
    "from openai import OpenAI\n",
    "import json"
   ]
  },
  {
   "cell_type": "code",
   "execution_count": 1,
   "metadata": {},
   "outputs": [],
   "source": [
    "api_key = \"sk-VUQOgoxNjtiPxFDo895535A3635847B7A903688099089385\"\n",
    "url = \"https://api.xi-ai.cn/v1/chat/completions\""
   ]
  },
  {
   "cell_type": "code",
   "execution_count": 4,
   "metadata": {},
   "outputs": [
    {
     "data": {
      "text/plain": [
       "{'ID': 2270,\n",
       " 'Question Number': 107,\n",
       " 'Share Context': '',\n",
       " 'Share Image': '',\n",
       " 'Question Text': 'Consider the expected returns and standard deviations for the following portfolios:',\n",
       " 'Image': 'images/Foundationofriskmanagement1_images/107u.png',\n",
       " 'Options': {'A': ' Portfolio 1',\n",
       "  'B': ' Portfolio 2',\n",
       "  'C': ' Portfolio 3',\n",
       "  'D': ' Portfolio 4'},\n",
       " 'Answer': 'A',\n",
       " 'Explanation': 'Portfolio 1 is not efficient because it has a lower expected return and higher risk than Portfolios 2, 3, and 4. The portfolio is not mean variance efficient due to its suboptimal risk-return profile.',\n",
       " 'QA Type': 'Knowledge reasoning QA',\n",
       " 'Question Type': 'text+image',\n",
       " 'Level of Difficulty': 'Easy',\n",
       " 'Knowledge Topics': 'mean variance efficiency, portfolio analysis',\n",
       " 'General Topics': 'Foundation of Risk Management',\n",
       " 'Book Label': 'foundation of risk management1',\n",
       " 'Wrong_answer': 'B',\n",
       " 'Wrong_reasoning_steps': ['Step 1: I focused on finding the portfolio with the highest return for the least risk, which led me to select Portfolio 2 as the best choice.',\n",
       "  'Step 2: I incorrectly interpreted the question as asking for the most efficient portfolio, rather than identifying the suboptimal one.',\n",
       "  'Step 3: I did not apply the concept of mean-variance efficiency correctly, as Portfolio 1 has both a lower return and higher risk than Portfolios 2 and 3.'],\n",
       " 'Feedback': {'corrected_reasoning_steps': ['### Step 1. Understanding the Problem',\n",
       "   'We are provided with the expected returns and standard deviations of four portfolios. The goal is to determine which portfolio is not mean-variance efficient, meaning it does not provide the best trade-off between risk and return.',\n",
       "   '### Step 2. Key Data',\n",
       "   'From the table:',\n",
       "   '- Portfolio 1: Expected Return = 10%, Standard Deviation = 14%',\n",
       "   '- Portfolio 2: Expected Return = 12%, Standard Deviation = 13%',\n",
       "   '- Portfolio 3: Expected Return = 11%, Standard Deviation = 12%',\n",
       "   '- Portfolio 4: Expected Return = 14%, Standard Deviation = 18%',\n",
       "   '### Step 3. Mean-Variance Efficiency Concept',\n",
       "   'A portfolio is considered mean-variance efficient if, for a given level of risk, it offers the highest possible return, or for a given return, it has the lowest possible risk.',\n",
       "   '### Step 4. Identifying the Suboptimal Portfolio',\n",
       "   '- Portfolio 1: Expected Return = 10%, Risk = 14%',\n",
       "   '- Portfolio 2: Expected Return = 12%, Risk = 13%',\n",
       "   '- Portfolio 3: Expected Return = 11%, Risk = 12%',\n",
       "   '- Portfolio 4: Expected Return = 14%, Risk = 18%',\n",
       "   'Since Portfolio 1 has both a lower return and higher risk than Portfolios 2 and 3, it is not mean-variance efficient.',\n",
       "   '### Final Answer',\n",
       "   'Therefore, the answer is \\\\boxed{A}.'],\n",
       "  'comparison': {'incorrect_reasoning': 'Initially, the reasoning focused on finding the best portfolio in terms of risk-return trade-off, leading to Portfolio 2 being chosen as the best option. However, the question was asking for the least efficient portfolio, not the best one.',\n",
       "   'correct_reasoning': 'The correct reasoning focuses on identifying the portfolio that is not mean-variance efficient. Portfolio 1 is suboptimal because it has both a lower return and higher risk than Portfolios 2 and 3, making it inefficient.',\n",
       "   'main_difference': \"The key difference was misunderstanding the question's focus—choosing the least efficient portfolio rather than the best one.\"},\n",
       "  'key_takeaways': ['1. Always read the question carefully to understand whether it is asking for the most efficient or the least efficient portfolio.',\n",
       "   '2. Apply the concept of mean-variance efficiency by comparing portfolios to identify suboptimal ones.',\n",
       "   '3. Look for portfolios that have both higher risk and lower return compared to others to determine inefficiency.',\n",
       "   '4. Be mindful of dominance when comparing portfolios—if one portfolio offers both a higher return and lower risk, the other is not efficient.']}}"
      ]
     },
     "execution_count": 4,
     "metadata": {},
     "output_type": "execute_result"
    }
   ],
   "source": [
    "file_path = 'error_log.json'\n",
    "with open(file_path, 'r') as file:\n",
    "    error_log = json.load(file)\n",
    "error_log"
   ]
  },
  {
   "cell_type": "code",
   "execution_count": 5,
   "metadata": {},
   "outputs": [
    {
     "data": {
      "text/plain": [
       "{'ID': 2537,\n",
       " 'Question Number': 21,\n",
       " 'Share Context': '',\n",
       " 'Share Image': '',\n",
       " 'Question Text': 'What is the correlation between X & Y?',\n",
       " 'Image': 'images/QuantitativeAnalysis1_images/21u.png',\n",
       " 'Options': {'A': ' 0.6330', 'B': ' 0.7044', 'C': ' 0.8175', 'D': ' 0.9286'},\n",
       " 'Answer': 'D',\n",
       " 'Explanation': '$$\\\\text{Covariance}(X, Y) = 0.0520\\\\%, \\\\sigma_X = 2.8\\\\%, \\\\sigma_Y = 2.0\\\\%, \\\\text{Correlation} = \\\\frac{0.0520\\\\%}{2.8\\\\% \\\\times 2.0\\\\%} = 0.9286$$',\n",
       " 'QA Type': 'Math reasoning QA',\n",
       " 'Question Type': 'text+image',\n",
       " 'Level of Difficulty': 'Easy',\n",
       " 'Knowledge Topics': 'correlation, covariance, statistics',\n",
       " 'General Topics': 'Quantitative Methods',\n",
       " 'Book Label': 'Quantitative Analysis1'}"
      ]
     },
     "execution_count": 5,
     "metadata": {},
     "output_type": "execute_result"
    }
   ],
   "source": [
    "\n",
    "file_path = '../dataset/multiDemo.json'\n",
    "with open(file_path, 'r') as file:\n",
    "    data = json.load(file)\n",
    "query=data[84]\n",
    "query"
   ]
  },
  {
   "cell_type": "markdown",
   "metadata": {},
   "source": [
    "#### Unimodal data"
   ]
  },
  {
   "cell_type": "code",
   "execution_count": null,
   "metadata": {},
   "outputs": [],
   "source": [
    "# 给定的示例和反馈信息 (input_data)\n",
    "input_examples = [\n",
    "    {\n",
    "        \"question\": \"Consider the expected returns and standard deviations for the following portfolios...\",\n",
    "        \"feedback\": \"Check the standard deviation formula, and ensure you understand portfolio variance.\"\n",
    "    },\n",
    "    {\n",
    "        \"question\": \"What is the expected return for portfolio B given the risk-free rate and excess return of portfolio A?\",\n",
    "        \"feedback\": \"Ensure you're using the correct risk-free rate in the calculation.\"\n",
    "    }\n",
    "]\n",
    "\n",
    "# 定义新的类似题目\n",
    "new_question = \"Given the expected returns and standard deviations of these assets, calculate the optimal portfolio allocation for a risk-averse investor.\"\n",
    "\n",
    "# 定义ICL函数\n",
    "def in_context_learning(examples, new_question):\n",
    "    # 准备示例输入\n",
    "    prompt = \"Here are examples of samiler solved problems and feedback:\\n\\n\"\n",
    "    for example in examples:\n",
    "        prompt += f\"Q: {example['question']}\\nFeedback: {example['feedback']}\\n\\n\"\n",
    "\n",
    "    prompt += f\"Now solve this new problem based on the examples above:\\nQ: {new_question}\\n\\n\"\n",
    "\n",
    "    # 发送请求给模型\n",
    "    response = openai.Completion.create(\n",
    "        engine=\"gpt-4\",  # 使用你选择的模型\n",
    "        prompt=prompt,\n",
    "        max_tokens=200,\n",
    "        temperature=0.7\n",
    "    )\n",
    "    \n",
    "    return response.choices[0].text.strip()\n",
    "\n",
    "# 执行ICL\n",
    "output = in_context_learning(input_examples, new_question)\n",
    "print(\"Model's Response to New Question:\\n\", output)\n",
    "\n"
   ]
  },
  {
   "cell_type": "code",
   "execution_count": null,
   "metadata": {},
   "outputs": [],
   "source": [
    "\n",
    "api_key = \"sk-VUQOgoxNjtiPxFDo895535A3635847B7A903688099089385\"\n",
    "url = \"https://api.xi-ai.cn/v1/chat/completions\"\n",
    "\n",
    "headers = {\n",
    "    \"Content-Type\": \"application/json\",\n",
    "    \"Authorization\":f\"Bearer {api_key}\"\n",
    "}\n",
    "ICL_instruction = f\"\"\"\n",
    "You answered the question incorrectly. Here are examples of similar solved problems and feedback to help you understand the correct approach:\n",
    "Here is the samilar question:\n",
    "Share context: {data.get('Share Context')}\n",
    "\n",
    "Question: {data.get('Question Text')}\n",
    "\n",
    "Options: {data.get('Options')}\n",
    "Feedback: {data.get('Feedback')}\n",
    "\"\"\"\n",
    "\n",
    "task_instruction = f\"\"\"\n",
    "You are a financial expert. You are supposed to answer the given question. First, think through the problem step by step, documenting each necessary step clearly. Then, conclude your response with the final answer in your last sentence as “Therefore, the answer is \\\\boxed{{}}”.\n",
    "Here is the new question:\n",
    "Share context: {data.get('Share Context')}\n",
    "\n",
    "Question: {data.get('Question Text')}\n",
    "\n",
    "Options: {data.get('Options')}\n",
    "\n",
    "Let's think through the problem step by step to answer the given question. The reasoning steps should include math symbols, formulas, and equations properly formatted using Markdown. Ensure that any math symbols or equations are enclosed in inline `\\( \\)` for smaller formulas or in block `\\[ \\]` for larger equations. \n",
    "\n",
    "### Example output format:\n",
    "- Use Markdown headers for numbering the steps (e.g., \"### step 1. Step Title\").\n",
    "- For inline math symbols or expressions, use `\\( \\)` (e.g., `\\( x = y \\)`).\n",
    "- For block math expressions, use `\\[ \\]` (e.g., `\\[ x = \\\\frac{{a}}{{b}} \\]`).\n",
    "- The final answer should be placed in `\\\\boxed{{}}` format, allowing only a single letter for the final answer (e.g., `\\\\boxed{{A}}`).\n",
    "\n",
    "Now, answer the question, ensuring that all reasoning steps and equations follow the format above.\n",
    "Put your final answer in \\\\boxed{{}} and ensure only one letter (such as \"A\", \"B\", or \"C\") is inside the \\\\boxed{{}} (e.g., \\\\boxed{{A}}).\n",
    "\"\"\"\n",
    "\n",
    "payload = {\n",
    "  \"model\":\"gpt-4o\",\n",
    "  \"messages\":[\n",
    "    {\n",
    "      \"role\":\"user\",\n",
    "      \"content\":[\n",
    "        {\n",
    "          \"type\":\"text\",\n",
    "          \"text\": ICL_instruction + task_instruction\n",
    "        },\n",
    "        {\n",
    "          \"type\":\"image_url\",\n",
    "          \"image_url\":{\"url\": f\"data:image/jpeg;base64,{base64_image}\"}\n",
    "        },\n",
    "       {\n",
    "          \"type\": \"text\",\n",
    "          \"text\": \"This image above is associated with the question text.\"\n",
    "        }, \n",
    "\n",
    "      ]\n",
    "    }\n",
    "  ],\n",
    "  \"max_tokens\":1000,\n",
    "}\n",
    "respon = requests.post(url, headers=headers, json=payload)\n",
    "respon.json()\n"
   ]
  }
 ],
 "metadata": {
  "kernelspec": {
   "display_name": ".venv",
   "language": "python",
   "name": "python3"
  },
  "language_info": {
   "codemirror_mode": {
    "name": "ipython",
    "version": 3
   },
   "file_extension": ".py",
   "mimetype": "text/x-python",
   "name": "python",
   "nbconvert_exporter": "python",
   "pygments_lexer": "ipython3",
   "version": "3.12.5"
  }
 },
 "nbformat": 4,
 "nbformat_minor": 2
}
