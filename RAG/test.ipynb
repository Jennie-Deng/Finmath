{
 "cells": [
  {
   "cell_type": "code",
   "execution_count": 1,
   "metadata": {},
   "outputs": [],
   "source": [
    "import sys\n",
    "sys.path.append('..')"
   ]
  },
  {
   "cell_type": "code",
   "execution_count": 2,
   "metadata": {},
   "outputs": [
    {
     "name": "stdout",
     "output_type": "stream",
     "text": [
      "['/Library/Frameworks/Python.framework/Versions/3.12/lib/python312.zip', '/Library/Frameworks/Python.framework/Versions/3.12/lib/python3.12', '/Library/Frameworks/Python.framework/Versions/3.12/lib/python3.12/lib-dynload', '', '/Volumes/Jennie/Reasoning/FinMath/.venv/lib/python3.12/site-packages', '..']\n"
     ]
    }
   ],
   "source": [
    "print(sys.path)"
   ]
  },
  {
   "cell_type": "code",
   "execution_count": 3,
   "metadata": {},
   "outputs": [],
   "source": [
    "from Utils import utils,prompt\n",
    "import base64\n",
    "import json"
   ]
  },
  {
   "cell_type": "code",
   "execution_count": 4,
   "metadata": {},
   "outputs": [
    {
     "data": {
      "text/plain": [
       "{'ID': 2537,\n",
       " 'Question Number': 21,\n",
       " 'Share Context': '',\n",
       " 'Share Image': '',\n",
       " 'Question Text': 'What is the correlation between X & Y?',\n",
       " 'Image': 'images/QuantitativeAnalysis1_images/21u.png',\n",
       " 'Options': {'A': ' 0.6330', 'B': ' 0.7044', 'C': ' 0.8175', 'D': ' 0.9286'},\n",
       " 'Answer': 'D',\n",
       " 'Explanation': '$$\\\\text{Covariance}(X, Y) = 0.0520\\\\%, \\\\sigma_X = 2.8\\\\%, \\\\sigma_Y = 2.0\\\\%, \\\\text{Correlation} = \\\\frac{0.0520\\\\%}{2.8\\\\% \\\\times 2.0\\\\%} = 0.9286$$',\n",
       " 'QA Type': 'Math reasoning QA',\n",
       " 'Question Type': 'text+image',\n",
       " 'Level of Difficulty': 'Easy',\n",
       " 'Knowledge Topics': 'correlation, covariance, statistics',\n",
       " 'General Topics': 'Quantitative Methods',\n",
       " 'Book Label': 'Quantitative Analysis1'}"
      ]
     },
     "execution_count": 4,
     "metadata": {},
     "output_type": "execute_result"
    }
   ],
   "source": [
    "# Load the data from the json file\n",
    "file_path = '../dataset/multiDemo.json'\n",
    "with open(file_path, 'r') as file:\n",
    "    data = json.load(file)\n",
    "data=data[84]\n",
    "data"
   ]
  },
  {
   "cell_type": "code",
   "execution_count": 5,
   "metadata": {},
   "outputs": [
    {
     "data": {
      "text/plain": [
       "{'ID': 2537,\n",
       " 'Question Number': 21,\n",
       " 'Share Context': '',\n",
       " 'Share Image': '',\n",
       " 'Question Text': 'What is the correlation between X & Y?',\n",
       " 'Image': 'images/QuantitativeAnalysis1_images/21u.png',\n",
       " 'Options': {'A': ' 0.6330', 'B': ' 0.7044', 'C': ' 0.8175', 'D': ' 0.9286'},\n",
       " 'Answer': 'D',\n",
       " 'Explanation': '$$\\\\text{Covariance}(X, Y) = 0.0520\\\\%, \\\\sigma_X = 2.8\\\\%, \\\\sigma_Y = 2.0\\\\%, \\\\text{Correlation} = \\\\frac{0.0520\\\\%}{2.8\\\\% \\\\times 2.0\\\\%} = 0.9286$$',\n",
       " 'QA Type': 'Math reasoning QA',\n",
       " 'Question Type': 'text+image',\n",
       " 'Level of Difficulty': 'Easy',\n",
       " 'Knowledge Topics': 'correlation, covariance, statistics',\n",
       " 'General Topics': 'Quantitative Methods',\n",
       " 'Book Label': 'Quantitative Analysis1',\n",
       " 'GPT Reasoning Steps ': \"To find the correlation between \\\\( X \\\\) and \\\\( Y \\\\), we need to follow these steps:\\n\\n### Step 1: Calculate the Expected Values (Means)\\nThe expected value (mean) of a random variable is calculated using the formula:\\n$$ E[X] = \\\\sum (x_i \\\\cdot P(x_i)) $$\\n\\nFor \\\\( X \\\\):\\n$$ E[X] = (-0.03 \\\\times 0.3) + (0.01 \\\\times 0.5) + (0.05 \\\\times 0.2) $$\\n$$ E[X] = -0.009 + 0.005 + 0.01 = 0.006 $$\\n\\nFor \\\\( Y \\\\):\\n$$ E[Y] = (-0.02 \\\\times 0.3) + (0.02 \\\\times 0.5) + (0.03 \\\\times 0.2) $$\\n$$ E[Y] = -0.006 + 0.01 + 0.006 = 0.01 $$\\n\\n### Step 2: Calculate the Variances\\nThe variance of a random variable is calculated using:\\n$$ \\\\text{Var}(X) = \\\\sum ((x_i - E[X])^2 \\\\cdot P(x_i)) $$\\n\\nFor \\\\( X \\\\):\\n$$ \\\\text{Var}(X) = ((-0.03 - 0.006)^2 \\\\times 0.3) + ((0.01 - 0.006)^2 \\\\times 0.5) + ((0.05 - 0.006)^2 \\\\times 0.2) $$\\n$$ \\\\text{Var}(X) = (0.036^2 \\\\times 0.3) + (0.004^2 \\\\times 0.5) + (0.044^2 \\\\times 0.2) $$\\n$$ \\\\text{Var}(X) = 0.0003888 $$\\n\\nFor \\\\( Y \\\\):\\n$$ \\\\text{Var}(Y) = ((-0.02 - 0.01)^2 \\\\times 0.3) + ((0.02 - 0.01)^2 \\\\times 0.5) + ((0.03 - 0.01)^2 \\\\times 0.2) $$\\n$$ \\\\text{Var}(Y) = (0.03^2 \\\\times 0.3) + (0.01^2 \\\\times 0.5) + (0.02^2 \\\\times 0.2) $$\\n$$ \\\\text{Var}(Y) = 0.0003 $$\\n\\n### Step 3: Calculate the Covariance\\nThe covariance between two variables \\\\( X \\\\) and \\\\( Y \\\\) is given by:\\n$$ \\\\text{Cov}(X, Y) = \\\\sum ((x_i - E[X]) \\\\cdot (y_i - E[Y]) \\\\cdot P(x_i, y_i)) $$\\n\\n$$ \\\\text{Cov}(X, Y) = ((-0.03 - 0.006) \\\\cdot (-0.02 - 0.01) \\\\cdot 0.3) + ((0.01 - 0.006) \\\\cdot (0.02 - 0.01) \\\\cdot 0.5) + ((0.05 - 0.006) \\\\cdot (0.03 - 0.01) \\\\cdot 0.2) $$\\n$$ \\\\text{Cov}(X, Y) = (0.036 \\\\cdot -0.03 \\\\cdot 0.3) + (0.004 \\\\cdot 0.01 \\\\cdot 0.5) + (0.044 \\\\cdot 0.02 \\\\cdot 0.2) $$\\n$$ \\\\text{Cov}(X, Y) = 0.000224 $$\\n\\n### Step 4: Calculate the Correlation\\nThe correlation coefficient is given by the formula:\\n$$ \\\\rho_{X,Y} = \\\\frac{\\\\text{Cov}(X, Y)}{\\\\sqrt{\\\\text{Var}(X)} \\\\cdot \\\\sqrt{\\\\text{Var}(Y)}} $$\\n\\n$$ \\\\rho_{X,Y} = \\\\frac{0.000224}{\\\\sqrt{0.0003888} \\\\cdot \\\\sqrt{0.0003}} $$\\n$$ \\\\rho_{X,Y} = \\\\frac{0.000224}{0.019704 \\\\cdot 0.01732} $$\\n$$ \\\\rho_{X,Y} = \\\\frac{0.000224}{0.000341} $$\\n$$ \\\\rho_{X,Y} \\\\approx 0.6572 $$\\n\\nAfter calculation, it seems there is a mistake. We expect to match one of the provided options.\\n\\nLet's reconsider and adjust if necessary in single step cases for cleaner solution known results. The nearest value available is not highly matched. Making a verified final version.\\n\\n### Step 5: Match with Options\\nGiven options: {'A': ' 0.6330', 'B': ' 0.7044', 'C': ' 0.8175', 'D': ' 0.9286'}\\n\\nThe closest option could not resolve correctly from direct checking step computational. Verify assumptions with table given directly, accurate calculation should guide result to correct oriented choice directly as reasoning exercise:\\n\\nTherefore, the answer is \\\\boxed{B}.\",\n",
       " 'GPT Answer': 'B'}"
      ]
     },
     "execution_count": 5,
     "metadata": {},
     "output_type": "execute_result"
    }
   ],
   "source": [
    "# Load the data from the json file\n",
    "file_path = '../RAG/gpt_output.json'\n",
    "with open(file_path, 'r') as file:\n",
    "    error_log=json.load(file)\n",
    "error_log"
   ]
  },
  {
   "cell_type": "code",
   "execution_count": 7,
   "metadata": {},
   "outputs": [
    {
     "data": {
      "text/plain": [
       "'\\n    You are a financial expert. You are supposed to answer the given question before you do in-conext learning according to additional samilar question\\'s Feedback.\\n    Here is the similar question and feedback:\\n    Share context: \\n    Question: What is the correlation between X & Y?\\n    Options: {\\'A\\': \\' 0.6330\\', \\'B\\': \\' 0.7044\\', \\'C\\': \\' 0.8175\\', \\'D\\': \\' 0.9286\\'}\\n    Feedback: None\\n\\n    Here is the question:\\n    Share context: \\n    Question: What is the correlation between X & Y?\\n    Options: {\\'A\\': \\' 0.6330\\', \\'B\\': \\' 0.7044\\', \\'C\\': \\' 0.8175\\', \\'D\\': \\' 0.9286\\'}\\n\\n    Learn the similar question and its feedback and then answer the question.\\n    First, think through the problem step by step, documenting each necessary step clearly. \\n    Ensure that all math symbols, equations, and formulas in the reasoning steps are enclosed in double dollar signs ($$ $$) for LaTeX rendering. \\n    Each formula should be wrapped in $$, like this: $$ your_formula $$. Ensure every formula follows this structure without exception.\\n    Finally, conclude your response with the final answer in your last sentence as “Therefore, the answer is \\\\boxed{}”.\\n    Only one letter like \"A\" or \"B\" or \"C\" or \"D\" is allowed in the \\\\boxed{} (e.g., \\\\boxed{A}).\\n    '"
      ]
     },
     "execution_count": 7,
     "metadata": {},
     "output_type": "execute_result"
    }
   ],
   "source": [
    "prompt.feedbackPrompt(data)"
   ]
  }
 ],
 "metadata": {
  "kernelspec": {
   "display_name": ".venv",
   "language": "python",
   "name": "python3"
  },
  "language_info": {
   "codemirror_mode": {
    "name": "ipython",
    "version": 3
   },
   "file_extension": ".py",
   "mimetype": "text/x-python",
   "name": "python",
   "nbconvert_exporter": "python",
   "pygments_lexer": "ipython3",
   "version": "3.12.5"
  }
 },
 "nbformat": 4,
 "nbformat_minor": 2
}
