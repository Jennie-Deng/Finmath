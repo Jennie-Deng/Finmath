{
 "cells": [
  {
   "cell_type": "code",
   "execution_count": null,
   "id": "initial_id",
   "metadata": {
    "collapsed": true
   },
   "outputs": [],
   "source": [
    "# 检查analysis 是否可以渲染\n",
    "import pandas as pd\n",
    "df = pd.read_json('/content/Foundationofriskmanagement.json')\n",
    "import json\n",
    "import pandas as pd\n",
    "# Adjust the file path to use the correct one provided by the user\n",
    "file_path = '/content/Foundationofriskmanagement.json'\n",
    "\n",
    "# Load the JSON file from the specified path\n",
    "with open(file_path, 'r') as json_file:\n",
    "    data = json.load(json_file)\n",
    "\n",
    "# Convert the JSON data into a list of dictionaries with the required fields\n",
    "data_list = []\n",
    "for key, item in data.items():\n",
    "    data_list.append({\n",
    "        \"ID\": key,\n",
    "        \"question\": item[\"question\"][\"text\"],\n",
    "        \"image\": item[\"question\"].get(\"image\", \"\"),\n",
    "        \"options\": item[\"question\"].get(\"Options\", []),\n",
    "        \"answer\": item.get(\"answer\", \"\"),\n",
    "        \"analysis\": item.get(\"analysis\", \"\"),\n",
    "        \"QA type\": item.get(\"QA type\", \"\"),\n",
    "        \"knowledge topics\": item.get(\"knowledge topics\", \"\"),\n",
    "        \"book label\": item.get(\"book label\", \"\"),\n",
    "        \"level of difficulty\": item.get(\"level of difficulty\", \"\"),\n",
    "        \"question type\": item.get(\"question type\", \"\")\n",
    "    })\n",
    "\n",
    "# Convert the list of dictionaries into a DataFrame\n",
    "df = pd.DataFrame(data_list)\n",
    "from IPython.display import display, Markdown\n",
    "for index, row in df.iterrows():\n",
    "  print(f\"Question {index}\")\n",
    "    # Assuming 'ID' is a column in your DataFrame\n",
    "  if 'ID' in df.columns:\n",
    "    print(row['ID'])\n",
    "  # Assuming 'analysis' is a column in your DataFrame\n",
    "  if 'analysis' in df.columns:\n",
    "    display(Markdown(row['analysis']))\n",
    "  print(\"----------------------------------\")"
   ]
  },
  {
   "metadata": {},
   "cell_type": "code",
   "outputs": [],
   "execution_count": null,
   "source": "",
   "id": "8e19a2a22860334a"
  },
  {
   "metadata": {},
   "cell_type": "code",
   "outputs": [],
   "execution_count": null,
   "source": "",
   "id": "83185d8279bd4683"
  },
  {
   "metadata": {},
   "cell_type": "code",
   "outputs": [],
   "execution_count": null,
   "source": "",
   "id": "c7ebfdb0f93d16af"
  },
  {
   "metadata": {
    "ExecuteTime": {
     "end_time": "2024-10-11T02:21:41.060644Z",
     "start_time": "2024-10-11T02:21:41.042361Z"
    }
   },
   "cell_type": "code",
   "source": "print(\"Steps to calculate terminal cash flows are as follows.1.  Total size ofcollateral\\npool at origination: 100 x $1,000,000=$100,000,0002.  Senior tranche= $80,000,000    \\nJunior tranche= $15,000,000     Equity tranche = $5,000,0003.  Interest fromloans: 92 x 8%\\nx $1,000,000 = $7,360,0004.  Redemption atpar: 92 x $1,000,000 = $92,000,0005.  Recovery\\ninfinal year: 2 x 40%x $1,000,000 = $800,0006.  Value ofovercollateralization at end of final\\nyear: $10,000,000 x 1.04 = $10,400,0007.  Total availableto satisfy all claims =\\n$110,560,0008.  Senior claim=$80,000,000 < $110,560,000.  Seniorclaim is satisfied without\\nimpairment.9.  Junior claim= $15,000,000< $110,560,000 - $80,000,000, so junior claim is\\nsatisfied.  10. Equity claim= $110,560,000 - $80,000,000 -$15,000,000 = $15,560,000.\")",
   "id": "ebd14acbdae4a05",
   "outputs": [
    {
     "name": "stdout",
     "output_type": "stream",
     "text": [
      "Steps to calculate terminal cash flows are as follows.1.  Total size ofcollateral\n",
      "pool at origination: 100 x $1,000,000=$100,000,0002.  Senior tranche= $80,000,000    \n",
      "Junior tranche= $15,000,000     Equity tranche = $5,000,0003.  Interest fromloans: 92 x 8%\n",
      "x $1,000,000 = $7,360,0004.  Redemption atpar: 92 x $1,000,000 = $92,000,0005.  Recovery\n",
      "infinal year: 2 x 40%x $1,000,000 = $800,0006.  Value ofovercollateralization at end of final\n",
      "year: $10,000,000 x 1.04 = $10,400,0007.  Total availableto satisfy all claims =\n",
      "$110,560,0008.  Senior claim=$80,000,000 < $110,560,000.  Seniorclaim is satisfied without\n",
      "impairment.9.  Junior claim= $15,000,000< $110,560,000 - $80,000,000, so junior claim is\n",
      "satisfied.  10. Equity claim= $110,560,000 - $80,000,000 -$15,000,000 = $15,560,000.\n"
     ]
    }
   ],
   "execution_count": 2
  },
  {
   "metadata": {
    "ExecuteTime": {
     "end_time": "2024-10-11T03:34:08.899250Z",
     "start_time": "2024-10-11T03:34:08.887392Z"
    }
   },
   "cell_type": "code",
   "source": "from IPython.display import Markdown, display",
   "id": "194a8c8361b83d3e",
   "outputs": [],
   "execution_count": 25
  },
  {
   "metadata": {
    "ExecuteTime": {
     "end_time": "2024-10-11T03:33:52.016314Z",
     "start_time": "2024-10-11T03:33:51.999986Z"
    }
   },
   "cell_type": "code",
   "source": "display(Markdown(\"Steps to calculate terminal cash flows are as follows.1.  Total size ofcollateral\\npool at origination: 100 x $1,000,000=$100,000,0002.  Senior tranche= $80,000,000    \\nJunior tranche= $15,000,000     Equity tranche = $5,000,0003.  Interest fromloans: 92 x 8%\\nx $1,000,000 = $7,360,0004.  Redemption atpar: 92 x $1,000,000 = $92,000,0005.  Recovery\\ninfinal year: 2 x 40%x $1,000,000 = $800,0006.  Value ofovercollateralization at end of final\\nyear: $10,000,000 x 1.04 = $10,400,0007.  Total availableto satisfy all claims =\\n$110,560,0008.  Senior claim=$80,000,000 < $110,560,000.  Seniorclaim is satisfied without\\nimpairment.9.  Junior claim= $15,000,000< $110,560,000 - $80,000,000, so junior claim is\\nsatisfied.  10. Equity claim= $110,560,000 - $80,000,000 -$15,000,000 = $15,560,000.\"))",
   "id": "ce7f10e05dc09fc5",
   "outputs": [
    {
     "data": {
      "text/plain": [
       "<IPython.core.display.Markdown object>"
      ],
      "text/markdown": "Steps to calculate terminal cash flows are as follows.1.  Total size ofcollateral\npool at origination: 100 x $1,000,000=$100,000,0002.  Senior tranche= $80,000,000    \nJunior tranche= $15,000,000     Equity tranche = $5,000,0003.  Interest fromloans: 92 x 8%\nx $1,000,000 = $7,360,0004.  Redemption atpar: 92 x $1,000,000 = $92,000,0005.  Recovery\ninfinal year: 2 x 40%x $1,000,000 = $800,0006.  Value ofovercollateralization at end of final\nyear: $10,000,000 x 1.04 = $10,400,0007.  Total availableto satisfy all claims =\n$110,560,0008.  Senior claim=$80,000,000 < $110,560,000.  Seniorclaim is satisfied without\nimpairment.9.  Junior claim= $15,000,000< $110,560,000 - $80,000,000, so junior claim is\nsatisfied.  10. Equity claim= $110,560,000 - $80,000,000 -$15,000,000 = $15,560,000."
     },
     "metadata": {},
     "output_type": "display_data"
    }
   ],
   "execution_count": 24
  }
 ],
 "metadata": {
  "kernelspec": {
   "display_name": "Python 3",
   "language": "python",
   "name": "python3"
  },
  "language_info": {
   "codemirror_mode": {
    "name": "ipython",
    "version": 2
   },
   "file_extension": ".py",
   "mimetype": "text/x-python",
   "name": "python",
   "nbconvert_exporter": "python",
   "pygments_lexer": "ipython2",
   "version": "2.7.6"
  }
 },
 "nbformat": 4,
 "nbformat_minor": 5
}
