{
 "cells": [
  {
   "cell_type": "code",
   "execution_count": null,
   "id": "initial_id",
   "metadata": {
    "collapsed": true
   },
   "outputs": [],
   "source": [
    "# 检查analysis 是否可以渲染\n",
    "import pandas as pd\n",
    "df = pd.read_json('/content/Foundationofriskmanagement.json')\n",
    "import json\n",
    "import pandas as pd\n",
    "# Adjust the file path to use the correct one provided by the user\n",
    "file_path = '/content/Foundationofriskmanagement.json'\n",
    "\n",
    "# Load the JSON file from the specified path\n",
    "with open(file_path, 'r') as json_file:\n",
    "    data = json.load(json_file)\n",
    "\n",
    "# Convert the JSON data into a list of dictionaries with the required fields\n",
    "data_list = []\n",
    "for key, item in data.items():\n",
    "    data_list.append({\n",
    "        \"ID\": key,\n",
    "        \"question\": item[\"question\"][\"text\"],\n",
    "        \"image\": item[\"question\"].get(\"image\", \"\"),\n",
    "        \"options\": item[\"question\"].get(\"Options\", []),\n",
    "        \"answer\": item.get(\"answer\", \"\"),\n",
    "        \"analysis\": item.get(\"analysis\", \"\"),\n",
    "        \"QA type\": item.get(\"QA type\", \"\"),\n",
    "        \"knowledge topics\": item.get(\"knowledge topics\", \"\"),\n",
    "        \"book label\": item.get(\"book label\", \"\"),\n",
    "        \"level of difficulty\": item.get(\"level of difficulty\", \"\"),\n",
    "        \"question type\": item.get(\"question type\", \"\")\n",
    "    })\n",
    "\n",
    "# Convert the list of dictionaries into a DataFrame\n",
    "df = pd.DataFrame(data_list)\n",
    "from IPython.display import display, Markdown\n",
    "for index, row in df.iterrows():\n",
    "  print(f\"Question {index}\")\n",
    "    # Assuming 'ID' is a column in your DataFrame\n",
    "  if 'ID' in df.columns:\n",
    "    print(row['ID'])\n",
    "  # Assuming 'analysis' is a column in your DataFrame\n",
    "  if 'analysis' in df.columns:\n",
    "    display(Markdown(row['analysis']))\n",
    "  print(\"----------------------------------\")"
   ]
  }
 ],
 "metadata": {
  "kernelspec": {
   "display_name": "Python 3",
   "language": "python",
   "name": "python3"
  },
  "language_info": {
   "codemirror_mode": {
    "name": "ipython",
    "version": 2
   },
   "file_extension": ".py",
   "mimetype": "text/x-python",
   "name": "python",
   "nbconvert_exporter": "python",
   "pygments_lexer": "ipython2",
   "version": "2.7.6"
  }
 },
 "nbformat": 4,
 "nbformat_minor": 5
}
