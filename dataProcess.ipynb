{
 "cells": [
  {
   "cell_type": "code",
   "execution_count": 1,
   "id": "82c3e60831271abf",
   "metadata": {
    "ExecuteTime": {
     "end_time": "2024-10-11T03:36:44.528515Z",
     "start_time": "2024-10-11T03:36:44.458522Z"
    }
   },
   "outputs": [],
   "source": [
    "import pandas as pd\n",
    "from IPython.display import Markdown, Image, display\n",
    "import ast"
   ]
  },
  {
   "cell_type": "markdown",
   "id": "ee686e4c4930e60",
   "metadata": {},
   "source": [
    "# 转换CSV 数据"
   ]
  },
  {
   "cell_type": "code",
   "execution_count": 92,
   "id": "36b55bae8d8570f",
   "metadata": {
    "ExecuteTime": {
     "end_time": "2024-10-11T03:36:54.327230Z",
     "start_time": "2024-10-11T03:36:52.099946Z"
    }
   },
   "outputs": [
    {
     "data": {
      "text/html": [
       "<div>\n",
       "<style scoped>\n",
       "    .dataframe tbody tr th:only-of-type {\n",
       "        vertical-align: middle;\n",
       "    }\n",
       "\n",
       "    .dataframe tbody tr th {\n",
       "        vertical-align: top;\n",
       "    }\n",
       "\n",
       "    .dataframe thead th {\n",
       "        text-align: right;\n",
       "    }\n",
       "</style>\n",
       "<table border=\"1\" class=\"dataframe\">\n",
       "  <thead>\n",
       "    <tr style=\"text-align: right;\">\n",
       "      <th></th>\n",
       "      <th>ID</th>\n",
       "      <th>Question Number</th>\n",
       "      <th>Share Context</th>\n",
       "      <th>Share Image</th>\n",
       "      <th>Question Text</th>\n",
       "      <th>Image</th>\n",
       "      <th>Options</th>\n",
       "      <th>Answer</th>\n",
       "      <th>Explanation</th>\n",
       "      <th>QA Type</th>\n",
       "      <th>Question Type</th>\n",
       "      <th>Level of Difficulty</th>\n",
       "      <th>Knowledge Topics</th>\n",
       "      <th>General Topics</th>\n",
       "      <th>Book Label</th>\n",
       "    </tr>\n",
       "  </thead>\n",
       "  <tbody>\n",
       "    <tr>\n",
       "      <th>0</th>\n",
       "      <td>0</td>\n",
       "      <td>1</td>\n",
       "      <td>Neshie Wakuluk is an investment strategist who...</td>\n",
       "      <td>[./dataset/images/CapitalMarketExpectations_im...</td>\n",
       "      <td>Wakuluk most likely seeks to mitigate which of...</td>\n",
       "      <td></td>\n",
       "      <td>{'A': 'Availability', './dataset/images/B': 'T...</td>\n",
       "      <td>A</td>\n",
       "      <td>Wakuluk started her career when the global mar...</td>\n",
       "      <td>Knowledge reasoning QA</td>\n",
       "      <td>text+image</td>\n",
       "      <td>Easy</td>\n",
       "      <td>Behavioral finance, Cognitive biases, Decision...</td>\n",
       "      <td>Capital Market Expectations</td>\n",
       "      <td>Capital Market Expectations</td>\n",
       "    </tr>\n",
       "    <tr>\n",
       "      <th>1</th>\n",
       "      <td>1</td>\n",
       "      <td>2</td>\n",
       "      <td>Neshie Wakuluk is an investment strategist who...</td>\n",
       "      <td>[./dataset/images/CapitalMarketExpectations_im...</td>\n",
       "      <td>Wakuluk’s approach to economic forecasting:</td>\n",
       "      <td></td>\n",
       "      <td>{'A': 'is flexible and limited in complexity.'...</td>\n",
       "      <td>B</td>\n",
       "      <td>Wakuluk’s approach to economic forecasting uti...</td>\n",
       "      <td>Knowledge reasoning QA</td>\n",
       "      <td>text+image</td>\n",
       "      <td>Easy</td>\n",
       "      <td>Econometric Models, Leading Indicators, Checkl...</td>\n",
       "      <td>Capital Market Expectations</td>\n",
       "      <td>Capital Market Expectations</td>\n",
       "    </tr>\n",
       "    <tr>\n",
       "      <th>2</th>\n",
       "      <td>2</td>\n",
       "      <td>3</td>\n",
       "      <td>Neshie Wakuluk is an investment strategist who...</td>\n",
       "      <td>[./dataset/images/CapitalMarketExpectations_im...</td>\n",
       "      <td>Wakuluk is most likely to make significant adj...</td>\n",
       "      <td></td>\n",
       "      <td>{'A': 'Country Y only', './dataset/images/B': ...</td>\n",
       "      <td>B</td>\n",
       "      <td>Country Z is a developing market. Less-develop...</td>\n",
       "      <td>Knowledge reasoning QA</td>\n",
       "      <td>text+image</td>\n",
       "      <td>Easy</td>\n",
       "      <td>Emerging Markets, Structural Changes, Market A...</td>\n",
       "      <td>Capital Market Expectations</td>\n",
       "      <td>Capital Market Expectations</td>\n",
       "    </tr>\n",
       "    <tr>\n",
       "      <th>3</th>\n",
       "      <td>3</td>\n",
       "      <td>4</td>\n",
       "      <td>Neshie Wakuluk is an investment strategist who...</td>\n",
       "      <td>[./dataset/images/CapitalMarketExpectations_im...</td>\n",
       "      <td>Based on Exhibit 1 and Wakuluk’s assumptions a...</td>\n",
       "      <td></td>\n",
       "      <td>{'A': 'low and bottoming.', './dataset/images/...</td>\n",
       "      <td>A</td>\n",
       "      <td>Country X is predicted to be in the initial re...</td>\n",
       "      <td>Knowledge reasoning QA</td>\n",
       "      <td>text+image</td>\n",
       "      <td>Easy</td>\n",
       "      <td>Business cycle phases, Short-term interest rat...</td>\n",
       "      <td>Capital Market Expectations</td>\n",
       "      <td>Capital Market Expectations</td>\n",
       "    </tr>\n",
       "    <tr>\n",
       "      <th>4</th>\n",
       "      <td>4</td>\n",
       "      <td>5</td>\n",
       "      <td>Neshie Wakuluk is an investment strategist who...</td>\n",
       "      <td>[./dataset/images/CapitalMarketExpectations_im...</td>\n",
       "      <td>Based on Exhibit 1, what capital market effect...</td>\n",
       "      <td></td>\n",
       "      <td>{'A': 'Cyclical assets attract investors.', '....</td>\n",
       "      <td>B</td>\n",
       "      <td>Wakuluk’s model predicts that Country Z’s busi...</td>\n",
       "      <td>Knowledge reasoning QA</td>\n",
       "      <td>text+image</td>\n",
       "      <td>Easy</td>\n",
       "      <td>Business cycles, Monetary policy, Yield curve</td>\n",
       "      <td>Capital Market Expectations</td>\n",
       "      <td>Capital Market Expectations</td>\n",
       "    </tr>\n",
       "    <tr>\n",
       "      <th>...</th>\n",
       "      <td>...</td>\n",
       "      <td>...</td>\n",
       "      <td>...</td>\n",
       "      <td>...</td>\n",
       "      <td>...</td>\n",
       "      <td>...</td>\n",
       "      <td>...</td>\n",
       "      <td>...</td>\n",
       "      <td>...</td>\n",
       "      <td>...</td>\n",
       "      <td>...</td>\n",
       "      <td>...</td>\n",
       "      <td>...</td>\n",
       "      <td>...</td>\n",
       "      <td>...</td>\n",
       "    </tr>\n",
       "    <tr>\n",
       "      <th>3472</th>\n",
       "      <td>3472</td>\n",
       "      <td>109</td>\n",
       "      <td></td>\n",
       "      <td></td>\n",
       "      <td>Piper Hook, a bank examiner, is trying to make...</td>\n",
       "      <td></td>\n",
       "      <td>{'A': 'Multiplicity.', 'B': 'Efficiency.', 'C'...</td>\n",
       "      <td>C</td>\n",
       "      <td>One of the challenges of designing useful stre...</td>\n",
       "      <td>Knowledge reasoning QA</td>\n",
       "      <td>text only</td>\n",
       "      <td>Easy</td>\n",
       "      <td>Stress Testing, Capital Adequacy, Scenario Ana...</td>\n",
       "      <td>Operational Risk and Resiliency</td>\n",
       "      <td>Operational Riskand Resiliency1</td>\n",
       "    </tr>\n",
       "    <tr>\n",
       "      <th>3473</th>\n",
       "      <td>3473</td>\n",
       "      <td>110</td>\n",
       "      <td></td>\n",
       "      <td></td>\n",
       "      <td>Backtesting is most appropriately classified i...</td>\n",
       "      <td></td>\n",
       "      <td>{'A': 'Evaluation of conceptual soundness.', '...</td>\n",
       "      <td>C</td>\n",
       "      <td>Backtesting is a specific type of outcomes ana...</td>\n",
       "      <td>Knowledge reasoning QA</td>\n",
       "      <td>text only</td>\n",
       "      <td>Easy</td>\n",
       "      <td>Backtesting, Outcomes analysis, Validation pro...</td>\n",
       "      <td>Operational Risk and Resiliency</td>\n",
       "      <td>Operational Riskand Resiliency1</td>\n",
       "    </tr>\n",
       "    <tr>\n",
       "      <th>3474</th>\n",
       "      <td>3474</td>\n",
       "      <td>111</td>\n",
       "      <td></td>\n",
       "      <td></td>\n",
       "      <td>Pillar III of the Basel II accord includes all...</td>\n",
       "      <td></td>\n",
       "      <td>{'A': 'A formal disclosure policy should be es...</td>\n",
       "      <td>B</td>\n",
       "      <td>The requirement to operate above minimum regul...</td>\n",
       "      <td>Knowledge reasoning QA</td>\n",
       "      <td>text only</td>\n",
       "      <td>Easy</td>\n",
       "      <td>Basel II Pillars, Market Discipline, Regulator...</td>\n",
       "      <td>Operational Risk and Resiliency</td>\n",
       "      <td>Operational Riskand Resiliency1</td>\n",
       "    </tr>\n",
       "    <tr>\n",
       "      <th>3475</th>\n",
       "      <td>3475</td>\n",
       "      <td>112</td>\n",
       "      <td></td>\n",
       "      <td></td>\n",
       "      <td>The ability of financial firms and systems to ...</td>\n",
       "      <td></td>\n",
       "      <td>{'A': 'a dynamic environment and more reliance...</td>\n",
       "      <td>A</td>\n",
       "      <td>Changing dynamic business environments combine...</td>\n",
       "      <td>Knowledge reasoning QA</td>\n",
       "      <td>text only</td>\n",
       "      <td>Easy</td>\n",
       "      <td>Operational Risk Management, Business Continui...</td>\n",
       "      <td>Operational Risk and Resiliency</td>\n",
       "      <td>Operational Riskand Resiliency1</td>\n",
       "    </tr>\n",
       "    <tr>\n",
       "      <th>3476</th>\n",
       "      <td>3476</td>\n",
       "      <td>113</td>\n",
       "      <td></td>\n",
       "      <td></td>\n",
       "      <td>When performing due diligence on a service pro...</td>\n",
       "      <td></td>\n",
       "      <td>{'A': 'Business background, reputation, and st...</td>\n",
       "      <td>B</td>\n",
       "      <td>●A review of a potential service provider's fi...</td>\n",
       "      <td>Knowledge reasoning QA</td>\n",
       "      <td>text only</td>\n",
       "      <td>Easy</td>\n",
       "      <td>Due Diligence, Financial Performance, Risk Man...</td>\n",
       "      <td>Operational Risk and Resiliency</td>\n",
       "      <td>Operational Riskand Resiliency1</td>\n",
       "    </tr>\n",
       "  </tbody>\n",
       "</table>\n",
       "<p>3477 rows × 15 columns</p>\n",
       "</div>"
      ],
      "text/plain": [
       "        ID  Question Number  \\\n",
       "0        0                1   \n",
       "1        1                2   \n",
       "2        2                3   \n",
       "3        3                4   \n",
       "4        4                5   \n",
       "...    ...              ...   \n",
       "3472  3472              109   \n",
       "3473  3473              110   \n",
       "3474  3474              111   \n",
       "3475  3475              112   \n",
       "3476  3476              113   \n",
       "\n",
       "                                          Share Context  \\\n",
       "0     Neshie Wakuluk is an investment strategist who...   \n",
       "1     Neshie Wakuluk is an investment strategist who...   \n",
       "2     Neshie Wakuluk is an investment strategist who...   \n",
       "3     Neshie Wakuluk is an investment strategist who...   \n",
       "4     Neshie Wakuluk is an investment strategist who...   \n",
       "...                                                 ...   \n",
       "3472                                                      \n",
       "3473                                                      \n",
       "3474                                                      \n",
       "3475                                                      \n",
       "3476                                                      \n",
       "\n",
       "                                            Share Image  \\\n",
       "0     [./dataset/images/CapitalMarketExpectations_im...   \n",
       "1     [./dataset/images/CapitalMarketExpectations_im...   \n",
       "2     [./dataset/images/CapitalMarketExpectations_im...   \n",
       "3     [./dataset/images/CapitalMarketExpectations_im...   \n",
       "4     [./dataset/images/CapitalMarketExpectations_im...   \n",
       "...                                                 ...   \n",
       "3472                                                      \n",
       "3473                                                      \n",
       "3474                                                      \n",
       "3475                                                      \n",
       "3476                                                      \n",
       "\n",
       "                                          Question Text Image  \\\n",
       "0     Wakuluk most likely seeks to mitigate which of...         \n",
       "1           Wakuluk’s approach to economic forecasting:         \n",
       "2     Wakuluk is most likely to make significant adj...         \n",
       "3     Based on Exhibit 1 and Wakuluk’s assumptions a...         \n",
       "4     Based on Exhibit 1, what capital market effect...         \n",
       "...                                                 ...   ...   \n",
       "3472  Piper Hook, a bank examiner, is trying to make...         \n",
       "3473  Backtesting is most appropriately classified i...         \n",
       "3474  Pillar III of the Basel II accord includes all...         \n",
       "3475  The ability of financial firms and systems to ...         \n",
       "3476  When performing due diligence on a service pro...         \n",
       "\n",
       "                                                Options Answer  \\\n",
       "0     {'A': 'Availability', './dataset/images/B': 'T...      A   \n",
       "1     {'A': 'is flexible and limited in complexity.'...      B   \n",
       "2     {'A': 'Country Y only', './dataset/images/B': ...      B   \n",
       "3     {'A': 'low and bottoming.', './dataset/images/...      A   \n",
       "4     {'A': 'Cyclical assets attract investors.', '....      B   \n",
       "...                                                 ...    ...   \n",
       "3472  {'A': 'Multiplicity.', 'B': 'Efficiency.', 'C'...      C   \n",
       "3473  {'A': 'Evaluation of conceptual soundness.', '...      C   \n",
       "3474  {'A': 'A formal disclosure policy should be es...      B   \n",
       "3475  {'A': 'a dynamic environment and more reliance...      A   \n",
       "3476  {'A': 'Business background, reputation, and st...      B   \n",
       "\n",
       "                                            Explanation  \\\n",
       "0     Wakuluk started her career when the global mar...   \n",
       "1     Wakuluk’s approach to economic forecasting uti...   \n",
       "2     Country Z is a developing market. Less-develop...   \n",
       "3     Country X is predicted to be in the initial re...   \n",
       "4     Wakuluk’s model predicts that Country Z’s busi...   \n",
       "...                                                 ...   \n",
       "3472  One of the challenges of designing useful stre...   \n",
       "3473  Backtesting is a specific type of outcomes ana...   \n",
       "3474  The requirement to operate above minimum regul...   \n",
       "3475  Changing dynamic business environments combine...   \n",
       "3476  ●A review of a potential service provider's fi...   \n",
       "\n",
       "                     QA Type Question Type Level of Difficulty  \\\n",
       "0     Knowledge reasoning QA    text+image                Easy   \n",
       "1     Knowledge reasoning QA    text+image                Easy   \n",
       "2     Knowledge reasoning QA    text+image                Easy   \n",
       "3     Knowledge reasoning QA    text+image                Easy   \n",
       "4     Knowledge reasoning QA    text+image                Easy   \n",
       "...                      ...           ...                 ...   \n",
       "3472  Knowledge reasoning QA     text only                Easy   \n",
       "3473  Knowledge reasoning QA     text only                Easy   \n",
       "3474  Knowledge reasoning QA     text only                Easy   \n",
       "3475  Knowledge reasoning QA     text only                Easy   \n",
       "3476  Knowledge reasoning QA     text only                Easy   \n",
       "\n",
       "                                       Knowledge Topics  \\\n",
       "0     Behavioral finance, Cognitive biases, Decision...   \n",
       "1     Econometric Models, Leading Indicators, Checkl...   \n",
       "2     Emerging Markets, Structural Changes, Market A...   \n",
       "3     Business cycle phases, Short-term interest rat...   \n",
       "4         Business cycles, Monetary policy, Yield curve   \n",
       "...                                                 ...   \n",
       "3472  Stress Testing, Capital Adequacy, Scenario Ana...   \n",
       "3473  Backtesting, Outcomes analysis, Validation pro...   \n",
       "3474  Basel II Pillars, Market Discipline, Regulator...   \n",
       "3475  Operational Risk Management, Business Continui...   \n",
       "3476  Due Diligence, Financial Performance, Risk Man...   \n",
       "\n",
       "                       General Topics                       Book Label  \n",
       "0         Capital Market Expectations      Capital Market Expectations  \n",
       "1         Capital Market Expectations      Capital Market Expectations  \n",
       "2         Capital Market Expectations      Capital Market Expectations  \n",
       "3         Capital Market Expectations      Capital Market Expectations  \n",
       "4         Capital Market Expectations      Capital Market Expectations  \n",
       "...                               ...                              ...  \n",
       "3472  Operational Risk and Resiliency  Operational Riskand Resiliency1  \n",
       "3473  Operational Risk and Resiliency  Operational Riskand Resiliency1  \n",
       "3474  Operational Risk and Resiliency  Operational Riskand Resiliency1  \n",
       "3475  Operational Risk and Resiliency  Operational Riskand Resiliency1  \n",
       "3476  Operational Risk and Resiliency  Operational Riskand Resiliency1  \n",
       "\n",
       "[3477 rows x 15 columns]"
      ]
     },
     "execution_count": 92,
     "metadata": {},
     "output_type": "execute_result"
    }
   ],
   "source": [
    "# Load the CSV file\n",
    "df1 = pd.read_csv('dataset/data.csv', dtype=str)\n",
    "df1['ID'] = df1['ID'].astype(int)\n",
    "df1['Question Number'] = df1['Question Number'].astype(int)\n",
    "df1['Share Context'] = df1['Share Context'].fillna('')\n",
    "df1['Image'] = df1['Image'].fillna('')\n",
    "df1['Share Image'] = df1['Share Image'].fillna('')\n",
    "\n",
    "# Function to safely evaluate the string to a dictionary\n",
    "def safe_literal_eval(val):\n",
    "    try:\n",
    "        return ast.literal_eval(val)\n",
    "    except (ValueError, SyntaxError):\n",
    "        return \"error\"\n",
    "\n",
    "\n",
    "# Apply the function to the 'Options' column\n",
    "df1['Options'] = df1['Options'].apply(safe_literal_eval)\n",
    "\n",
    "# Function to safely evaluate the string to a list\n",
    "def safe_literal_eval(val):\n",
    "    try:\n",
    "        return ast.literal_eval(val)\n",
    "    except (ValueError, SyntaxError):\n",
    "        return val\n",
    "\n",
    "\n",
    "# Apply the function to the 'Share Image' column\n",
    "df1['Share Image'] = df1['Share Image'].apply(safe_literal_eval)\n",
    "df1"
   ]
  },
  {
   "cell_type": "code",
   "execution_count": 93,
   "id": "4a18e42e",
   "metadata": {},
   "outputs": [
    {
     "data": {
      "text/plain": [
       "'$$ARAROC = \\\\\\\\frac{(RARAOC - R_F)}{\\\\\\\\beta_E} = \\\\\\\\frac{0.14 - 0.055}{1.3} = 0.06538 \\\\\\\\text{, or 6.54\\\\\\\\%}.$$'"
      ]
     },
     "execution_count": 93,
     "metadata": {},
     "output_type": "execute_result"
    }
   ],
   "source": [
    "df1['Explanation'][2145]"
   ]
  },
  {
   "cell_type": "code",
   "execution_count": 94,
   "id": "22a0745db13f3a06",
   "metadata": {
    "ExecuteTime": {
     "end_time": "2024-10-11T01:33:08.801022Z",
     "start_time": "2024-10-11T01:33:08.311686Z"
    }
   },
   "outputs": [
    {
     "name": "stdout",
     "output_type": "stream",
     "text": [
      "File deleted successfully.\n"
     ]
    }
   ],
   "source": [
    "import json\n",
    "# Convert DataFrame to dictionary\n",
    "data_dict = df1.to_dict(orient='records')\n",
    "\n",
    "import os\n",
    "\n",
    "# Check if the file exists\n",
    "if os.path.exists('dataset/data_v1.json'):\n",
    "    # Delete the file\n",
    "    os.remove('dataset/data_v1.json')\n",
    "    print(\"File deleted successfully.\")\n",
    "else:\n",
    "    print(\"File does not exist.\")\n",
    "# Write dictionary to JSON file with UTF-8 encoding\n",
    "with open('dataset/data_v1.json', 'w', encoding='utf-8') as json_file:\n",
    "    json.dump(data_dict, json_file, ensure_ascii=False, indent=4)"
   ]
  },
  {
   "cell_type": "code",
   "execution_count": 95,
   "id": "c7e42825",
   "metadata": {},
   "outputs": [
    {
     "data": {
      "text/plain": [
       "{'ID': 2145,\n",
       " 'Question Number': 42,\n",
       " 'Share Context': '',\n",
       " 'Share Image': '',\n",
       " 'Question Text': 'A firm has determined that the risk-adjusted return on capital (RAROC) for a particular\\nproject is 14%. To evaluate whether the firm should accept the project, an analyst determines\\nthat the firm’s beta is 1.3, the expected market return is 13%, and the risk-free interest\\nrate is 5.5%. If the analyst uses the adjusted RAROC (ARAROC) methodology to make an\\naccept/reject decision, should the project be accepted?',\n",
       " 'Image': '',\n",
       " 'Options': {'A': 'No, because the computed ARAROC is approximately 1 % less than the market\\\\nrisk premium.',\n",
       "  'B': 'No, because the RAROC is 1.25% less than the return predicted by the CAPM.',\n",
       "  'C': 'Yes, because the computed ARAROC is approximately 1 % more than the market\\\\nrisk premium.',\n",
       "  'D': 'Yes, because the ARAROC is approximately 4% more than the return predicted\\\\nby the CAPM.'},\n",
       " 'Answer': 'A',\n",
       " 'Explanation': '$$ARAROC = \\\\\\\\frac{(RARAOC - R_F)}{\\\\\\\\beta_E} = \\\\\\\\frac{0.14 - 0.055}{1.3} = 0.06538 \\\\\\\\text{, or 6.54\\\\\\\\%}.$$',\n",
       " 'QA Type': 'Math reasoning QA',\n",
       " 'Question Type': 'text only',\n",
       " 'Level of Difficulty': 'Hard',\n",
       " 'Knowledge Topics': 'Capital Asset Pricing Model (CAPM), Risk-Adjusted Return on Capital (RAROC), Adjusted RAROC (ARAROC)',\n",
       " 'General Topics': 'Operational Risk',\n",
       " 'Book Label': 'Operational Riskand Resiliency2'}"
      ]
     },
     "execution_count": 95,
     "metadata": {},
     "output_type": "execute_result"
    }
   ],
   "source": [
    "data_dict[2145]"
   ]
  },
  {
   "cell_type": "markdown",
   "id": "fa50099521fa4667",
   "metadata": {},
   "source": [
    "# 读取数据"
   ]
  },
  {
   "cell_type": "code",
   "execution_count": 80,
   "id": "90146d5a6595b0ac",
   "metadata": {
    "ExecuteTime": {
     "end_time": "2024-10-11T03:37:03.227932Z",
     "start_time": "2024-10-11T03:37:02.637919Z"
    }
   },
   "outputs": [],
   "source": [
    "data = pd.read_json('dataset/data_v1.json')"
   ]
  },
  {
   "cell_type": "code",
   "execution_count": 81,
   "id": "d0c433ae",
   "metadata": {},
   "outputs": [
    {
     "data": {
      "text/plain": [
       "'$$ARAROC = \\\\\\\\frac{(RARAOC - R_F)}{\\\\\\\\beta_E} = \\\\\\\\frac{0.14 - 0.055}{1.3} = 0.06538 \\\\\\\\text{, or 6.54\\\\\\\\%}.$$'"
      ]
     },
     "execution_count": 81,
     "metadata": {},
     "output_type": "execute_result"
    }
   ],
   "source": [
    "test=data[data['ID']==2145]\n",
    "test['Explanation'][2145]"
   ]
  },
  {
   "cell_type": "code",
   "execution_count": 56,
   "id": "6b2a79da",
   "metadata": {},
   "outputs": [
    {
     "name": "stdout",
     "output_type": "stream",
     "text": [
      "ID: 2145\n",
      "Question: 42\n",
      "Explanation:\n"
     ]
    },
    {
     "data": {
      "text/markdown": [
       "$$ARAROC = \\\\frac{(RARAOC - R_F)}{\\\\beta_E} = \\\\frac{0.14 - 0.055}{1.3} = 0.06538 \\\\text{, or 6.54\\\\%}.$$"
      ],
      "text/plain": [
       "<IPython.core.display.Markdown object>"
      ]
     },
     "metadata": {},
     "output_type": "display_data"
    },
    {
     "name": "stdout",
     "output_type": "stream",
     "text": [
      "Book Label: Operational Riskand Resiliency2\n",
      "--------------------------------------------------\n"
     ]
    }
   ],
   "source": [
    "\n",
    "# Select the specified columns\n",
    "for index, row in test.iterrows():\n",
    "    print(f\"ID: {row['ID']}\")\n",
    "    print(f\"Question: {row['Question Number']}\")\n",
    "    print(\"Explanation:\")\n",
    "    display( Markdown(row['Explanation']))\n",
    "    print(f\"Book Label: {row['Book Label']}\")\n",
    "    print(\"-\" * 50)"
   ]
  },
  {
   "cell_type": "code",
   "execution_count": null,
   "id": "83d35b3a",
   "metadata": {},
   "outputs": [],
   "source": []
  },
  {
   "cell_type": "code",
   "execution_count": 47,
   "id": "66451939",
   "metadata": {},
   "outputs": [
    {
     "data": {
      "text/markdown": [
       "$$ARAROC = \\frac{(RARAOC - R_F)}{\\beta_E} = \\frac{0.14 - 0.055}{1.3} = 0.06538 \\text{, or 6.54\\%}.$$"
      ],
      "text/plain": [
       "<IPython.core.display.Markdown object>"
      ]
     },
     "metadata": {},
     "output_type": "display_data"
    }
   ],
   "source": [
    "a='$$ARAROC = \\\\frac{(RARAOC - R_F)}{\\\\beta_E} = \\\\frac{0.14 - 0.055}{1.3} = 0.06538 \\\\text{, or 6.54\\\\%}.$$'\n",
    "display(Markdown(a))"
   ]
  },
  {
   "cell_type": "code",
   "execution_count": null,
   "id": "444018fb0b7b04b4",
   "metadata": {
    "ExecuteTime": {
     "end_time": "2024-10-11T03:40:48.787953Z",
     "start_time": "2024-10-11T03:40:40.363295Z"
    }
   },
   "outputs": [],
   "source": [
    "# Select the specified columns\n",
    "text = data[data['Question Type'] == 'text only']\n",
    "textmath = text[text['QA Type'] == 'Math reasoning QA']\n",
    "textKnowledge = text[text['QA Type'] != 'Math reasoning QA']\n",
    "\n",
    "textimage = data[data['Question Type'] != 'text only']\n",
    "textimagemath = textimage[textimage['QA Type'] == 'Math reasoning QA']\n",
    "\n",
    "for index, row in textimagemath[200:].iterrows():\n",
    "    print(f\"ID: {row['ID']}\")\n",
    "    display(Markdown(f\"Explanation: {row['Explanation']}\"))\n",
    "    print(f\"Book Label: {row['Book Label']}\")\n",
    "    print(\"-\" * 50)\n"
   ]
  },
  {
   "cell_type": "markdown",
   "id": "744ea041",
   "metadata": {},
   "source": [
    "# 测试数据"
   ]
  },
  {
   "cell_type": "code",
   "execution_count": 27,
   "id": "98bdc198",
   "metadata": {},
   "outputs": [],
   "source": [
    "test = pd.read_csv('dataset/dirtydata.csv')"
   ]
  },
  {
   "cell_type": "code",
   "execution_count": 29,
   "id": "c57a5f12",
   "metadata": {},
   "outputs": [
    {
     "name": "stdout",
     "output_type": "stream",
     "text": [
      "ID: 13\n",
      "Question: 6\n",
      "Explanation:\n"
     ]
    },
    {
     "data": {
      "text/markdown": [
       "A two-year floating-rate note pays 6-month Libor plus 80 basis points. The floater is priced\n",
       "at 97 per 100 of par value. Current 6-month Libor is 1.00%. Assume a 30/360 day-count\n",
       "convention and evenly spaced periods. The discount margin for the floater in basis points (bps)\n",
       "is closest to:\n",
       " Substituting given values in:\n",
       "\n",
       "$$\n",
       "97 = \\frac{(0.01 + 0.0080) \\times 100}{2} \\div \\left( \\frac{1 + \\frac{0.01 + DM}{2}}{(1 + \\frac{0.01 + DM}{2})^{2}} \\div \\ldots \\div \\left( \\frac{1 + \\frac{0.01 + DM}{2}}{(0.01 + DM)^4 \\right) +100\n",
       "$$\n",
       "\n",
       "$$\n",
       "97 = \\frac{0.90}{1 + \\frac{0.01 + DM}{2}} \\div \\frac{0.90}{1 + \\frac{0.01 + DM}{2}}^{2} \\div \\frac{0.90}{1 + \\frac{0.01 + DM}{2}}^{3} \\div \\frac{0.90 + 100}{1 + \\frac{0.01 + DM}{2}^{4}\n",
       "$$\n",
       "\n",
       "To calculate $DM$, begin by solving for the discount rate per period:\n",
       "\n",
       "$$\n",
       "97 = \\frac{0.90}{(1+r)^1} + \\frac{0.90}{(1+r)^2} + \\frac{0.90}{(1+r)^3} + \\frac{0.90 + 100}{(1+r)^4}\n",
       "$$\n",
       "\n",
       "$r = 0.0168$\n",
       "\n",
       "Now, solve for $DM$:\n",
       "\n",
       "$$\n",
       "\\frac{0.01 + DM}{2} = 0.0168\n",
       "$$\n",
       "\n",
       "$$\n",
       "DM = 0.0236\n",
       "$$"
      ],
      "text/plain": [
       "<IPython.core.display.Markdown object>"
      ]
     },
     "metadata": {},
     "output_type": "display_data"
    },
    {
     "name": "stdout",
     "output_type": "stream",
     "text": [
      "Book Label: level1_固收\n",
      "--------------------------------------------------\n",
      "ID: 127\n",
      "Question: 120\n",
      "Explanation:\n"
     ]
    },
    {
     "data": {
      "text/markdown": [
       "B is correct. The expected percentage price change is closest to ?3.49%. The\n",
       "convexity-adjusted percentage price change for a bond given a change in the yield-to-maturity\n",
       "is estimated by:\n",
       "这道题目问的是债券的修正久期为7.140，年凸性为66.200。该债券的到期收益率预计将增加50个基点。预期\n",
       "价格变动百分比最接近： B是正确的。预期价格变动百分比接近-3.49%。考虑到期收益率的变化，债券的凸\n",
       "性调整百分比价格变化估计如下：\n",
       " \\[\n",
       "\\% \\Delta PV^{Full} \\approx [-\\text{AnnModDur} \\times \\Delta \\text{Yield}] + [0.5 \\times \\text{AnnConvexity} \\times (\\Delta \\text{Yield})^2]\n",
       "\\]\n",
       "\n",
       "\\[\n",
       "\\% \\Delta PV^{Full} \\approx [-7.140 \\times 0.005] + [0.5 \\times 66.200 \\times (0.005)^2] = -0.034873, \\text{ or } -3.49\\%\n",
       "\\]"
      ],
      "text/plain": [
       "<IPython.core.display.Markdown object>"
      ]
     },
     "metadata": {},
     "output_type": "display_data"
    },
    {
     "name": "stdout",
     "output_type": "stream",
     "text": [
      "Book Label: level1_固收\n",
      "--------------------------------------------------\n",
      "ID: 951\n",
      "Question: 121\n",
      "Explanation:\n"
     ]
    },
    {
     "data": {
      "text/markdown": [
       "The costs to include in inventories are all costs of purchase, costs of conversion,\n",
       "and other costs incurred in bringing the inventories to their present location and condition.\n",
       "存货成本包括所有采购成本、转换成本以及将存货运至当前位置和状态所产生的其他成本。\n",
       " ```\n",
       "\\begin{tabular}{|l|r|}\n",
       "\\hline\n",
       "\\textbf{Cost} & \\textbf{¥ millions} \\\\\n",
       "\\hline\n",
       "Purchase price & 100,000 \\\\\n",
       "\\hline\n",
       "Less Trade discounts & (5,000) \\\\\n",
       "\\hline\n",
       "Import duties & 20,000 \\\\\n",
       "\\hline\n",
       "Shipping of raw materials to manufacturing facility & 10,000 \\\\\n",
       "\\hline\n",
       "Manufacturing conversion costs & 50,000 \\\\\n",
       "\\hline\n",
       "Total inventory costs & 175,000 \\\\\n",
       "\\hline\n",
       "\\end{tabular}\n",
       "```"
      ],
      "text/plain": [
       "<IPython.core.display.Markdown object>"
      ]
     },
     "metadata": {},
     "output_type": "display_data"
    },
    {
     "name": "stdout",
     "output_type": "stream",
     "text": [
      "Book Label: level1_财报\n",
      "--------------------------------------------------\n",
      "ID: 966\n",
      "Question: 136\n",
      "Explanation:\n"
     ]
    },
    {
     "data": {
      "text/markdown": [
       "B is correct. The financial leverage ratio (Total assets ÷ Total equity) is\n",
       "1.66 (= €42,497 ÷ €25,540). ： 财务杠杆比率=总资产/总所有者权益=4242,497 ÷ 25,540=1.66 选择\n",
       "B选项\n",
       " \\begin{tabular}{|l|c|c|}\n",
       " \\hline\n",
       " & & \\\\\n",
       " \\textbf{Total non-current liabilities} & 6747 & 8205 \\\\\n",
       " \\hline\n",
       " \\textbf{Total liabilities} & 16958 & 17880 \\\\\n",
       " \\hline\n",
       " \\textbf{Total equity} & 25540 & 26397 \\\\\n",
       " \\hline\n",
       " \\textbf{Total equity and liabilities} & 42497 & 44277 \\\\\n",
       " \\hline\n",
       "\\end{tabular}"
      ],
      "text/plain": [
       "<IPython.core.display.Markdown object>"
      ]
     },
     "metadata": {},
     "output_type": "display_data"
    },
    {
     "name": "stdout",
     "output_type": "stream",
     "text": [
      "Book Label: level1_财报\n",
      "--------------------------------------------------\n",
      "ID: 979\n",
      "Question: 149\n",
      "Explanation:\n"
     ]
    },
    {
     "data": {
      "text/markdown": [
       "A is correct. The following illustrates the keystrokes for many financial\n",
       "calculators to calculate sales proceeds of €10,736,008.71:\n",
       " The interest expense is calculated by multiplying the carrying amount at the beginning of the\n",
       "year by the effective interest rate at issuance. As a result, the interest expense at 31\n",
       "December 2015 is €644,161 (€10,736,008.71 × 6%). ： 通过使用金融计算器，可以得到\n",
       "N=10，PMT=700,000，I/Y=6，FV=10,000,000?PV= 10,736,008.71 因此企业当期确认的利息费用为\n",
       "10,736,008.71*6%=644,161 选择A选项\n",
       "```\n",
       "\\begin{array}{|c|c|}\n",
       "\\hline\n",
       "\\text{Calculator Notation} & \\text{Numerical Value for This Problem} \\\\\n",
       "\\hline\n",
       "\\text{N}               & 10             \\\\\n",
       "\\hline\n",
       "\\%i \\text{ or } I/Y    & 6              \\\\\n",
       "\\hline\n",
       "\\text{FV}              & \\$10,000,000.00 \\\\\n",
       "\\hline\n",
       "\\text{PMT}             & \\$700,000.00    \\\\\n",
       "\\hline\n",
       "\\text{PV compute}      & X              \\\\\n",
       "\\hline\n",
       "\\end{array}\n",
       "```"
      ],
      "text/plain": [
       "<IPython.core.display.Markdown object>"
      ]
     },
     "metadata": {},
     "output_type": "display_data"
    },
    {
     "name": "stdout",
     "output_type": "stream",
     "text": [
      "Book Label: level1_财报\n",
      "--------------------------------------------------\n",
      "ID: 992\n",
      "Question: 162\n",
      "Explanation:\n"
     ]
    },
    {
     "data": {
      "text/markdown": [
       "C is correct. The bonds will be issued at a premium because the coupon rate is\n",
       "higher than the market interest rate. The following illustrates the keystrokes for many\n",
       "financial calculators to calculate sales proceeds of $1,077,217.35:\n",
       " Thus, the sales proceeds are reported on the balance sheet as an increase in long-term\n",
       "liability, bonds payable of $1,077,217. ： 根据题目信息，使用金融计算器可以求出对应结果 其中\n",
       "N=10，I/Y=5，PMT=1,000,000*6%=60,000，FV=1,000,000，CPT，PV=1,077,217 选择C选项。 或者根据题目\n",
       "信息可知，有效利率为5%而息票率为6%，因此这个债券为溢价债券，三个选项中得到的结果只有C选项为溢价\n",
       "债券。\n",
       " \\begin{tabular}{|l|l|}\n",
       "\\hline\n",
       "\\textbf{Calculator Notation} & \\textbf{Numerical Value for This Problem} \\\\ \\hline\n",
       "N                            & 10                                       \\\\ \\hline\n",
       "\\% i or I/Y                  & 5                                        \\\\ \\hline\n",
       "FV                           & \\$1,000,000.00                           \\\\ \\hline\n",
       "PMT                          & \\$60,000.00                              \\\\ \\hline\n",
       "PV compute                   & X                                        \\\\ \\hline\n",
       "\\end{tabular}"
      ],
      "text/plain": [
       "<IPython.core.display.Markdown object>"
      ]
     },
     "metadata": {},
     "output_type": "display_data"
    },
    {
     "name": "stdout",
     "output_type": "stream",
     "text": [
      "Book Label: level1_财报\n",
      "--------------------------------------------------\n",
      "ID: 1013\n",
      "Question: 183\n",
      "Explanation:\n"
     ]
    },
    {
     "data": {
      "text/markdown": [
       "There are two ways to determine the value of the bonds on 31 December 2014.\n",
       " \\begin{tabular}{|c|c|c|c|c|c|}\n",
       "\\hline\n",
       "\\textbf{Year} & \\textbf{Carrying Amount at Start of Year} & \\textbf{Interest Expense at EAI(6\\%)} & \\textbf{Interest Payment at Coupon Rate(7\\%)} & \\textbf{Amortization of Premium} & \\textbf{Carrying Amount at End of Year} \\\\\n",
       "\\hline\n",
       "2013 & 107,360 & 6,441 & 7000 & 559 & 106,801 \\\\\n",
       "\\hline\n",
       "\\end{tabular}"
      ],
      "text/plain": [
       "<IPython.core.display.Markdown object>"
      ]
     },
     "metadata": {},
     "output_type": "display_data"
    },
    {
     "name": "stdout",
     "output_type": "stream",
     "text": [
      "Book Label: level1_财报\n",
      "--------------------------------------------------\n",
      "ID: 1024\n",
      "Question: 194\n",
      "Explanation:\n"
     ]
    },
    {
     "data": {
      "text/markdown": [
       "\\begin{tabular}{|c|c|c|c|c|c|}\n",
       "\\hline\n",
       "\\text{Year} & \\text{Carrying Amount (beginning)} & \\text{Interest Expense (at effective interest of 4\\%)} & \\text{Interest Payment (at coupon rate of 3\\%)} & \\text{Amortization of Discount} & \\text{Carrying Amount (end of year)} \\\\\n",
       "\\hline\n",
       "2015 & \\$1,910,964 & \\$76,439 & \\$60,000.00 & \\$16,439 & \\$1,927,403 \\\\\n",
       "\\hline\n",
       "2016 & \\$1,927,403 & \\$77,096 & \\$60,000.00 & \\$17,096 & \\$1,944,499 \\\\\n",
       "\\hline\n",
       "2017 & \\$1,944,499 & \\$77,780 & \\$60,000.00 & \\$17,780 & \\$1,962,279 \\\\\n",
       "\\hline\n",
       "\\end{tabular}"
      ],
      "text/plain": [
       "<IPython.core.display.Markdown object>"
      ]
     },
     "metadata": {},
     "output_type": "display_data"
    },
    {
     "name": "stdout",
     "output_type": "stream",
     "text": [
      "Book Label: level1_财报\n",
      "--------------------------------------------------\n",
      "ID: 1025\n",
      "Question: 195\n",
      "Explanation:\n"
     ]
    },
    {
     "data": {
      "text/markdown": [
       "```plaintext\n",
       "\\begin{table}[h!]\n",
       "    \\centering\n",
       "    \\begin{tabular}{|c|c|}\n",
       "        \\hline\n",
       "        \\text{Calculator Notation} & \\text{Numerical Value for This Problem} \\\\\n",
       "        \\hline\n",
       "        N & 5 \\\\\n",
       "        \\hline\n",
       "        \\% i \\text{ or } I/Y & 5 \\\\\n",
       "        \\hline\n",
       "        FV & \\$30,000,000.00 \\\\\n",
       "        \\hline\n",
       "        PMT & \\$1,200,000.00 \\\\\n",
       "        \\hline\n",
       "        PV \\text{ compute} & X \\\\\n",
       "        \\hline\n",
       "    \\end{tabular}\n",
       "\\end{table}\n",
       "\n",
       "\\begin{table}[h!]\n",
       "    \\centering\n",
       "    \\begin{tabular}{|c|c|c|c|c|c|}\n",
       "        \\hline\n",
       "        \\text{Year} & \\text{Carrying Amount (beginning of year)} & \\text{Interest Expense (at effective interest rate of 5\\%)} & \\text{Interest Payment (at coupon rate of 4\\%)} & \\text{Amortization of Discount} & \\text{Carrying Amount (end of year)} \\\\\n",
       "        \\hline\n",
       "        2015 & \\$28,701,157.00 & \\$1,435,057.85 & \\$1,200,000.00 & \\$235,057.85 & \\$28,936,214.85 \\\\\n",
       "        \\hline\n",
       "    \\end{tabular}\n",
       "\\end{table}\n",
       "\n",
       "\\begin{table}[h!]\n",
       "    \\centering\n",
       "    \\begin{tabular}{|c|c|}\n",
       "        \\hline\n",
       "        \\text{Calculator Notation} & \\text{Numerical Value for This Problem} \\\\\n",
       "        \\hline\n",
       "        N & 4 \\\\\n",
       "        \\hline\n",
       "        \\% i \\text{ or } I/Y & 5 \\\\\n",
       "        \\hline\n",
       "        FV & \\$30,000,000.00 \\\\\n",
       "        \\hline\n",
       "        PMT & \\$1,200,000.00 \\\\\n",
       "        \\hline\n",
       "        PV \\text{ compute} & X \\\\\n",
       "        \\hline\n",
       "    \\end{tabular}\n",
       "\\end{table}\n",
       "```"
      ],
      "text/plain": [
       "<IPython.core.display.Markdown object>"
      ]
     },
     "metadata": {},
     "output_type": "display_data"
    },
    {
     "name": "stdout",
     "output_type": "stream",
     "text": [
      "Book Label: level1_财报\n",
      "--------------------------------------------------\n",
      "ID: 1083\n",
      "Question: 7\n",
      "Explanation:\n"
     ]
    },
    {
     "data": {
      "text/markdown": [
       "Answer: BMarket value of debt: FV = $10,000,000, PMT = $400,000, N = 10, I/Y =\n",
       "6.825%. Solving for PV gives the answer $7.999,688.Market value equity: 1.2 million shares\n",
       "outstanding at $10 = $12,000,000\n",
       " \n",
       " \n",
       "To raise $7.5 million of new capital while maintaining the same capital structure, the company\n",
       "would issue $7.5 million x 40% = $3.0 million in bonds, which results in a before-tax rate of\n",
       "16 percent.rd(1-t)= 0.16(1-0.3) = 0.112 or 11.2%re = 0.03 2.2 (0.10 - 0.03) = 0.184 or\n",
       "18.4%WACC = [0.40(0.112)]＋ [0.6(0.184)]=0.0448 ＋0.1104 =0.1552 or 15.52%\n",
       "这道题目问的是Happy公司目前发行了1.2million股普通股，贝塔系数为2.2。该公司还有10million美元票面\n",
       "价值的债券，还有五年到期，票面利率为8%，每半年支付一次，收益率为13.65%。如果Happy发行至多\n",
       "2.5million美元的新债券，这些债券将按面值定价，收益率为13.65%;如果发行超过2.5million美元的债券\n",
       "，整个发行的预期收益率将为16%。Happy已经了解到，它可以以每股10美元的价格发行新的普通股。目前的\n",
       "无风险利率为3%，预期市场回报率为10%。Happy的边际税率是30%。如果Happy在保持相同的负债权益比率的\n",
       "情况下筹集7.5million美元的新资本，其加权平均资本成本最接近于: 首先要求出公司的资本结构： 债券市\n",
       "场价值: FV = $10,000,000, PMT = $400,000, N = 10, I/Y = 6.825%.求解PV:$7,999,688. 股权市场价值:\n",
       "1.2 million shares outstanding at $10 = $12,000,000 债券和股票总市值$19,999,688，债券占比\n",
       "40%，股票占比60% 为了筹集7.5million美元的新资本，同时保持相同的资本结构，公司将发行7.5×40% =\n",
       "3million 美元的债券，其税前收益率为16%。rd(1 - t) = 0.16(1 - 0.3) = 0.112 or 11.2% re = 0.03\n",
       "2.2 (0.10 - 0.03) = 0.184 or 18.4% WACC = [0.40(0.112)]＋ [0.6(0.184)] = 0.0448＋ 0.1104 =\n",
       "0.1552 or 15.52% 因此B选项正确\n",
       " ```\n",
       "\\begin{tabular}{ | l | l | l | }\n",
       "\\hline\n",
       "Market value of debt & \\$7,999,688 & 40\\% \\\\ \\hline\n",
       "Market value of equity & \\$12,000,000 & 60\\% \\\\ \\hline\n",
       "Total capital & \\$19,999,688 & 100\\% \\\\ \\hline\n",
       "\\end{tabular}\n",
       "```"
      ],
      "text/plain": [
       "<IPython.core.display.Markdown object>"
      ]
     },
     "metadata": {},
     "output_type": "display_data"
    },
    {
     "name": "stdout",
     "output_type": "stream",
     "text": [
      "Book Label: level1_公司金融\n",
      "--------------------------------------------------\n",
      "ID: 1110\n",
      "Question: 34\n",
      "Explanation:\n"
     ]
    },
    {
     "data": {
      "text/markdown": [
       "C is correct. Company S’s cash conversion cycle nearly doubled over recent years,\n",
       "while the cash conversion cycles for Companies H and J are nearly unchanged. The days of\n",
       "inventory on hand and days of receivables both increased substantially for Company S, and its\n",
       "days of payables outstanding decreased very slightly. The net effect was the large increase in\n",
       "the cash conversion cycle. Although changes occurred in the components of the cash conversion\n",
       "cycles for Companies H and J, the net effect on their cash conversion cycles was small. C是正确\n",
       "的。近年来，S公司的现金转换周期几乎翻了一番，而H和J公司的现金转换周期几乎没有变化。S公司的库存\n",
       "天数和应收账款天数均大幅增加，其未付应付账款天数略有减少。虽然H和J公司的现金转换周期的组成部分\n",
       "发生了变化，但对其现金转换周期的净影响很小。\n",
       " ```\n",
       "\\begin{array}{|c|c|c|c|c|c|c|}\n",
       "\\hline\n",
       " & 2021 & 2020 & 2019 & 2018 & 2017 & 2016 \\\\\n",
       "\\hline\n",
       "\\text{Company J} &  &  &  &  &  &  \\\\\n",
       "\\hline\n",
       "\\text{Days of Inventory on Hand} & 105.6 & 101.4 & 96.3 & 105.2 & 103.2 & 101.4 \\\\\n",
       "\\hline\n",
       "\\text{+ Days of Receivables} & 27.7 & 29.4 & 32.9 & 36.3 & 37.8 & 38 \\\\\n",
       "\\hline\n",
       "\\text{ -- Days of Payables Outstanding} & 36.6 & 38.5 & 35.3 & 39.3 & 37.8 & 40.2 \\\\\n",
       "\\hline\n",
       "\\text{= Cash Conversion Cycle} & 96.7 & 92.3 & 93.9 & 102.2 & 103.2 & 99.2 \\\\\n",
       "\\hline\n",
       "\\text{Company S} &  &  &  &  &  &  \\\\\n",
       "\\hline\n",
       "\\text{Days of Inventory on Hand} & 135.8 & 131 & 118.9 & 69.2 & 63.4 & 81.7 \\\\\n",
       "\\hline\n",
       "\\text{+ Days of Receivables} & 49.1 & 42.5 & 54.2 & 36.2 & 29.1 & 38.3 \\\\\n",
       "\\hline\n",
       "\\text{ -- Days of Payables Outstanding} & 30.9 & 27.9 & 34.6 & 29.8 & 31.8 & 35.9 \\\\\n",
       "\\hline\n",
       "\\text{= Cash Conversion Cycle} & 154.0 & 145.6 & 138.5 & 75.6 & 60.7 & 84.1 \\\\\n",
       "\\hline\n",
       "\\end{array}\n",
       "```"
      ],
      "text/plain": [
       "<IPython.core.display.Markdown object>"
      ]
     },
     "metadata": {},
     "output_type": "display_data"
    },
    {
     "name": "stdout",
     "output_type": "stream",
     "text": [
      "Book Label: level1_公司金融\n",
      "--------------------------------------------------\n",
      "ID: 1120\n",
      "Question: 44\n",
      "Explanation:\n"
     ]
    },
    {
     "data": {
      "text/markdown": [
       "wd = $63/($220 ＋ 63) = 0.223.we = $220/($220 ＋ 63) = 0.777.Market values should\n",
       "be used in cost of capital calculations, and forecasted market values should be used in this\n",
       "case given that the cost of capital will be applied to projected cash flows in McClure’s\n",
       "analysis. wd=63美元/（220 63美元）=0.223。we=$220/（$220＋63）=0.777。在资本成本计算中应使用市\n",
       "场价值，在这种情况下应使用预测市场价值，因为资本成本将应用于McClure分析中的预测现金流。\n",
       " \\begin{tabular}{|l|c|c|}\n",
       "\\hline\n",
       " & \\textbf{Current Year (\\$)} & \\textbf{Forecasted for Next Year (\\$)} \\\\ \\hline\n",
       "\\textbf{Book value of debt} & 50 & 50 \\\\ \\hline\n",
       "\\textbf{Market value of debt} & 62 & 63 \\\\ \\hline\n",
       "\\textbf{Book value of shareholders’ equity} & 55 & 58 \\\\ \\hline\n",
       "\\textbf{Market value of shareholders’ equity} & 210 & 220 \\\\ \\hline\n",
       "\\end{tabular}"
      ],
      "text/plain": [
       "<IPython.core.display.Markdown object>"
      ]
     },
     "metadata": {},
     "output_type": "display_data"
    },
    {
     "name": "stdout",
     "output_type": "stream",
     "text": [
      "Book Label: level1_公司金融\n",
      "--------------------------------------------------\n",
      "ID: 2873\n",
      "Question: 17\n",
      "Explanation:\n"
     ]
    },
    {
     "data": {
      "text/markdown": [
       "B is correct. The total return of the market-capitalization-weighted index is\n",
       "calculated below:\n",
       " \n",
       "中文： B是正确的，总回报率计算的时候需要加上期间收益。 将MNO,ORS,XYZ三者的期初市值，期末市值以\n",
       "及期间的股利都分别求和。 期末-期初＋股利/期初=（48250000-53750000＋2625000）/53750000= -5.35%\n",
       " \\begin{tabular}{|l|c|c|c|c|}\n",
       "\\hline\n",
       "Security & Beginning of Period Price (¥) & End of Period Price (¥) & Dividends per Share (¥) & Shares Outstanding \\\\\n",
       "\\hline\n",
       "MNO & 2,500 & 2,700 & 100 & 5,000 \\\\\n",
       "QRS & 3,500 & 2,500 & 150 & 7,500 \\\\\n",
       "XYZ & 1,500 & 1,600 & 100 & 10,000 \\\\\n",
       "\\hline\n",
       "\\end{tabular}\n",
       "\n",
       "Calculated below:\n",
       "\n",
       "\\begin{tabular}{|l|c|c|c|c|}\n",
       "\\hline\n",
       "Security & Beginning of Period Value (¥) & End of Period Value (¥) & Total Dividends (¥) & Total Return (\\%) \\\\\n",
       "\\hline\n",
       "MNO & 12,500,000 & 13,500,000 & 500,000 & 12.00 \\\\\n",
       "QRS & 26,250,000 & 18,750,000 & 1,125,000 & -24.29 \\\\\n",
       "XYZ & 15,000,000 & 16,000,000 & 1,000,000 & 13.33 \\\\\n",
       "\\hline\n",
       "Total & 53,750,000 & 48,250,000 & 2,625,000 & -5.35 \\\\\n",
       "\\hline\n",
       "\\end{tabular}"
      ],
      "text/plain": [
       "<IPython.core.display.Markdown object>"
      ]
     },
     "metadata": {},
     "output_type": "display_data"
    },
    {
     "name": "stdout",
     "output_type": "stream",
     "text": [
      "Book Label: level1_权益\n",
      "--------------------------------------------------\n",
      "ID: 3001\n",
      "Question: 145\n",
      "Explanation:\n"
     ]
    },
    {
     "data": {
      "text/markdown": [
       "A is correct. Tanaka shares are most likely overvalued. As the table below shows,\n",
       "all the 2018 multiples are currently above their 2014–2017 averages.\n",
       " A是正确的。Tanaka的股票很可能被高估了。所有2018年的倍数目前均高于2014-2017年的平均值。\n",
       " \\begin{table}[ht]\n",
       "\\centering\n",
       "\\begin{tabular}{cccc}\n",
       "\\hline\n",
       "Year & P/E & P/CF & P/S \\\\\n",
       "\\hline\n",
       "2014 & 4.9 & 5.4 & 1.2 \\\\\n",
       "2015 & 6.1 & 8.6 & 1.5 \\\\\n",
       "2016 & 8.3 & 7.3 & 1.9 \\\\\n",
       "2017 & 9.2 & 7.9 & 2.3 \\\\\n",
       "\\hline\n",
       "\\end{tabular}\n",
       "\\end{table}\n",
       "\n",
       "\\begin{table}[ht]\n",
       "\\centering\n",
       "\\begin{tabular}{cccc}\n",
       "\\hline\n",
       "Year & P/E & P/CF & P/R \\\\\n",
       "\\hline\n",
       "2014 & 4.9 & 5.4 & 1.2 \\\\\n",
       "2015 & 6.1 & 8.6 & 1.5 \\\\\n",
       "2016 & 8.3 & 7.3 & 1.9 \\\\\n",
       "2017 & 9.2 & 7.9 & 2.3 \\\\\n",
       "\\hline\n",
       "Average & 7.1 & 7.3 & 1.7 \\\\\n",
       "\\hline\n",
       "\\end{tabular}\n",
       "\\end{table}"
      ],
      "text/plain": [
       "<IPython.core.display.Markdown object>"
      ]
     },
     "metadata": {},
     "output_type": "display_data"
    },
    {
     "name": "stdout",
     "output_type": "stream",
     "text": [
      "Book Label: level1_权益\n",
      "--------------------------------------------------\n",
      "ID: 3004\n",
      "Question: 148\n",
      "Explanation:\n"
     ]
    },
    {
     "data": {
      "text/markdown": [
       "$$\n",
       "V_0 = \\frac{D_1}{(1 + r)} + \\frac{D_2}{(1 + r)^2} + \\frac{D_3}{(1 + r)^3} + \\frac{D_4}{(1 + r)^4} + \\frac{P_4}{(1 + r)^4}\n",
       "$$\n",
       "\n",
       "$$\n",
       "= \\frac{468}{(1.12)} + \\frac{486.72}{(1.12)^2} + \\frac{506.19}{(1.12)^3} + \\frac{526.44}{(1.12)^4} + \\frac{9000}{(1.12)^4}\n",
       "$$\n",
       "\n",
       "$$\n",
       "= ¥7,220\n",
       "$$"
      ],
      "text/plain": [
       "<IPython.core.display.Markdown object>"
      ]
     },
     "metadata": {},
     "output_type": "display_data"
    },
    {
     "name": "stdout",
     "output_type": "stream",
     "text": [
      "Book Label: level1_权益\n",
      "--------------------------------------------------\n",
      "ID: 3013\n",
      "Question: 157\n",
      "Explanation:\n"
     ]
    },
    {
     "data": {
      "text/markdown": [
       "英文 C is correct. Relative to the others, Pioneer Trust has the lowest P/E\n",
       "multiple and the P/B multiple is tied for the lowest with Prime Bank. Given the law of one\n",
       "price, similar companies should trade at similar P/B and P/E levels. Thus, based on the\n",
       "information presented, Pioneer is most likely to be undervalued. 中文 C是正确的。Pioneer信托的\n",
       "市盈率最低，与Prime Bank的市盈率相同。考虑到一价定律，类似的公司应该在相似的市净率和市盈率水平\n",
       "上进行交易。因此，根据所提供的信息，Pioneer最有可能被低估。\n",
       " \\begin{array}{lccc}\n",
       "& \\text{First Bank} & \\text{Prime Bank} & \\text{Pioneer Trust} \\\\\n",
       "\\hline\n",
       "\\text{P/B} & 1.10 & 0.60 & 0.60 \\\\\n",
       "\\text{P/E} & 8.40 & 11.10 & 8.30 \\\\\n",
       "\\end{array}"
      ],
      "text/plain": [
       "<IPython.core.display.Markdown object>"
      ]
     },
     "metadata": {},
     "output_type": "display_data"
    },
    {
     "name": "stdout",
     "output_type": "stream",
     "text": [
      "Book Label: level1_权益\n",
      "--------------------------------------------------\n",
      "ID: 3115\n",
      "Question: 1\n",
      "Explanation:\n"
     ]
    },
    {
     "data": {
      "text/markdown": [
       "B is correct, as shown in the following table.\n",
       " \n",
       "B正确。BAII Plus计算器，CF页面下，2ND CE/C清楚历史记录，依次按\n",
       "：CFo=0C01=100,000F01=1C02=150,000F02=1C03=0F03=2（表示第三笔现金流为0，分别发生在第三年和第四\n",
       "年末，一共两笔）C04=-10,000F04=1 NPV页面下：I=12CPT NPV=203,190.52 \n",
       " ```\n",
       "\\begin{array}{|c|c|c|c|}\n",
       "\\hline\n",
       "\\text{Year} & \\text{Cash Flow (€)} & \\text{Formula} & \\text{PV at Year 0} \\\\\n",
       "\\hline\n",
       "1 & 100,000 & 100,000(1.12)^{-1} = & 89,285.71 \\\\\n",
       "2 & 150,000 & 150,000(1.12)^{-2} = & 119,579.08 \\\\\n",
       "5 & -10,000 & -10,000(1.12)^{-5} = & -5,674.27 \\\\\n",
       "\\hline\n",
       " &  &  & 203,190.52 \\\\\n",
       "\\hline\n",
       "\\end{array}\n",
       "```"
      ],
      "text/plain": [
       "<IPython.core.display.Markdown object>"
      ]
     },
     "metadata": {},
     "output_type": "display_data"
    },
    {
     "name": "stdout",
     "output_type": "stream",
     "text": [
      "Book Label: level1_数量\n",
      "--------------------------------------------------\n",
      "ID: 3170\n",
      "Question: 56\n",
      "Explanation:\n"
     ]
    },
    {
     "data": {
      "text/markdown": [
       "B is correct. The present value of a 10-year annuity (A) due with payments of\n",
       "$2,000 at a 5% discount rate is calculated as follows:\n",
       "Alternatively, the PV of a 10-year annuity due is simply the PV of the ordinary annuity\n",
       "multiplied by 1.05:\n",
       " 原版书的公式比较复杂，如果计算器在手边的话，可以用计算器求解：N=10, I/Y=5, FV=0, PMT=-2,000\n",
       "[END] CPT PV=15,443.46986 N=10, I/Y=5, FV=0, PMT=-2,000 [BGN] CPT PV=16,215.64335\n",
       "15,443.46986*1.05=16,215.64335 \n",
       " ```\n",
       "$$\n",
       "PV = A \\left[ \\frac{1 - \\frac{1}{(1 + r)^N}}{r} \\right] + 2000\n",
       "$$\n",
       "\n",
       "$$\n",
       "PV = 2000 \\left[ \\frac{1 - \\frac{1}{(1 + 0.05)^9}}{0.05} \\right] + 2000\n",
       "$$\n",
       "\n",
       "$$\n",
       "PV = 15,443.47 \\times 1.05\n",
       "$$\n",
       "\n",
       "$$\n",
       "PV = 16,215.64.\n",
       "$$\n",
       "```"
      ],
      "text/plain": [
       "<IPython.core.display.Markdown object>"
      ]
     },
     "metadata": {},
     "output_type": "display_data"
    },
    {
     "name": "stdout",
     "output_type": "stream",
     "text": [
      "Book Label: level1_数量\n",
      "--------------------------------------------------\n",
      "ID: 3185\n",
      "Question: 71\n",
      "Explanation:\n"
     ]
    },
    {
     "data": {
      "text/markdown": [
       "C is correct, as shown in the following (where FV is future value and PV is present\n",
       "value):\n",
       " \n",
       "C正确。 FV=PV*(1＋rs/m)^(m*N) 500,000*(1＋EAR)^6=800,000 求得EAR=8.148375%，选择ABC中EAR与之最\n",
       "接近的。 A中EAR=e^7.5%-1=7.7884% BAII Plus计算器，2ND 2页面下，2ND CE/C清楚历史记录，分别求：\n",
       "B中的EAR：NOM=7.7，C/Y=365，CPT EFF=8.003331（计算结果没有带%） C中的EAR：NOM=8，C/Y=2，CPT\n",
       "EFF=8.16（计算结果没有带%）\n",
       " If:\n",
       "$$\n",
       "FV_N = PV \\left(1 + \\frac{r_s}{m}\\right)^{mN}\n",
       "$$\n",
       "\n",
       "Then:\n",
       "$$\n",
       "\\left( \\frac{FV_N}{PV} \\right)^{\\frac{1}{mN}} - 1 = \\frac{r_s}{m}\n",
       "$$\n",
       "\n",
       "$$\n",
       "\\left( \\frac{800,000}{500,000} \\right)^{\\frac{1}{2 \\times 6}} - 1 = \\frac{r_s}{2}\n",
       "$$\n",
       "\n",
       "$$\n",
       "r_s = 0.07988 \\text{ (rounded to 8.0%).}\n",
       "$$"
      ],
      "text/plain": [
       "<IPython.core.display.Markdown object>"
      ]
     },
     "metadata": {},
     "output_type": "display_data"
    },
    {
     "name": "stdout",
     "output_type": "stream",
     "text": [
      "Book Label: level1_数量\n",
      "--------------------------------------------------\n",
      "ID: 3209\n",
      "Question: 96\n",
      "Explanation:\n"
     ]
    },
    {
     "data": {
      "text/markdown": [
       "To derive the standard error of the forecast (s<sub>f</sub>), we first have to\n",
       "calculate the variation of RDR. Then, we have the all the pieces to calculate s<sub>f:</sub>\n",
       " 题目中告诉我们，standard error of the estimate，也就是SEE =se= 1.8618987 根据基础班讲义中的\n",
       "Sf的公式，如下图，因此，只需要计算出根号部分的数值后，带入SEE即可求出Sf 题目中还告诉了variance\n",
       "of RDR=[∑(Xi－X拔 )^2 ]/(n-1)=4.285714，n=8，因此可以得出：∑(Xi－X拔 )^2=4.285714×7=30所以\n",
       "Sf=1.8618987×根号下（1＋1/8＋(5-7.5)^2/30）=1.8618987×1.154701=2.149936 \n",
       " ```\n",
       "Exhibit 9    Details of Calculation of Slope of NPM Regressed on RDR\n",
       "\n",
       "\\begin{array}{ccccccccc}\n",
       "\\hline\n",
       "\\text{Company} & \\text{NPM} & \\text{RDR} & (Y_i - \\bar{Y}) & (X_i - \\bar{X}) & (Y_i - \\bar{Y})^2 & (X_i - \\bar{X})^2 & (X_i - \\bar{X})(Y_i - \\bar{Y}) \\\\\n",
       "               & (\\%) (Y_i) &  (\\%) (X_i)\\\\\n",
       " \\hline\n",
       "  1 & 4 & 8 & -2.8 & 0.5 & 7.5625 & 0.25 & -1.375 \\\\\n",
       "  2 & 6 & 10 &  -1.8 & 2.5 & 3.0625 & 6.25 & -4.375 \\\\\n",
       "  3 & 10 & 6 & 3.3 & -1.5 & 10.5625 & 2.25 & -4.875 \\\\\n",
       "  4 & 9 & 5 & 2.3 & -2.5 & 5.0625 & 6.25 & -5.625 \\\\\n",
       "  5 & 5 & 7 & -1.8 & -0.5 & 3.0625 & 0.25 & 0.875 \\\\\n",
       "  6 & 4 & 6 & -2.8 & -1.5 & 7.5625 & 2.25 & 4.125 \\\\\n",
       "  7 & 12 & 5.3 & 5.3 & -2.2 & 27.5625 & 6.25 & -13.125 \\\\\n",
       "  8 & 3 & 10 & -3.8 & 2.5 & 14.0625 & 6.25 & -9.375 \\\\\n",
       "  \\hline\n",
       "  \\text{Sum} & 54.0 & 60.0 & 0.0 & 0.0 & 71.5000 & 30.00 & -39.0 \\\\\n",
       "  \\text{Average} & 6.75 & 7.5\\\\\n",
       "  \\hline\n",
       "\\end{array}\n",
       "\n",
       "$$\n",
       "\\sum_{i=1}^{n} (X_i - \\bar{X})^2 = 4.285714 \\times 7 = 30.\n",
       "$$\n",
       "\n",
       "$$\n",
       "s_f = 1.8618987 \\sqrt{1 + \\frac{1}{8} + \\frac{(5 - 7.5)^2}{30}} = 2.1499.\n",
       "$$\n",
       "```"
      ],
      "text/plain": [
       "<IPython.core.display.Markdown object>"
      ]
     },
     "metadata": {},
     "output_type": "display_data"
    },
    {
     "name": "stdout",
     "output_type": "stream",
     "text": [
      "Book Label: level1_数量\n",
      "--------------------------------------------------\n",
      "ID: 3222\n",
      "Question: 109\n",
      "Explanation:\n"
     ]
    },
    {
     "data": {
      "text/markdown": [
       "A is correct. Only the top node value of $219.9488 exceeds $200.\n",
       " A正确。只有顶部节点值$219.9488超过$200。\n",
       " ```plaintext\n",
       "\\$\n",
       "\\$\n",
       "\\$190.0000\\$ \\rightarrow \\$199.5000\\$ \\rightarrow \\$209.4750\\$\n",
       "                                     \\rightarrow \\$189.5250\\$\n",
       "                      \\rightarrow \\$180.5000\\$ \\rightarrow \\$171.4750\\$\n",
       "\n",
       "\\$\n",
       "\\$\n",
       "                            \\$190.0000\\$ \\rightarrow \\$199.5000\\$ \\rightarrow \\$209.4750\\$ \\rightarrow \\$219.9488\\$\n",
       "                                           \\rightarrow \\$189.5250\\$ \\rightarrow \\$199.0013\\$\n",
       "                                                                   \\rightarrow \\$180.0488\\$\n",
       "  \\$190.0000\\$ \\rightarrow \\$180.5000\\$ \\rightarrow \\$171.4750\\$ \\rightarrow \\$162.9013\\$\n",
       "\\$\n",
       "\\$\n",
       "```\n"
      ],
      "text/plain": [
       "<IPython.core.display.Markdown object>"
      ]
     },
     "metadata": {},
     "output_type": "display_data"
    },
    {
     "name": "stdout",
     "output_type": "stream",
     "text": [
      "Book Label: level1_数量\n",
      "--------------------------------------------------\n",
      "ID: 3252\n",
      "Question: 139\n",
      "Explanation:\n"
     ]
    },
    {
     "data": {
      "text/markdown": [
       "： A is correct. The continuously compounded return of an asset over a period is\n",
       "equal to the natural log of period’s change. In this case: ln(120/112) = 6.90% ： A正确。 资产\n",
       "在一段时期内的连续复利收益等于期间变化的自然对数。在这种情况下: ln (120/112) = 6.90%\n",
       " ```\n",
       "\\begin{tabular}{|l|c|}\n",
       "\\hline\n",
       "\\textbf{Date} & \\textbf{Closing Price (€)} \\\\\n",
       "\\hline\n",
       "1 August & 112 \\\\\n",
       "8 August & 160 \\\\\n",
       "15 August & 120 \\\\\n",
       "\\hline\n",
       "\\end{tabular}\n",
       "```"
      ],
      "text/plain": [
       "<IPython.core.display.Markdown object>"
      ]
     },
     "metadata": {},
     "output_type": "display_data"
    },
    {
     "name": "stdout",
     "output_type": "stream",
     "text": [
      "Book Label: level1_数量\n",
      "--------------------------------------------------\n"
     ]
    }
   ],
   "source": [
    "test1=test[test['人员']=='嘉辰']\n",
    "# Select the specified columns\n",
    "for index, row in test1.iterrows():\n",
    "    print(f\"ID: {row['ID']}\")\n",
    "    print(f\"Question: {row['Question Number']}\")\n",
    "    print(\"Explanation:\")\n",
    "    display( Markdown(row['Explanation']))\n",
    "    print(f\"Book Label: {row['Book Label']}\")\n",
    "    print(\"-\" * 50)"
   ]
  },
  {
   "cell_type": "code",
   "execution_count": 23,
   "id": "17456b38",
   "metadata": {},
   "outputs": [
    {
     "data": {
      "text/html": [
       "<div>\n",
       "<style scoped>\n",
       "    .dataframe tbody tr th:only-of-type {\n",
       "        vertical-align: middle;\n",
       "    }\n",
       "\n",
       "    .dataframe tbody tr th {\n",
       "        vertical-align: top;\n",
       "    }\n",
       "\n",
       "    .dataframe thead th {\n",
       "        text-align: right;\n",
       "    }\n",
       "</style>\n",
       "<table border=\"1\" class=\"dataframe\">\n",
       "  <thead>\n",
       "    <tr style=\"text-align: right;\">\n",
       "      <th></th>\n",
       "      <th>ID</th>\n",
       "      <th>Question Number</th>\n",
       "      <th>Share Context</th>\n",
       "      <th>Share Image</th>\n",
       "      <th>Question Text</th>\n",
       "      <th>Image</th>\n",
       "      <th>Options</th>\n",
       "      <th>Answer</th>\n",
       "      <th>Explanation</th>\n",
       "      <th>人员</th>\n",
       "      <th>QA Type</th>\n",
       "      <th>Question Type</th>\n",
       "      <th>Level of Difficulty</th>\n",
       "      <th>Knowledge Topics</th>\n",
       "      <th>General Topics</th>\n",
       "      <th>Book Label</th>\n",
       "    </tr>\n",
       "  </thead>\n",
       "  <tbody>\n",
       "  </tbody>\n",
       "</table>\n",
       "</div>"
      ],
      "text/plain": [
       "Empty DataFrame\n",
       "Columns: [ID, Question Number, Share Context, Share Image, Question Text, Image, Options, Answer, Explanation, 人员, QA Type, Question Type, Level of Difficulty, Knowledge Topics, General Topics, Book Label]\n",
       "Index: []"
      ]
     },
     "execution_count": 23,
     "metadata": {},
     "output_type": "execute_result"
    }
   ],
   "source": []
  }
 ],
 "metadata": {
  "kernelspec": {
   "display_name": ".venv",
   "language": "python",
   "name": "python3"
  },
  "language_info": {
   "codemirror_mode": {
    "name": "ipython",
    "version": 3
   },
   "file_extension": ".py",
   "mimetype": "text/x-python",
   "name": "python",
   "nbconvert_exporter": "python",
   "pygments_lexer": "ipython3",
   "version": "3.12.5"
  }
 },
 "nbformat": 4,
 "nbformat_minor": 5
}
