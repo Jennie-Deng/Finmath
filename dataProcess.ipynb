{
 "cells": [
  {
   "cell_type": "code",
   "execution_count": 2,
   "id": "82c3e60831271abf",
   "metadata": {
    "ExecuteTime": {
     "end_time": "2024-10-11T03:36:44.528515Z",
     "start_time": "2024-10-11T03:36:44.458522Z"
    }
   },
   "outputs": [],
   "source": [
    "import pandas as pd\n",
    "from IPython.display import Markdown, Image, display\n",
    "import ast"
   ]
  },
  {
   "cell_type": "markdown",
   "id": "ee686e4c4930e60",
   "metadata": {},
   "source": [
    "# 转换CSV 数据"
   ]
  },
  {
   "cell_type": "code",
   "execution_count": 3,
   "id": "36b55bae8d8570f",
   "metadata": {
    "ExecuteTime": {
     "end_time": "2024-10-11T03:36:54.327230Z",
     "start_time": "2024-10-11T03:36:52.099946Z"
    }
   },
   "outputs": [
    {
     "data": {
      "text/html": [
       "<div>\n",
       "<style scoped>\n",
       "    .dataframe tbody tr th:only-of-type {\n",
       "        vertical-align: middle;\n",
       "    }\n",
       "\n",
       "    .dataframe tbody tr th {\n",
       "        vertical-align: top;\n",
       "    }\n",
       "\n",
       "    .dataframe thead th {\n",
       "        text-align: right;\n",
       "    }\n",
       "</style>\n",
       "<table border=\"1\" class=\"dataframe\">\n",
       "  <thead>\n",
       "    <tr style=\"text-align: right;\">\n",
       "      <th></th>\n",
       "      <th>ID</th>\n",
       "      <th>Question Number</th>\n",
       "      <th>Share Context</th>\n",
       "      <th>Share Image</th>\n",
       "      <th>Question Text</th>\n",
       "      <th>Image</th>\n",
       "      <th>Options</th>\n",
       "      <th>Answer</th>\n",
       "      <th>Explanation</th>\n",
       "      <th>QA Type</th>\n",
       "      <th>Question Type</th>\n",
       "      <th>Level of Difficulty</th>\n",
       "      <th>Knowledge Topics</th>\n",
       "      <th>General Topics</th>\n",
       "      <th>Book Label</th>\n",
       "    </tr>\n",
       "  </thead>\n",
       "  <tbody>\n",
       "    <tr>\n",
       "      <th>0</th>\n",
       "      <td>0</td>\n",
       "      <td>1</td>\n",
       "      <td>Neshie Wakuluk is an investment strategist who...</td>\n",
       "      <td>[./dataset/images/CapitalMarketExpectations_im...</td>\n",
       "      <td>Wakuluk most likely seeks to mitigate which of...</td>\n",
       "      <td></td>\n",
       "      <td>{'A': 'Availability', './dataset/images/B': 'T...</td>\n",
       "      <td>A</td>\n",
       "      <td>Wakuluk started her career when the global mar...</td>\n",
       "      <td>Knowledge reasoning QA</td>\n",
       "      <td>text+image</td>\n",
       "      <td>Easy</td>\n",
       "      <td>Behavioral finance, Cognitive biases, Decision...</td>\n",
       "      <td>Capital Market Expectations</td>\n",
       "      <td>Capital Market Expectations</td>\n",
       "    </tr>\n",
       "    <tr>\n",
       "      <th>1</th>\n",
       "      <td>1</td>\n",
       "      <td>2</td>\n",
       "      <td>Neshie Wakuluk is an investment strategist who...</td>\n",
       "      <td>[./dataset/images/CapitalMarketExpectations_im...</td>\n",
       "      <td>Wakuluk’s approach to economic forecasting:</td>\n",
       "      <td></td>\n",
       "      <td>{'A': 'is flexible and limited in complexity.'...</td>\n",
       "      <td>B</td>\n",
       "      <td>Wakuluk’s approach to economic forecasting uti...</td>\n",
       "      <td>Knowledge reasoning QA</td>\n",
       "      <td>text+image</td>\n",
       "      <td>Easy</td>\n",
       "      <td>Econometric Models, Leading Indicators, Checkl...</td>\n",
       "      <td>Capital Market Expectations</td>\n",
       "      <td>Capital Market Expectations</td>\n",
       "    </tr>\n",
       "    <tr>\n",
       "      <th>2</th>\n",
       "      <td>2</td>\n",
       "      <td>3</td>\n",
       "      <td>Neshie Wakuluk is an investment strategist who...</td>\n",
       "      <td>[./dataset/images/CapitalMarketExpectations_im...</td>\n",
       "      <td>Wakuluk is most likely to make significant adj...</td>\n",
       "      <td></td>\n",
       "      <td>{'A': 'Country Y only', './dataset/images/B': ...</td>\n",
       "      <td>B</td>\n",
       "      <td>Country Z is a developing market. Less-develop...</td>\n",
       "      <td>Knowledge reasoning QA</td>\n",
       "      <td>text+image</td>\n",
       "      <td>Easy</td>\n",
       "      <td>Emerging Markets, Structural Changes, Market A...</td>\n",
       "      <td>Capital Market Expectations</td>\n",
       "      <td>Capital Market Expectations</td>\n",
       "    </tr>\n",
       "    <tr>\n",
       "      <th>3</th>\n",
       "      <td>3</td>\n",
       "      <td>4</td>\n",
       "      <td>Neshie Wakuluk is an investment strategist who...</td>\n",
       "      <td>[./dataset/images/CapitalMarketExpectations_im...</td>\n",
       "      <td>Based on Exhibit 1 and Wakuluk’s assumptions a...</td>\n",
       "      <td></td>\n",
       "      <td>{'A': 'low and bottoming.', './dataset/images/...</td>\n",
       "      <td>A</td>\n",
       "      <td>Country X is predicted to be in the initial re...</td>\n",
       "      <td>Knowledge reasoning QA</td>\n",
       "      <td>text+image</td>\n",
       "      <td>Easy</td>\n",
       "      <td>Business cycle phases, Short-term interest rat...</td>\n",
       "      <td>Capital Market Expectations</td>\n",
       "      <td>Capital Market Expectations</td>\n",
       "    </tr>\n",
       "    <tr>\n",
       "      <th>4</th>\n",
       "      <td>4</td>\n",
       "      <td>5</td>\n",
       "      <td>Neshie Wakuluk is an investment strategist who...</td>\n",
       "      <td>[./dataset/images/CapitalMarketExpectations_im...</td>\n",
       "      <td>Based on Exhibit 1, what capital market effect...</td>\n",
       "      <td></td>\n",
       "      <td>{'A': 'Cyclical assets attract investors.', '....</td>\n",
       "      <td>B</td>\n",
       "      <td>Wakuluk’s model predicts that Country Z’s busi...</td>\n",
       "      <td>Knowledge reasoning QA</td>\n",
       "      <td>text+image</td>\n",
       "      <td>Easy</td>\n",
       "      <td>Business cycles, Monetary policy, Yield curve</td>\n",
       "      <td>Capital Market Expectations</td>\n",
       "      <td>Capital Market Expectations</td>\n",
       "    </tr>\n",
       "    <tr>\n",
       "      <th>...</th>\n",
       "      <td>...</td>\n",
       "      <td>...</td>\n",
       "      <td>...</td>\n",
       "      <td>...</td>\n",
       "      <td>...</td>\n",
       "      <td>...</td>\n",
       "      <td>...</td>\n",
       "      <td>...</td>\n",
       "      <td>...</td>\n",
       "      <td>...</td>\n",
       "      <td>...</td>\n",
       "      <td>...</td>\n",
       "      <td>...</td>\n",
       "      <td>...</td>\n",
       "      <td>...</td>\n",
       "    </tr>\n",
       "    <tr>\n",
       "      <th>3472</th>\n",
       "      <td>3472</td>\n",
       "      <td>109</td>\n",
       "      <td></td>\n",
       "      <td></td>\n",
       "      <td>Piper Hook, a bank examiner, is trying to make...</td>\n",
       "      <td></td>\n",
       "      <td>{'A': 'Multiplicity.', 'B': 'Efficiency.', 'C'...</td>\n",
       "      <td>C</td>\n",
       "      <td>One of the challenges of designing useful stre...</td>\n",
       "      <td>Knowledge reasoning QA</td>\n",
       "      <td>text only</td>\n",
       "      <td>Easy</td>\n",
       "      <td>Stress Testing, Capital Adequacy, Scenario Ana...</td>\n",
       "      <td>Operational Risk and Resiliency</td>\n",
       "      <td>Operational Riskand Resiliency1</td>\n",
       "    </tr>\n",
       "    <tr>\n",
       "      <th>3473</th>\n",
       "      <td>3473</td>\n",
       "      <td>110</td>\n",
       "      <td></td>\n",
       "      <td></td>\n",
       "      <td>Backtesting is most appropriately classified i...</td>\n",
       "      <td></td>\n",
       "      <td>{'A': 'Evaluation of conceptual soundness.', '...</td>\n",
       "      <td>C</td>\n",
       "      <td>Backtesting is a specific type of outcomes ana...</td>\n",
       "      <td>Knowledge reasoning QA</td>\n",
       "      <td>text only</td>\n",
       "      <td>Easy</td>\n",
       "      <td>Backtesting, Outcomes analysis, Validation pro...</td>\n",
       "      <td>Operational Risk and Resiliency</td>\n",
       "      <td>Operational Riskand Resiliency1</td>\n",
       "    </tr>\n",
       "    <tr>\n",
       "      <th>3474</th>\n",
       "      <td>3474</td>\n",
       "      <td>111</td>\n",
       "      <td></td>\n",
       "      <td></td>\n",
       "      <td>Pillar III of the Basel II accord includes all...</td>\n",
       "      <td></td>\n",
       "      <td>{'A': 'A formal disclosure policy should be es...</td>\n",
       "      <td>B</td>\n",
       "      <td>The requirement to operate above minimum regul...</td>\n",
       "      <td>Knowledge reasoning QA</td>\n",
       "      <td>text only</td>\n",
       "      <td>Easy</td>\n",
       "      <td>Basel II Pillars, Market Discipline, Regulator...</td>\n",
       "      <td>Operational Risk and Resiliency</td>\n",
       "      <td>Operational Riskand Resiliency1</td>\n",
       "    </tr>\n",
       "    <tr>\n",
       "      <th>3475</th>\n",
       "      <td>3475</td>\n",
       "      <td>112</td>\n",
       "      <td></td>\n",
       "      <td></td>\n",
       "      <td>The ability of financial firms and systems to ...</td>\n",
       "      <td></td>\n",
       "      <td>{'A': 'a dynamic environment and more reliance...</td>\n",
       "      <td>A</td>\n",
       "      <td>Changing dynamic business environments combine...</td>\n",
       "      <td>Knowledge reasoning QA</td>\n",
       "      <td>text only</td>\n",
       "      <td>Easy</td>\n",
       "      <td>Operational Risk Management, Business Continui...</td>\n",
       "      <td>Operational Risk and Resiliency</td>\n",
       "      <td>Operational Riskand Resiliency1</td>\n",
       "    </tr>\n",
       "    <tr>\n",
       "      <th>3476</th>\n",
       "      <td>3476</td>\n",
       "      <td>113</td>\n",
       "      <td></td>\n",
       "      <td></td>\n",
       "      <td>When performing due diligence on a service pro...</td>\n",
       "      <td></td>\n",
       "      <td>{'A': 'Business background, reputation, and st...</td>\n",
       "      <td>B</td>\n",
       "      <td>●A review of a potential service provider's fi...</td>\n",
       "      <td>Knowledge reasoning QA</td>\n",
       "      <td>text only</td>\n",
       "      <td>Easy</td>\n",
       "      <td>Due Diligence, Financial Performance, Risk Man...</td>\n",
       "      <td>Operational Risk and Resiliency</td>\n",
       "      <td>Operational Riskand Resiliency1</td>\n",
       "    </tr>\n",
       "  </tbody>\n",
       "</table>\n",
       "<p>3477 rows × 15 columns</p>\n",
       "</div>"
      ],
      "text/plain": [
       "        ID  Question Number  \\\n",
       "0        0                1   \n",
       "1        1                2   \n",
       "2        2                3   \n",
       "3        3                4   \n",
       "4        4                5   \n",
       "...    ...              ...   \n",
       "3472  3472              109   \n",
       "3473  3473              110   \n",
       "3474  3474              111   \n",
       "3475  3475              112   \n",
       "3476  3476              113   \n",
       "\n",
       "                                          Share Context  \\\n",
       "0     Neshie Wakuluk is an investment strategist who...   \n",
       "1     Neshie Wakuluk is an investment strategist who...   \n",
       "2     Neshie Wakuluk is an investment strategist who...   \n",
       "3     Neshie Wakuluk is an investment strategist who...   \n",
       "4     Neshie Wakuluk is an investment strategist who...   \n",
       "...                                                 ...   \n",
       "3472                                                      \n",
       "3473                                                      \n",
       "3474                                                      \n",
       "3475                                                      \n",
       "3476                                                      \n",
       "\n",
       "                                            Share Image  \\\n",
       "0     [./dataset/images/CapitalMarketExpectations_im...   \n",
       "1     [./dataset/images/CapitalMarketExpectations_im...   \n",
       "2     [./dataset/images/CapitalMarketExpectations_im...   \n",
       "3     [./dataset/images/CapitalMarketExpectations_im...   \n",
       "4     [./dataset/images/CapitalMarketExpectations_im...   \n",
       "...                                                 ...   \n",
       "3472                                                      \n",
       "3473                                                      \n",
       "3474                                                      \n",
       "3475                                                      \n",
       "3476                                                      \n",
       "\n",
       "                                          Question Text Image  \\\n",
       "0     Wakuluk most likely seeks to mitigate which of...         \n",
       "1           Wakuluk’s approach to economic forecasting:         \n",
       "2     Wakuluk is most likely to make significant adj...         \n",
       "3     Based on Exhibit 1 and Wakuluk’s assumptions a...         \n",
       "4     Based on Exhibit 1, what capital market effect...         \n",
       "...                                                 ...   ...   \n",
       "3472  Piper Hook, a bank examiner, is trying to make...         \n",
       "3473  Backtesting is most appropriately classified i...         \n",
       "3474  Pillar III of the Basel II accord includes all...         \n",
       "3475  The ability of financial firms and systems to ...         \n",
       "3476  When performing due diligence on a service pro...         \n",
       "\n",
       "                                                Options Answer  \\\n",
       "0     {'A': 'Availability', './dataset/images/B': 'T...      A   \n",
       "1     {'A': 'is flexible and limited in complexity.'...      B   \n",
       "2     {'A': 'Country Y only', './dataset/images/B': ...      B   \n",
       "3     {'A': 'low and bottoming.', './dataset/images/...      A   \n",
       "4     {'A': 'Cyclical assets attract investors.', '....      B   \n",
       "...                                                 ...    ...   \n",
       "3472  {'A': 'Multiplicity.', 'B': 'Efficiency.', 'C'...      C   \n",
       "3473  {'A': 'Evaluation of conceptual soundness.', '...      C   \n",
       "3474  {'A': 'A formal disclosure policy should be es...      B   \n",
       "3475  {'A': 'a dynamic environment and more reliance...      A   \n",
       "3476  {'A': 'Business background, reputation, and st...      B   \n",
       "\n",
       "                                            Explanation  \\\n",
       "0     Wakuluk started her career when the global mar...   \n",
       "1     Wakuluk’s approach to economic forecasting uti...   \n",
       "2     Country Z is a developing market. Less-develop...   \n",
       "3     Country X is predicted to be in the initial re...   \n",
       "4     Wakuluk’s model predicts that Country Z’s busi...   \n",
       "...                                                 ...   \n",
       "3472  One of the challenges of designing useful stre...   \n",
       "3473  Backtesting is a specific type of outcomes ana...   \n",
       "3474  The requirement to operate above minimum regul...   \n",
       "3475  Changing dynamic business environments combine...   \n",
       "3476  ●A review of a potential service provider's fi...   \n",
       "\n",
       "                     QA Type Question Type Level of Difficulty  \\\n",
       "0     Knowledge reasoning QA    text+image                Easy   \n",
       "1     Knowledge reasoning QA    text+image                Easy   \n",
       "2     Knowledge reasoning QA    text+image                Easy   \n",
       "3     Knowledge reasoning QA    text+image                Easy   \n",
       "4     Knowledge reasoning QA    text+image                Easy   \n",
       "...                      ...           ...                 ...   \n",
       "3472  Knowledge reasoning QA     text only                Easy   \n",
       "3473  Knowledge reasoning QA     text only                Easy   \n",
       "3474  Knowledge reasoning QA     text only                Easy   \n",
       "3475  Knowledge reasoning QA     text only                Easy   \n",
       "3476  Knowledge reasoning QA     text only                Easy   \n",
       "\n",
       "                                       Knowledge Topics  \\\n",
       "0     Behavioral finance, Cognitive biases, Decision...   \n",
       "1     Econometric Models, Leading Indicators, Checkl...   \n",
       "2     Emerging Markets, Structural Changes, Market A...   \n",
       "3     Business cycle phases, Short-term interest rat...   \n",
       "4         Business cycles, Monetary policy, Yield curve   \n",
       "...                                                 ...   \n",
       "3472  Stress Testing, Capital Adequacy, Scenario Ana...   \n",
       "3473  Backtesting, Outcomes analysis, Validation pro...   \n",
       "3474  Basel II Pillars, Market Discipline, Regulator...   \n",
       "3475  Operational Risk Management, Business Continui...   \n",
       "3476  Due Diligence, Financial Performance, Risk Man...   \n",
       "\n",
       "                       General Topics                       Book Label  \n",
       "0         Capital Market Expectations      Capital Market Expectations  \n",
       "1         Capital Market Expectations      Capital Market Expectations  \n",
       "2         Capital Market Expectations      Capital Market Expectations  \n",
       "3         Capital Market Expectations      Capital Market Expectations  \n",
       "4         Capital Market Expectations      Capital Market Expectations  \n",
       "...                               ...                              ...  \n",
       "3472  Operational Risk and Resiliency  Operational Riskand Resiliency1  \n",
       "3473  Operational Risk and Resiliency  Operational Riskand Resiliency1  \n",
       "3474  Operational Risk and Resiliency  Operational Riskand Resiliency1  \n",
       "3475  Operational Risk and Resiliency  Operational Riskand Resiliency1  \n",
       "3476  Operational Risk and Resiliency  Operational Riskand Resiliency1  \n",
       "\n",
       "[3477 rows x 15 columns]"
      ]
     },
     "execution_count": 3,
     "metadata": {},
     "output_type": "execute_result"
    }
   ],
   "source": [
    "# Load the CSV file\n",
    "df1 = pd.read_csv('dataset/data.csv', dtype=str)\n",
    "df1['ID'] = df1['ID'].astype(int)\n",
    "df1['Question Number'] = df1['Question Number'].astype(int)\n",
    "df1['Share Context'] = df1['Share Context'].fillna('')\n",
    "df1['Image'] = df1['Image'].fillna('')\n",
    "df1['Share Image'] = df1['Share Image'].fillna('')\n",
    "\n",
    "# Function to safely evaluate the string to a dictionary\n",
    "def safe_literal_eval(val):\n",
    "    try:\n",
    "        return ast.literal_eval(val)\n",
    "    except (ValueError, SyntaxError):\n",
    "        return \"error\"\n",
    "\n",
    "\n",
    "# Apply the function to the 'Options' column\n",
    "df1['Options'] = df1['Options'].apply(safe_literal_eval)\n",
    "\n",
    "# Function to safely evaluate the string to a list\n",
    "def safe_literal_eval(val):\n",
    "    try:\n",
    "        return ast.literal_eval(val)\n",
    "    except (ValueError, SyntaxError):\n",
    "        return val\n",
    "\n",
    "\n",
    "# Apply the function to the 'Share Image' column\n",
    "df1['Share Image'] = df1['Share Image'].apply(safe_literal_eval)\n",
    "df1"
   ]
  },
  {
   "cell_type": "code",
   "execution_count": 137,
   "id": "22a0745db13f3a06",
   "metadata": {
    "ExecuteTime": {
     "end_time": "2024-10-11T01:33:08.801022Z",
     "start_time": "2024-10-11T01:33:08.311686Z"
    }
   },
   "outputs": [],
   "source": [
    "import json\n",
    "# Convert DataFrame to dictionary\n",
    "data_dict = df1.to_dict(orient='records')\n",
    "# Write dictionary to JSON file with UTF-8 encoding\n",
    "with open('dataset/data_v1.json', 'w', encoding='utf-8') as json_file:\n",
    "    json.dump(data_dict, json_file, ensure_ascii=False, indent=4)"
   ]
  },
  {
   "cell_type": "markdown",
   "id": "fa50099521fa4667",
   "metadata": {},
   "source": [
    "# 读取数据"
   ]
  },
  {
   "cell_type": "code",
   "execution_count": 90,
   "id": "90146d5a6595b0ac",
   "metadata": {
    "ExecuteTime": {
     "end_time": "2024-10-11T03:37:03.227932Z",
     "start_time": "2024-10-11T03:37:02.637919Z"
    }
   },
   "outputs": [
    {
     "data": {
      "text/plain": [
       "0       [CapitalMarketExpectations_images/share1-8_1.png]\n",
       "1       [CapitalMarketExpectations_images/share1-8_1.png]\n",
       "2       [CapitalMarketExpectations_images/share1-8_1.png]\n",
       "3       [CapitalMarketExpectations_images/share1-8_1.png]\n",
       "4       [CapitalMarketExpectations_images/share1-8_1.png]\n",
       "                              ...                        \n",
       "3472                                                     \n",
       "3473                                                     \n",
       "3474                                                     \n",
       "3475                                                     \n",
       "3476                                                     \n",
       "Name: Share Image, Length: 3477, dtype: object"
      ]
     },
     "execution_count": 90,
     "metadata": {},
     "output_type": "execute_result"
    }
   ],
   "source": [
    "data = pd.read_json('dataset/data_v1.json')\n",
    "data['Share Image']"
   ]
  },
  {
   "cell_type": "code",
   "execution_count": 97,
   "id": "8320eb0f",
   "metadata": {},
   "outputs": [
    {
     "data": {
      "text/html": [
       "<div>\n",
       "<style scoped>\n",
       "    .dataframe tbody tr th:only-of-type {\n",
       "        vertical-align: middle;\n",
       "    }\n",
       "\n",
       "    .dataframe tbody tr th {\n",
       "        vertical-align: top;\n",
       "    }\n",
       "\n",
       "    .dataframe thead th {\n",
       "        text-align: right;\n",
       "    }\n",
       "</style>\n",
       "<table border=\"1\" class=\"dataframe\">\n",
       "  <thead>\n",
       "    <tr style=\"text-align: right;\">\n",
       "      <th></th>\n",
       "      <th>ID</th>\n",
       "      <th>Question Number</th>\n",
       "      <th>Share Context</th>\n",
       "      <th>Share Image</th>\n",
       "      <th>Question Text</th>\n",
       "      <th>Image</th>\n",
       "      <th>Options</th>\n",
       "      <th>Answer</th>\n",
       "      <th>Explanation</th>\n",
       "      <th>QA Type</th>\n",
       "      <th>Question Type</th>\n",
       "      <th>Level of Difficulty</th>\n",
       "      <th>Knowledge Topics</th>\n",
       "      <th>General Topics</th>\n",
       "      <th>Book Label</th>\n",
       "      <th>Unnamed: 15</th>\n",
       "    </tr>\n",
       "  </thead>\n",
       "  <tbody>\n",
       "    <tr>\n",
       "      <th>0</th>\n",
       "      <td>0</td>\n",
       "      <td>1</td>\n",
       "      <td>Neshie Wakuluk is an investment strategist who...</td>\n",
       "      <td>[CapitalMarketExpectations_images/share1-8_1.png]</td>\n",
       "      <td>Wakuluk most likely seeks to mitigate which of...</td>\n",
       "      <td></td>\n",
       "      <td>{'A': 'Availability', 'B': 'Time period', 'C':...</td>\n",
       "      <td>A</td>\n",
       "      <td>Wakuluk started her career when the global mar...</td>\n",
       "      <td>Knowledge reasoning QA</td>\n",
       "      <td>text+image</td>\n",
       "      <td>Easy</td>\n",
       "      <td>Behavioral finance, Cognitive biases, Decision...</td>\n",
       "      <td>Capital Market Expectations</td>\n",
       "      <td>Capital Market Expectations</td>\n",
       "      <td>NaN</td>\n",
       "    </tr>\n",
       "    <tr>\n",
       "      <th>1</th>\n",
       "      <td>1</td>\n",
       "      <td>2</td>\n",
       "      <td>Neshie Wakuluk is an investment strategist who...</td>\n",
       "      <td>[CapitalMarketExpectations_images/share1-8_1.png]</td>\n",
       "      <td>Wakuluk’s approach to economic forecasting:</td>\n",
       "      <td></td>\n",
       "      <td>{'A': 'is flexible and limited in complexity.'...</td>\n",
       "      <td>B</td>\n",
       "      <td>Wakuluk’s approach to economic forecasting uti...</td>\n",
       "      <td>Knowledge reasoning QA</td>\n",
       "      <td>text+image</td>\n",
       "      <td>Easy</td>\n",
       "      <td>Econometric Models, Leading Indicators, Checkl...</td>\n",
       "      <td>Capital Market Expectations</td>\n",
       "      <td>Capital Market Expectations</td>\n",
       "      <td>NaN</td>\n",
       "    </tr>\n",
       "    <tr>\n",
       "      <th>2</th>\n",
       "      <td>2</td>\n",
       "      <td>3</td>\n",
       "      <td>Neshie Wakuluk is an investment strategist who...</td>\n",
       "      <td>[CapitalMarketExpectations_images/share1-8_1.png]</td>\n",
       "      <td>Wakuluk is most likely to make significant adj...</td>\n",
       "      <td></td>\n",
       "      <td>{'A': 'Country Y only', 'B': 'Country Z only',...</td>\n",
       "      <td>B</td>\n",
       "      <td>Country Z is a developing market. Less-develop...</td>\n",
       "      <td>Knowledge reasoning QA</td>\n",
       "      <td>text+image</td>\n",
       "      <td>Easy</td>\n",
       "      <td>Emerging Markets, Structural Changes, Market A...</td>\n",
       "      <td>Capital Market Expectations</td>\n",
       "      <td>Capital Market Expectations</td>\n",
       "      <td>NaN</td>\n",
       "    </tr>\n",
       "    <tr>\n",
       "      <th>3</th>\n",
       "      <td>3</td>\n",
       "      <td>4</td>\n",
       "      <td>Neshie Wakuluk is an investment strategist who...</td>\n",
       "      <td>[CapitalMarketExpectations_images/share1-8_1.png]</td>\n",
       "      <td>Based on Exhibit 1 and Wakuluk’s assumptions a...</td>\n",
       "      <td></td>\n",
       "      <td>{'A': 'low and bottoming.', 'B': 'approaching ...</td>\n",
       "      <td>A</td>\n",
       "      <td>Country X is predicted to be in the initial re...</td>\n",
       "      <td>Knowledge reasoning QA</td>\n",
       "      <td>text+image</td>\n",
       "      <td>Easy</td>\n",
       "      <td>Business cycle phases, Short-term interest rat...</td>\n",
       "      <td>Capital Market Expectations</td>\n",
       "      <td>Capital Market Expectations</td>\n",
       "      <td>NaN</td>\n",
       "    </tr>\n",
       "    <tr>\n",
       "      <th>4</th>\n",
       "      <td>4</td>\n",
       "      <td>5</td>\n",
       "      <td>Neshie Wakuluk is an investment strategist who...</td>\n",
       "      <td>[CapitalMarketExpectations_images/share1-8_1.png]</td>\n",
       "      <td>Based on Exhibit 1, what capital market effect...</td>\n",
       "      <td></td>\n",
       "      <td>{'A': 'Cyclical assets attract investors.', 'B...</td>\n",
       "      <td>B</td>\n",
       "      <td>Wakuluk’s model predicts that Country Z’s busi...</td>\n",
       "      <td>Knowledge reasoning QA</td>\n",
       "      <td>text+image</td>\n",
       "      <td>Easy</td>\n",
       "      <td>Business cycles, Monetary policy, Yield curve</td>\n",
       "      <td>Capital Market Expectations</td>\n",
       "      <td>Capital Market Expectations</td>\n",
       "      <td>NaN</td>\n",
       "    </tr>\n",
       "    <tr>\n",
       "      <th>...</th>\n",
       "      <td>...</td>\n",
       "      <td>...</td>\n",
       "      <td>...</td>\n",
       "      <td>...</td>\n",
       "      <td>...</td>\n",
       "      <td>...</td>\n",
       "      <td>...</td>\n",
       "      <td>...</td>\n",
       "      <td>...</td>\n",
       "      <td>...</td>\n",
       "      <td>...</td>\n",
       "      <td>...</td>\n",
       "      <td>...</td>\n",
       "      <td>...</td>\n",
       "      <td>...</td>\n",
       "      <td>...</td>\n",
       "    </tr>\n",
       "    <tr>\n",
       "      <th>2841</th>\n",
       "      <td>2841</td>\n",
       "      <td>14</td>\n",
       "      <td>Ed Smith is a new trainee in the foreign excha...</td>\n",
       "      <td>[Economics_images/share14-18_1.png, Economics_...</td>\n",
       "      <td>Based upon Exhibit 1, the forward premium (dis...</td>\n",
       "      <td></td>\n",
       "      <td>{'A': '-1.546', 'B': '1.546', 'C': '1.576'}</td>\n",
       "      <td>C</td>\n",
       "      <td>The equation to calculate the forward premium ...</td>\n",
       "      <td>Math reasoning QA</td>\n",
       "      <td>text+image</td>\n",
       "      <td>Hard</td>\n",
       "      <td>Foreign Exchange Rate Calculations, Forward Pr...</td>\n",
       "      <td>Economics</td>\n",
       "      <td>Economics</td>\n",
       "      <td>NaN</td>\n",
       "    </tr>\n",
       "    <tr>\n",
       "      <th>2842</th>\n",
       "      <td>2842</td>\n",
       "      <td>15</td>\n",
       "      <td>Ed Smith is a new trainee in the foreign excha...</td>\n",
       "      <td>[Economics_images/share14-18_1.png, Economics_...</td>\n",
       "      <td>Based on Exhibit 2, the most appropriate recom...</td>\n",
       "      <td></td>\n",
       "      <td>{'A': 'decline the trade, no arbitrage profits...</td>\n",
       "      <td>B</td>\n",
       "      <td>The dealer is posting a bid rate to buy BRL at...</td>\n",
       "      <td>Math reasoning QA</td>\n",
       "      <td>text+image</td>\n",
       "      <td>Hard</td>\n",
       "      <td>Arbitrage opportunities, Currency cross rates,...</td>\n",
       "      <td>Economics</td>\n",
       "      <td>Economics</td>\n",
       "      <td>NaN</td>\n",
       "    </tr>\n",
       "    <tr>\n",
       "      <th>2843</th>\n",
       "      <td>2843</td>\n",
       "      <td>16</td>\n",
       "      <td>Ed Smith is a new trainee in the foreign excha...</td>\n",
       "      <td>[Economics_images/share14-18_1.png, Economics_...</td>\n",
       "      <td>Based on Exhibit 3, the potential all-in USD r...</td>\n",
       "      <td></td>\n",
       "      <td>{'A': '0.83%.', 'B': '1.23%.', 'C': '1.63%.'}</td>\n",
       "      <td>A</td>\n",
       "      <td>The carry trade involves borrowing in a lower-...</td>\n",
       "      <td>Math reasoning QA</td>\n",
       "      <td>text+image</td>\n",
       "      <td>Hard</td>\n",
       "      <td>Carry Trade, Exchange Rates, Interest Rate Dif...</td>\n",
       "      <td>Economics</td>\n",
       "      <td>Economics</td>\n",
       "      <td>NaN</td>\n",
       "    </tr>\n",
       "    <tr>\n",
       "      <th>2844</th>\n",
       "      <td>2844</td>\n",
       "      <td>17</td>\n",
       "      <td>Ed Smith is a new trainee in the foreign excha...</td>\n",
       "      <td>[Economics_images/share14-18_1.png, Economics_...</td>\n",
       "      <td>The factor least likely to lead to a narrow bi...</td>\n",
       "      <td></td>\n",
       "      <td>{'A': 'timing of its trade.', 'B': 'B.company'...</td>\n",
       "      <td>B</td>\n",
       "      <td>While credit ratings can affect spreads, the t...</td>\n",
       "      <td>Knowledge reasoning QA</td>\n",
       "      <td>text+image</td>\n",
       "      <td>Hard</td>\n",
       "      <td>Market liquidity, Currency markets, Credit risk</td>\n",
       "      <td>Economics</td>\n",
       "      <td>Economics</td>\n",
       "      <td>NaN</td>\n",
       "    </tr>\n",
       "    <tr>\n",
       "      <th>2845</th>\n",
       "      <td>2845</td>\n",
       "      <td>18</td>\n",
       "      <td>Ed Smith is a new trainee in the foreign excha...</td>\n",
       "      <td>[Economics_images/share14-18_1.png, Economics_...</td>\n",
       "      <td>If Smith's statement on parity conditions is c...</td>\n",
       "      <td></td>\n",
       "      <td>{'A': 'current spot rates.', 'B': 'forward exc...</td>\n",
       "      <td>B</td>\n",
       "      <td>By rearranging the terms of the equation defin...</td>\n",
       "      <td>Knowledge reasoning QA</td>\n",
       "      <td>text+image</td>\n",
       "      <td>Hard</td>\n",
       "      <td>Covered Interest Rate Parity, Uncovered Intere...</td>\n",
       "      <td>Economics</td>\n",
       "      <td>Economics</td>\n",
       "      <td>NaN</td>\n",
       "    </tr>\n",
       "  </tbody>\n",
       "</table>\n",
       "<p>487 rows × 16 columns</p>\n",
       "</div>"
      ],
      "text/plain": [
       "        ID  Question Number  \\\n",
       "0        0                1   \n",
       "1        1                2   \n",
       "2        2                3   \n",
       "3        3                4   \n",
       "4        4                5   \n",
       "...    ...              ...   \n",
       "2841  2841               14   \n",
       "2842  2842               15   \n",
       "2843  2843               16   \n",
       "2844  2844               17   \n",
       "2845  2845               18   \n",
       "\n",
       "                                          Share Context  \\\n",
       "0     Neshie Wakuluk is an investment strategist who...   \n",
       "1     Neshie Wakuluk is an investment strategist who...   \n",
       "2     Neshie Wakuluk is an investment strategist who...   \n",
       "3     Neshie Wakuluk is an investment strategist who...   \n",
       "4     Neshie Wakuluk is an investment strategist who...   \n",
       "...                                                 ...   \n",
       "2841  Ed Smith is a new trainee in the foreign excha...   \n",
       "2842  Ed Smith is a new trainee in the foreign excha...   \n",
       "2843  Ed Smith is a new trainee in the foreign excha...   \n",
       "2844  Ed Smith is a new trainee in the foreign excha...   \n",
       "2845  Ed Smith is a new trainee in the foreign excha...   \n",
       "\n",
       "                                            Share Image  \\\n",
       "0     [CapitalMarketExpectations_images/share1-8_1.png]   \n",
       "1     [CapitalMarketExpectations_images/share1-8_1.png]   \n",
       "2     [CapitalMarketExpectations_images/share1-8_1.png]   \n",
       "3     [CapitalMarketExpectations_images/share1-8_1.png]   \n",
       "4     [CapitalMarketExpectations_images/share1-8_1.png]   \n",
       "...                                                 ...   \n",
       "2841  [Economics_images/share14-18_1.png, Economics_...   \n",
       "2842  [Economics_images/share14-18_1.png, Economics_...   \n",
       "2843  [Economics_images/share14-18_1.png, Economics_...   \n",
       "2844  [Economics_images/share14-18_1.png, Economics_...   \n",
       "2845  [Economics_images/share14-18_1.png, Economics_...   \n",
       "\n",
       "                                          Question Text Image  \\\n",
       "0     Wakuluk most likely seeks to mitigate which of...         \n",
       "1           Wakuluk’s approach to economic forecasting:         \n",
       "2     Wakuluk is most likely to make significant adj...         \n",
       "3     Based on Exhibit 1 and Wakuluk’s assumptions a...         \n",
       "4     Based on Exhibit 1, what capital market effect...         \n",
       "...                                                 ...   ...   \n",
       "2841  Based upon Exhibit 1, the forward premium (dis...         \n",
       "2842  Based on Exhibit 2, the most appropriate recom...         \n",
       "2843  Based on Exhibit 3, the potential all-in USD r...         \n",
       "2844  The factor least likely to lead to a narrow bi...         \n",
       "2845  If Smith's statement on parity conditions is c...         \n",
       "\n",
       "                                                Options Answer  \\\n",
       "0     {'A': 'Availability', 'B': 'Time period', 'C':...      A   \n",
       "1     {'A': 'is flexible and limited in complexity.'...      B   \n",
       "2     {'A': 'Country Y only', 'B': 'Country Z only',...      B   \n",
       "3     {'A': 'low and bottoming.', 'B': 'approaching ...      A   \n",
       "4     {'A': 'Cyclical assets attract investors.', 'B...      B   \n",
       "...                                                 ...    ...   \n",
       "2841        {'A': '-1.546', 'B': '1.546', 'C': '1.576'}      C   \n",
       "2842  {'A': 'decline the trade, no arbitrage profits...      B   \n",
       "2843      {'A': '0.83%.', 'B': '1.23%.', 'C': '1.63%.'}      A   \n",
       "2844  {'A': 'timing of its trade.', 'B': 'B.company'...      B   \n",
       "2845  {'A': 'current spot rates.', 'B': 'forward exc...      B   \n",
       "\n",
       "                                            Explanation  \\\n",
       "0     Wakuluk started her career when the global mar...   \n",
       "1     Wakuluk’s approach to economic forecasting uti...   \n",
       "2     Country Z is a developing market. Less-develop...   \n",
       "3     Country X is predicted to be in the initial re...   \n",
       "4     Wakuluk’s model predicts that Country Z’s busi...   \n",
       "...                                                 ...   \n",
       "2841  The equation to calculate the forward premium ...   \n",
       "2842  The dealer is posting a bid rate to buy BRL at...   \n",
       "2843  The carry trade involves borrowing in a lower-...   \n",
       "2844  While credit ratings can affect spreads, the t...   \n",
       "2845  By rearranging the terms of the equation defin...   \n",
       "\n",
       "                     QA Type Question Type Level of Difficulty  \\\n",
       "0     Knowledge reasoning QA    text+image                Easy   \n",
       "1     Knowledge reasoning QA    text+image                Easy   \n",
       "2     Knowledge reasoning QA    text+image                Easy   \n",
       "3     Knowledge reasoning QA    text+image                Easy   \n",
       "4     Knowledge reasoning QA    text+image                Easy   \n",
       "...                      ...           ...                 ...   \n",
       "2841       Math reasoning QA    text+image                Hard   \n",
       "2842       Math reasoning QA    text+image                Hard   \n",
       "2843       Math reasoning QA    text+image                Hard   \n",
       "2844  Knowledge reasoning QA    text+image                Hard   \n",
       "2845  Knowledge reasoning QA    text+image                Hard   \n",
       "\n",
       "                                       Knowledge Topics  \\\n",
       "0     Behavioral finance, Cognitive biases, Decision...   \n",
       "1     Econometric Models, Leading Indicators, Checkl...   \n",
       "2     Emerging Markets, Structural Changes, Market A...   \n",
       "3     Business cycle phases, Short-term interest rat...   \n",
       "4         Business cycles, Monetary policy, Yield curve   \n",
       "...                                                 ...   \n",
       "2841  Foreign Exchange Rate Calculations, Forward Pr...   \n",
       "2842  Arbitrage opportunities, Currency cross rates,...   \n",
       "2843  Carry Trade, Exchange Rates, Interest Rate Dif...   \n",
       "2844    Market liquidity, Currency markets, Credit risk   \n",
       "2845  Covered Interest Rate Parity, Uncovered Intere...   \n",
       "\n",
       "                   General Topics                   Book Label  Unnamed: 15  \n",
       "0     Capital Market Expectations  Capital Market Expectations          NaN  \n",
       "1     Capital Market Expectations  Capital Market Expectations          NaN  \n",
       "2     Capital Market Expectations  Capital Market Expectations          NaN  \n",
       "3     Capital Market Expectations  Capital Market Expectations          NaN  \n",
       "4     Capital Market Expectations  Capital Market Expectations          NaN  \n",
       "...                           ...                          ...          ...  \n",
       "2841                    Economics                    Economics          NaN  \n",
       "2842                    Economics                    Economics          NaN  \n",
       "2843                    Economics                    Economics          NaN  \n",
       "2844                    Economics                    Economics          NaN  \n",
       "2845                    Economics                    Economics          NaN  \n",
       "\n",
       "[487 rows x 16 columns]"
      ]
     },
     "execution_count": 97,
     "metadata": {},
     "output_type": "execute_result"
    }
   ],
   "source": [
    "textimage = data[data['Share Image'] != '']\n",
    "textimage"
   ]
  },
  {
   "cell_type": "code",
   "execution_count": 129,
   "id": "875e1b74",
   "metadata": {},
   "outputs": [
    {
     "data": {
      "text/plain": [
       "Index([   8,    9,   10,   11,   12,   14,   16,   18,   19,   20,\n",
       "       ...\n",
       "       3467, 3468, 3469, 3470, 3471, 3472, 3473, 3474, 3475, 3476],\n",
       "      dtype='int64', length=2051)"
      ]
     },
     "execution_count": 129,
     "metadata": {},
     "output_type": "execute_result"
    }
   ],
   "source": [
    "textKnowledge.index"
   ]
  },
  {
   "cell_type": "code",
   "execution_count": 139,
   "id": "444018fb0b7b04b4",
   "metadata": {
    "ExecuteTime": {
     "end_time": "2024-10-11T03:40:48.787953Z",
     "start_time": "2024-10-11T03:40:40.363295Z"
    }
   },
   "outputs": [
    {
     "name": "stdout",
     "output_type": "stream",
     "text": [
      "ID: 2220\n"
     ]
    },
    {
     "data": {
      "text/markdown": [
       "Explanation: $$\n",
       "E(r) = 2.0\\% + 0.80 \\cdot 2.0\\% - 0.50 \\cdot 1.0\\% + 1.30 \\cdot 3.0\\% = 7.00\\%\n",
       "$$\n",
       "\n",
       "$$\n",
       "\\text{Unexpected return} = 0.80 \\cdot (2.0 - 1.0\\%) - 0.50 \\cdot (1.0\\% - 1.0\\%) + 1.30 \\cdot (1.5\\% - 0.5\\%)\n",
       "$$\n",
       "\n",
       "$$\n",
       "= 0.80\\% + 1.30\\% = 2.10\\%\n",
       "$$\n",
       "\n",
       "$$\n",
       "\\text{Revised } E(r) = 7.00\\% + 2.10\\% = 9.10\\%\n",
       "$$"
      ],
      "text/plain": [
       "<IPython.core.display.Markdown object>"
      ]
     },
     "metadata": {},
     "output_type": "display_data"
    },
    {
     "name": "stdout",
     "output_type": "stream",
     "text": [
      "Book Label: foundation of risk management1\n",
      "--------------------------------------------------\n",
      "ID: 2222\n"
     ]
    },
    {
     "data": {
      "text/markdown": [
       "Explanation: The CAPM forecast for Dow is calculated as: $$ 1.1 \\beta \\cdot 6.0\\% = 6.60\\% excess return.$$"
      ],
      "text/plain": [
       "<IPython.core.display.Markdown object>"
      ]
     },
     "metadata": {},
     "output_type": "display_data"
    },
    {
     "name": "stdout",
     "output_type": "stream",
     "text": [
      "Book Label: foundation of risk management1\n",
      "--------------------------------------------------\n",
      "ID: 2224\n"
     ]
    },
    {
     "data": {
      "text/markdown": [
       "Explanation: $$E(R) = 0.03 + 0.7\\cdot(0.015) + 1.2\\cdot(0.04) - 0.1\\cdot(0.05)\n",
       "E(R) = 0.03 + 0.0105 + 0.048 - 0.005 = 0.0835\\text{ or }8.35\\%.$$"
      ],
      "text/plain": [
       "<IPython.core.display.Markdown object>"
      ]
     },
     "metadata": {},
     "output_type": "display_data"
    },
    {
     "name": "stdout",
     "output_type": "stream",
     "text": [
      "Book Label: foundation of risk management1\n",
      "--------------------------------------------------\n",
      "ID: 2229\n"
     ]
    },
    {
     "data": {
      "text/markdown": [
       "Explanation: As the assets are uncorrelated, $\\sigma_P^2 = W_A^2 \\sigma_A^2 + W_B^2 \\sigma_B^2 = 0.09^2 W_A^2 + 0.16^2 (1 - W_A)^2 = 0.0337 {W_A}^2 - 0.0512 W_A + 0.0256$.\n",
       "\n",
       "When $W_A = - \\frac{-0.0512}{2 \\times 0.0337} = 0.759644$, $\\sigma_P^2$ will be the minimum."
      ],
      "text/plain": [
       "<IPython.core.display.Markdown object>"
      ]
     },
     "metadata": {},
     "output_type": "display_data"
    },
    {
     "name": "stdout",
     "output_type": "stream",
     "text": [
      "Book Label: foundation of risk management1\n",
      "--------------------------------------------------\n",
      "ID: 2231\n"
     ]
    },
    {
     "data": {
      "text/markdown": [
       "Explanation: $$\n",
       "\\frac{11\\% - 3\\%}{16\\%} = 0.5\n",
       "$$\n",
       "\n",
       "The sharp ratio of S&P 500 is: $ \\frac{12\\% - 3\\%}{9\\%} = 1 $"
      ],
      "text/plain": [
       "<IPython.core.display.Markdown object>"
      ]
     },
     "metadata": {},
     "output_type": "display_data"
    },
    {
     "name": "stdout",
     "output_type": "stream",
     "text": [
      "Book Label: foundation of risk management1\n",
      "--------------------------------------------------\n",
      "ID: 2263\n"
     ]
    },
    {
     "data": {
      "text/markdown": [
       "Explanation: \n",
       "\n",
       "$$\n",
       "\\beta = \\rho \\frac{\\sigma_I}{\\sigma_m}\n",
       "$$\n",
       "\n",
       "$$\n",
       "\\beta_{PNS} = 0.75 \\times \\frac{18\\%}{22\\%} = 0.61\n",
       "$$\n",
       "\n",
       "$$\n",
       "\\beta_{ABC} = 0.85 \\times \\frac{17\\%}{22\\%} = 0.66\n",
       "$$"
      ],
      "text/plain": [
       "<IPython.core.display.Markdown object>"
      ]
     },
     "metadata": {},
     "output_type": "display_data"
    },
    {
     "name": "stdout",
     "output_type": "stream",
     "text": [
      "Book Label: foundation of risk management1\n",
      "--------------------------------------------------\n",
      "ID: 2269\n"
     ]
    },
    {
     "data": {
      "text/markdown": [
       "Explanation: Information ratio (IR) is calculated as alpha divided by the tracking error. The regression equation shows the intercept (alpha) is 0.0171 and the tracking error (SER) is 0.0180. Therefore, IR = 0.0171 / 0.0180 = 0.950."
      ],
      "text/plain": [
       "<IPython.core.display.Markdown object>"
      ]
     },
     "metadata": {},
     "output_type": "display_data"
    },
    {
     "name": "stdout",
     "output_type": "stream",
     "text": [
      "Book Label: foundation of risk management1\n",
      "--------------------------------------------------\n",
      "ID: 2271\n"
     ]
    },
    {
     "data": {
      "text/markdown": [
       "Explanation: The annualized ex post (active-based) information ratio is calculated as follows: IR = (0.0044 × 12) / (0.0234 × √12) = 0.65137."
      ],
      "text/plain": [
       "<IPython.core.display.Markdown object>"
      ]
     },
     "metadata": {},
     "output_type": "display_data"
    },
    {
     "name": "stdout",
     "output_type": "stream",
     "text": [
      "Book Label: foundation of risk management1\n",
      "--------------------------------------------------\n",
      "ID: 2272\n"
     ]
    },
    {
     "data": {
      "text/markdown": [
       "Explanation: The following equation is used to calculate beta:\n",
       "\n",
       "$$\n",
       "\\beta = \\rho \\times \\frac{\\sigma_P}{\\sigma_B} = 0.8 \\times \\frac{0.05}{0.04} = 1.00\n",
       "$$"
      ],
      "text/plain": [
       "<IPython.core.display.Markdown object>"
      ]
     },
     "metadata": {},
     "output_type": "display_data"
    },
    {
     "name": "stdout",
     "output_type": "stream",
     "text": [
      "Book Label: foundation of risk management1\n",
      "--------------------------------------------------\n",
      "ID: 2275\n"
     ]
    },
    {
     "data": {
      "text/markdown": [
       "Explanation: \n",
       "\n",
       "$$\n",
       "E(R_p) = R_f + \\beta \\left[E(R_m) - R_f \\right]\n",
       "$$\n",
       "\n",
       "$$\n",
       "8\\% = 5\\% + (-0.5) \\times \\left[E(R_m) - 5\\% \\right]\n",
       "$$\n",
       "\n",
       "$$\n",
       "E(R_m) = -1\\%\n",
       "$$"
      ],
      "text/plain": [
       "<IPython.core.display.Markdown object>"
      ]
     },
     "metadata": {},
     "output_type": "display_data"
    },
    {
     "name": "stdout",
     "output_type": "stream",
     "text": [
      "Book Label: foundation of risk management1\n",
      "--------------------------------------------------\n",
      "ID: 2298\n"
     ]
    },
    {
     "data": {
      "text/markdown": [
       "Explanation: $$\n",
       "\n",
       "Expected residual return = r_P - r_B\n",
       "\n",
       "Information ratio = (r_P - r_B)/\\text{residual risk}\n",
       "\n",
       "Expected residual return_A = 9.3\\% - 7.4\\% = 1.9\\%\n",
       "\n",
       "Expected residual return_B = 0.9 \\times 2.4\\% = 2.16\\%\n",
       "\n",
       "Expected residual return_C = 1.3 \\times 1.5\\% = 1.95\\%\n",
       "\n",
       "Expected residual return_D = 9.4\\% - 7.4\\% = 2\\%\n",
       "\n",
       "Information ratio_D = 2\\% / 1.8\\% = 1.1\n",
       "\n",
       "Both Fund B and D meet the requirements while Fund D has higher information ratio.\n",
       "\n",
       "计算数据如下：基金B和D都满足要求，而基金D的信息比率更高。\n",
       " $$"
      ],
      "text/plain": [
       "<IPython.core.display.Markdown object>"
      ]
     },
     "metadata": {},
     "output_type": "display_data"
    },
    {
     "name": "stdout",
     "output_type": "stream",
     "text": [
      "Book Label: foundation of risk management1\n",
      "--------------------------------------------------\n",
      "ID: 2300\n"
     ]
    },
    {
     "data": {
      "text/markdown": [
       "Explanation: IR = Average Excess Return / Tracking Error Fund B has the highest information ratio."
      ],
      "text/plain": [
       "<IPython.core.display.Markdown object>"
      ]
     },
     "metadata": {},
     "output_type": "display_data"
    },
    {
     "name": "stdout",
     "output_type": "stream",
     "text": [
      "Book Label: foundation of risk management1\n",
      "--------------------------------------------------\n",
      "ID: 2301\n"
     ]
    },
    {
     "data": {
      "text/markdown": [
       "Explanation: \n",
       "\n",
       "$$\n",
       "\\text{The portfolio's excess return} = \\text{Sharpe ratio} \\times \\text{volatility} = 0.50 \\times 12\\% = 6.0\\%\n",
       "$$\n",
       "\n",
       "$$\n",
       "\\text{Its beta} = \\frac{\\text{(excess return)}}{\\text{Treynor ratio}} = \\frac{6.0\\%}{0.20} = 0.30\n",
       "$$\n",
       "\n",
       "$$\n",
       "\\text{Portfolio alpha} = \\text{(portfolio's excess return)} - \\text{beta} \\times \\text{(market premium)} = 6.0\\% - 0.30 \\times 5.0\\% = 4.5\\%\n",
       "$$\n",
       "\n",
       "组合的超额收益 $= 0.50 \\times 12\\% = 6.0\\%$\n",
       "beta $= 6.0\\% / 0.20 = 0.30$\n",
       "组合的 alpha $= 6.0\\% - 0.30 \\times 5.0\\% = 4.5\\%$"
      ],
      "text/plain": [
       "<IPython.core.display.Markdown object>"
      ]
     },
     "metadata": {},
     "output_type": "display_data"
    },
    {
     "name": "stdout",
     "output_type": "stream",
     "text": [
      "Book Label: foundation of risk management1\n",
      "--------------------------------------------------\n",
      "ID: 2302\n"
     ]
    },
    {
     "data": {
      "text/markdown": [
       "Explanation: Tracking error = $$\\text{SQRT}(24\\%^2 \\times 15\\%^2 - 2 \\times 24\\% \\times 15\\% \\times 0.80) = 15.0\\%$$  \n",
       "Information ratio = $$\\frac{E(R_P) - R(B)}{TE} = \\frac{(11\\% - 5\\%)}{15\\%} = 0.40$$"
      ],
      "text/plain": [
       "<IPython.core.display.Markdown object>"
      ]
     },
     "metadata": {},
     "output_type": "display_data"
    },
    {
     "name": "stdout",
     "output_type": "stream",
     "text": [
      "Book Label: foundation of risk management1\n",
      "--------------------------------------------------\n",
      "ID: 2303\n"
     ]
    },
    {
     "data": {
      "text/markdown": [
       "Explanation: \n",
       "\n",
       "$$\n",
       "E(R_p) = R_f + \\beta \\left[ E(R_m) - R_f \\right]\n",
       "$$\n",
       "\n",
       "$$\n",
       "E(R_p) = 5\\% + 1.10 \\times (10\\% - 5\\%)\n",
       "$$\n",
       "\n",
       "$$\n",
       "E(R_p) = 10.5\\%\n",
       "$$"
      ],
      "text/plain": [
       "<IPython.core.display.Markdown object>"
      ]
     },
     "metadata": {},
     "output_type": "display_data"
    },
    {
     "name": "stdout",
     "output_type": "stream",
     "text": [
      "Book Label: foundation of risk management1\n",
      "--------------------------------------------------\n",
      "ID: 2531\n"
     ]
    },
    {
     "data": {
      "text/markdown": [
       "Explanation: $P(\\text{air bags or bucket seats}) = P(\\text{air bags}) + P(\\text{bucket seats}) - P(\\text{air bags and bucket seats}) = \\frac{125}{220} + \\frac{110}{220} - \\frac{75}{220} = 0.57 + 0.50 - 0.34 = 0.73 \\text{ or } 73\\%$"
      ],
      "text/plain": [
       "<IPython.core.display.Markdown object>"
      ]
     },
     "metadata": {},
     "output_type": "display_data"
    },
    {
     "name": "stdout",
     "output_type": "stream",
     "text": [
      "Book Label: Quantitative Analysis1\n",
      "--------------------------------------------------\n",
      "ID: 2537\n"
     ]
    },
    {
     "data": {
      "text/markdown": [
       "Explanation: $$\\text{Covariance}(X, Y) = 0.0520\\%, \\sigma_X = 2.8\\%, \\sigma_Y = 2.0\\%, \\text{Correlation} = \\frac{0.0520\\%}{2.8\\% \\times 2.0\\%} = 0.9286$$"
      ],
      "text/plain": [
       "<IPython.core.display.Markdown object>"
      ]
     },
     "metadata": {},
     "output_type": "display_data"
    },
    {
     "name": "stdout",
     "output_type": "stream",
     "text": [
      "Book Label: Quantitative Analysis1\n",
      "--------------------------------------------------\n",
      "ID: 2539\n"
     ]
    },
    {
     "data": {
      "text/markdown": [
       "Explanation: \n",
       "Firstly solve the mean of returns of stock A and B:\n",
       "$$\n",
       "E(R_A) = \\sum_{i=1}^{3} R_{Ai} p_i = 0.3 \\times 0.2 + 0.5 \\times 0.12 + 0.2 \\times 0.05 = 0.13\n",
       "$$\n",
       "\n",
       "$$\n",
       "E(R_B) = \\sum_{i=1}^{3} R_{Bi} p_i = 0.3 \\times 0.3 + 0.5 \\times 0.1 + 0.2 \\times 0.00 = 0.14\n",
       "$$\n",
       "\n",
       "Then solve the covariance of returns between stock A and B:\n",
       "$$\n",
       "\\text{Cov}(R_A, R_B) = \\sum_{i=1}^{3} p_i \\times \\left[(R_{Ai} - E(R_{Ai})) \\times (R_{Bi} - E(R_{Bi}))\\right] = 0.0058\n",
       "$$"
      ],
      "text/plain": [
       "<IPython.core.display.Markdown object>"
      ]
     },
     "metadata": {},
     "output_type": "display_data"
    },
    {
     "name": "stdout",
     "output_type": "stream",
     "text": [
      "Book Label: Quantitative Analysis1\n",
      "--------------------------------------------------\n",
      "ID: 2556\n"
     ]
    },
    {
     "data": {
      "text/markdown": [
       "Explanation: \n",
       "\n",
       "$$\n",
       "\\text{Cov}(A, B) = \\beta_{A,1} \\beta_{B,1} \\sigma^2_{F_1} + \\beta_{A,2} \\beta_{B,2} \\sigma^2_{F_2} + (\\beta_{A,1} \\beta_{B,2} + \\beta_{A,2} \\beta_{B,1}) \\text{Cov}(F_1, F_2)\n",
       "$$\n",
       "\n",
       "$$\n",
       "= 0.75 \\times 0.45 + 0.3543 + 0.20 \\times 0.65 \\times 0.0089 + (0.75 \\times 0.65 + 0.20 \\times 0.45) \\times (-0.0132)\n",
       "$$\n",
       "\n",
       "$$\n",
       "= 0.1131\n",
       "$$"
      ],
      "text/plain": [
       "<IPython.core.display.Markdown object>"
      ]
     },
     "metadata": {},
     "output_type": "display_data"
    },
    {
     "name": "stdout",
     "output_type": "stream",
     "text": [
      "Book Label: Quantitative Analysis1\n",
      "--------------------------------------------------\n",
      "ID: 2578\n"
     ]
    },
    {
     "data": {
      "text/markdown": [
       "Explanation: $p(X=1) = 0.05 + 0.05 + 0.10 = 0.20, \\, p(X=2) = 0.05 + 0.10 + 0.15 = 0.30, \\, p(X=3) = 0.15 + 0.15 + 0.20 = 0.50 \\\\\n",
       "E(X) = 0.2\\times 1 + 0.3\\times 2 + 0.5\\times 3 = 2.3 \\\\\n",
       "Var(X) = 0.2\\times (1-2.3)^2 + 0.3\\times (2-2.3)^2 + 0.5\\times (3-2.3)^2 = 0.61$"
      ],
      "text/plain": [
       "<IPython.core.display.Markdown object>"
      ]
     },
     "metadata": {},
     "output_type": "display_data"
    },
    {
     "name": "stdout",
     "output_type": "stream",
     "text": [
      "Book Label: Quantitative Analysis1\n",
      "--------------------------------------------------\n",
      "ID: 2587\n"
     ]
    },
    {
     "data": {
      "text/markdown": [
       "Explanation: \n",
       "\n",
       "$$\n",
       "E(Y|X = 7) = 10 \\times (0.05/0.32) + 20 \\times (0.03/0.32) + 30 \\times (0.13/0.32) + 40 \\times (0.11/0.32) = 29.375\n",
       "$$\n",
       "\n",
       "$$\n",
       "E(Y^2|X) = 10^2 \\times (0.05/0.32) + 20^2 \\times (0.03/0.32) + 30^2 \\times (0.13/0.32) + 40^2 \\times (0.11/0.32) = 968.75\n",
       "$$\n",
       "\n",
       "$$\n",
       "\\text{Variance}(Y|X = 7) = 968.75 - 29.375^2 = 105.8594\n",
       "$$\n",
       "\n",
       "$$\n",
       "\\text{StdDev}(Y|X = 7) = \\sqrt{105.8594} = 10.289\n",
       "$$"
      ],
      "text/plain": [
       "<IPython.core.display.Markdown object>"
      ]
     },
     "metadata": {},
     "output_type": "display_data"
    },
    {
     "name": "stdout",
     "output_type": "stream",
     "text": [
      "Book Label: Quantitative Analysis1\n",
      "--------------------------------------------------\n",
      "ID: 2619\n"
     ]
    },
    {
     "data": {
      "text/markdown": [
       "Explanation: The expected value of Y is calculated as: $$ E(Y) = 1 \\times 0.25 + 2 \\times 0.30 + 3 \\times 0.45 = 2.20 $$"
      ],
      "text/plain": [
       "<IPython.core.display.Markdown object>"
      ]
     },
     "metadata": {},
     "output_type": "display_data"
    },
    {
     "name": "stdout",
     "output_type": "stream",
     "text": [
      "Book Label: Quantitative Analysis1\n",
      "--------------------------------------------------\n",
      "ID: 2643\n"
     ]
    },
    {
     "data": {
      "text/markdown": [
       "Explanation: The t-statistics for the intercept and coefficient on B2 are significant as indicated by the associated p-values being less than 0.05: 0.0007 and 0.0004 respectively. Therefore, H_0: B_0=0 and H_0: B_2=0 can be rejected. The F-statistic on the ANOVA table has a p-value equal to 0.0012; therefore, H_0: B_1=B_2=0 can be rejected. The p-value for the coefficient on B1 is greater than five percent, therefore, H_0: B_1=0 cannot be rejected because the p-value is 0.3026, which is greater than the 5% significance level."
      ],
      "text/plain": [
       "<IPython.core.display.Markdown object>"
      ]
     },
     "metadata": {},
     "output_type": "display_data"
    },
    {
     "name": "stdout",
     "output_type": "stream",
     "text": [
      "Book Label: Quantitative Analysis1\n",
      "--------------------------------------------------\n",
      "ID: 2650\n"
     ]
    },
    {
     "data": {
      "text/markdown": [
       "Explanation: 参考答案: A\n",
       "【茅学解析】The following table illustrates the calculations used to determine the sum of squared ranking deviations:\n",
       "\n",
       "\\[\n",
       "\\begin{array}{cccccc}\n",
       "\\text{Year} & \\text{X} & \\text{Y} & \\text{X Rank} & \\text{Y Rank} & d_i & d_i2\\\\\n",
       "2013 & -20.0\\% & 40.0\\% & 1 & 5 & -4 & 16\\\\\n",
       "2012 & -10.0\\% & 20.0\\% & 2 & 4 & -2 & 4\\\\\n",
       "2010 & 5.0\\% & -10.0\\% & 3 & 1 & 2 & 4\\\\\n",
       "2014 & 30.0\\% & 15.0\\% & 4 & 3 & 1 & 1\\\\\n",
       "2011 & 50.0\\% & -5.0\\% & 5 & 2 & 3 & 9\\\\\n",
       "& & & & & \\text{Sum} & 34 \\\\\n",
       "\\end{array}\n",
       "\\]\n",
       "\n",
       "Thus, the Spearman rank correlation coefficient is $-0.7$:\n",
       "\n",
       "$$\n",
       "\\rho_s = 1 - \\frac{6 \\times \\sum_{i=1}^n d_i^2}{n(n^2-1)} = 1 - \\frac{6 \\times 34}{5 \\times (25-1)} = -0.7\n",
       "$$"
      ],
      "text/plain": [
       "<IPython.core.display.Markdown object>"
      ]
     },
     "metadata": {},
     "output_type": "display_data"
    },
    {
     "name": "stdout",
     "output_type": "stream",
     "text": [
      "Book Label: Quantitative Analysis1\n",
      "--------------------------------------------------\n",
      "ID: 2709\n"
     ]
    },
    {
     "data": {
      "text/markdown": [
       "Explanation: \n",
       "\n",
       "$$\n",
       "\\mu_x = 3.5, \\mu_y = 4.3\n",
       "$$\n",
       "\n",
       "$$\n",
       "\\sum_{i=1}^{7}(X_i - \\mu_x)^2 = 24.9 \\quad \\sum_{j=1}^{7}(Y_j - \\mu_y)^2 = 3.63 \\quad \\sum_{i=j=1}^{7}(X_i - \\mu_x)(Y_j - \\mu_y) = 9.1\n",
       "$$\n",
       "\n",
       "$$\n",
       "R^2 = \\rho^2 = \\left( \\frac{9.1}{\\sqrt{24.9 \\sqrt{3.6}}} \\right)^2 = 0.916\n",
       "$$"
      ],
      "text/plain": [
       "<IPython.core.display.Markdown object>"
      ]
     },
     "metadata": {},
     "output_type": "display_data"
    },
    {
     "name": "stdout",
     "output_type": "stream",
     "text": [
      "Book Label: Quantitative Analysis1\n",
      "--------------------------------------------------\n",
      "ID: 2712\n"
     ]
    },
    {
     "data": {
      "text/markdown": [
       "Explanation: As beta(stock,index) = covariance(stock,index)/variance(index) = correlation(stock, index) × Volatility(stock)/Volatility(index), it follows that R^2 = correlation(stock,index)^2. In this case, ESS = R^2 × TSS = 0.49 × 0.30 = 0.1470."
      ],
      "text/plain": [
       "<IPython.core.display.Markdown object>"
      ]
     },
     "metadata": {},
     "output_type": "display_data"
    },
    {
     "name": "stdout",
     "output_type": "stream",
     "text": [
      "Book Label: Quantitative Analysis1\n",
      "--------------------------------------------------\n",
      "ID: 2713\n"
     ]
    },
    {
     "data": {
      "text/markdown": [
       "Explanation: An R-squared of 0.64 would be correctly interpreted that the variability of the MSCI EAFE index explains 64% of the variability of Hirauye Inc. stock.\n",
       "\n",
       "$$\n",
       "\\rho^2 = R^2 = 0.64, \\rho = 0.8\n",
       "$$\n",
       "\n",
       "$$\n",
       "\\beta = 1.8 = \\frac{\\text{Cov}(X,Y)}{\\text{VaR}(X)} = \\frac{\\text{Cov}(X,Y)}{5.76\\%}\n",
       "$$\n",
       "\n",
       "$$\n",
       "\\text{Cov}(X,Y) = 10.37\\%, \\sigma_Y = 54\\%\n",
       "$$"
      ],
      "text/plain": [
       "<IPython.core.display.Markdown object>"
      ]
     },
     "metadata": {},
     "output_type": "display_data"
    },
    {
     "name": "stdout",
     "output_type": "stream",
     "text": [
      "Book Label: Quantitative Analysis1\n",
      "--------------------------------------------------\n",
      "ID: 2718\n"
     ]
    },
    {
     "data": {
      "text/markdown": [
       "Explanation: The VaR is derived as follows:\n",
       "\n",
       "$$\n",
       "VaR = \\left[ (E(R_p) - 2.33 \\sigma_p (-1)) \\right] \\times \\text{(Portfolio value)}\n",
       "$$\n",
       "\n",
       "where\n",
       "\n",
       "$$\n",
       "E(R_p) = \\text{Annualized daily return} = (0.00026 \\times 250) = 0.065\n",
       "$$\n",
       "\n",
       "$$\n",
       "250 = \\text{Number of trading days annually}\n",
       "$$\n",
       "\n",
       "$$\n",
       "\\sigma_p = \\text{Annualized standard deviation} = (0.00501 \\times \\sqrt{250}) = 0.079215\n",
       "$$\n",
       "\n",
       "$$\n",
       "\\text{Portfolio value} = \\text{CAD 260,000,000}\n",
       "$$\n",
       "\n",
       "$$\n",
       "VaR = (0.065 - 0.184571) \\times \\text{CAD 260,000,000} = \\text{CAD 31,088,460}\n",
       "$$"
      ],
      "text/plain": [
       "<IPython.core.display.Markdown object>"
      ]
     },
     "metadata": {},
     "output_type": "display_data"
    },
    {
     "name": "stdout",
     "output_type": "stream",
     "text": [
      "Book Label: PortfolioManagement\n",
      "--------------------------------------------------\n",
      "ID: 2720\n"
     ]
    },
    {
     "data": {
      "text/markdown": [
       "Explanation: Based on the differences in returns for the portfolio and benchmark in Exhibit 1, the value added by each asset class within the portfolio is shown in the following table:\n",
       "The value added from security selection is calculated as the sum of the actual portfolio weights multiplied by each sub-portfolio’s value added measure. Thus, the value added from security selection is calculated as: Value added from security selection = $0.63(5.3\\%) 0.28(0.2\\%) 0.09(5.1\\%) = 3.9\\%$.\n",
       "A is incorrect. It represents the value added from asset allocation (2.3\\%).\n",
       "C is incorrect. It represents the total value added (2.3\\% 3.9\\% = 6.1\\%, with rounding).\n",
       "\n",
       "|                           | Sub-Portfolio Return (\\%) | Benchmark Return (\\%) | Value Added (\\%) | Portfolio Allocation (\\%) |\n",
       "|---------------------------|---------------------------|-----------------------|------------------|----------------------------|\n",
       "| Equities sub-portfolio    | 36.9                      | 31.6                  | 5.3              | 63                         |\n",
       "| Bond sub-portfolio        | -2.4                      | -2.6                  | 0.2              | 28                         |\n",
       "| Real estate sub-portfolio | 33.4                      | 28.3                  | 5.1              | 9                          |"
      ],
      "text/plain": [
       "<IPython.core.display.Markdown object>"
      ]
     },
     "metadata": {},
     "output_type": "display_data"
    },
    {
     "name": "stdout",
     "output_type": "stream",
     "text": [
      "Book Label: PortfolioManagement\n",
      "--------------------------------------------------\n",
      "ID: 2721\n"
     ]
    },
    {
     "data": {
      "text/markdown": [
       "Explanation: The value added from asset allocation is calculated as the sum of the differences in the weights between the strategic (benchmark) allocation and the actual subportfolio allocation multiplied by each subportfolio's benchmark return.\n",
       "\n",
       "| Subportfolio | Benchmark Return (%) | Actual Asset Allocation (%) | Strategic Asset Allocation (%) | Actual - Strategic Asset Allocation (%) |\n",
       "|--------------|------------------------|-----------------------------|--------------------------------|-----------------------------------------|\n",
       "| Equities subportfolio | 31.6 | 63 | 60 | +3 |\n",
       "| Bond subportfolio     | -2.6 | 28 | 35 | -7 |\n",
       "| Real estate subportfolio | 28.3 | 9 | 5 | +4 |\n",
       "\n",
       "Thus, the value added by the active asset allocation decision is calculated as: Value added from asset allocation decision $= 0.03(31.6\\%) - 0.07(-2.6\\%) + 0.04(28.3\\%) = 2.3\\%$. B is incorrect. It is the value added from security selection. C is incorrect. It is the total value added."
      ],
      "text/plain": [
       "<IPython.core.display.Markdown object>"
      ]
     },
     "metadata": {},
     "output_type": "display_data"
    },
    {
     "name": "stdout",
     "output_type": "stream",
     "text": [
      "Book Label: PortfolioManagement\n",
      "--------------------------------------------------\n",
      "ID: 2722\n"
     ]
    },
    {
     "data": {
      "text/markdown": [
       "Explanation: The information ratio for a portfolio can be expressed as follows:\n",
       "\n",
       "$$\n",
       "IR = (TC)(IC)\\sqrt{BR}\n",
       "$$\n",
       "\n",
       "The information ratios for the three subportfolios are calculated as follows:\n",
       "\n",
       "| Subportfolio           | Information Ratio                   |\n",
       "|------------------------|-------------------------------------|\n",
       "| Equities subportfolio  | $0.90 \\times 0.091 \\times (21)^{0.5} = 0.38$       |\n",
       "| Bond subportfolio      | $0.79 \\times 0.087 \\times (23)^{0.5} = 0.33$       |\n",
       "| Real estate subportfolio | $0.86 \\times 0.093 \\times (19)^{0.5} = 0.35$  |\n",
       "\n",
       "Based on the information ratio, the equities subportfolio outperformed the real estate subportfolio. The information ratio for the equities subportfolio of 0.38 was higher than the information ratio for the real estate subportfolio of 0.35 and the bond subportfolio of 0.33."
      ],
      "text/plain": [
       "<IPython.core.display.Markdown object>"
      ]
     },
     "metadata": {},
     "output_type": "display_data"
    },
    {
     "name": "stdout",
     "output_type": "stream",
     "text": [
      "Book Label: PortfolioManagement\n",
      "--------------------------------------------------\n",
      "ID: 2730\n"
     ]
    },
    {
     "data": {
      "text/markdown": [
       "Explanation: The pricing equation for a default-free nominal coupon-paying bond is \n",
       "$$\n",
       "P_{t}^{i} = \\sum_{i=1}^{n} \\frac{CF_{t+i}}{(1 + l_{t,i} + \\theta_{t,i} + \\pi_{t,i})^i}\n",
       "$$\n",
       "\n",
       "For a one-year bond, the pricing formula reduces to \n",
       "$$\n",
       "P_{t} = \\frac{CF_{t+1}}{(1 + l_{t,1} + \\theta_{t,1} + \\pi_{t,1})^1}\n",
       "$$\n",
       "\n",
       "Thus, the implied premium for inflation uncertainty for one-year government zero-coupon bond is calculated as \n",
       "$$\n",
       "\\pi_{t,1} = \\frac{CF_{t+1}}{P_{t}} - (1 + l_{t,1} + \\theta_{t,1}) = 100/96.37 - (1 + 0.0115 + 0.0225) = 1.0377 - 1.0340 = 0.0037, \\text{ or }\n",
       "$$\n",
       "\n",
       "0.37%"
      ],
      "text/plain": [
       "<IPython.core.display.Markdown object>"
      ]
     },
     "metadata": {},
     "output_type": "display_data"
    },
    {
     "name": "stdout",
     "output_type": "stream",
     "text": [
      "Book Label: PortfolioManagement\n",
      "--------------------------------------------------\n",
      "ID: 2737\n"
     ]
    },
    {
     "data": {
      "text/markdown": [
       "Explanation: The expected return and factor sensitivities of a portfolio with a 60% weight in\n",
       "Fund A and a 40% weight in Fund B are calculated as weighted averages of the expected returns\n",
       "and factor sensitivities of Funds A and B:Expected return of Portfolio 60/40 = (0.60)*(0.02)\n",
       "(0.40)*(0.04) = 0.028, or 2.8%Factor sensitivity of Portfolio 60/40 = (0.60)*(0.5) (0.40)*(1.5)\n",
       "= 0.9\n",
       "The factor sensitivity of Portfolio 60/40 is identical to that of Fund C; therefore, this\n",
       "strategy results in no factor risk relative to Portfolio C. However, Fund C's expected return\n",
       "of 3.0% is higher than Portfolio 60/40's expected return of 2.8%.This difference supports\n",
       "Strategy 3: buying Fund C and selling short Portfolio 60/40 to exploit the arbitrage\n",
       "opportunity."
      ],
      "text/plain": [
       "<IPython.core.display.Markdown object>"
      ]
     },
     "metadata": {},
     "output_type": "display_data"
    },
    {
     "name": "stdout",
     "output_type": "stream",
     "text": [
      "Book Label: PortfolioManagement\n",
      "--------------------------------------------------\n",
      "ID: 2739\n"
     ]
    },
    {
     "data": {
      "text/markdown": [
       "Explanation: The macroeconomic two-factor model takes the following form:\n",
       "\n",
       "$$\n",
       "R_i = a_i + b_{i1}F_{INF} + b_{i2}F_{GDP} + \\epsilon_i\n",
       "$$\n",
       "\n",
       "where $F_{INF}$ and $F_{GDP}$ represent surprises in inflation and surprises in GDP growth, respectively, and $a_i$ represents the expected return to asset $i$. Using this model and the data in Exhibit 2, the returns for Fund A and Fund C are represented by the following:\n",
       "\n",
       "$$\n",
       "R_A = 0.02 + 0.5F_{INF} + 1.0F_{GDP} + e_A\n",
       "$$\n",
       "\n",
       "$$\n",
       "R_C = 0.03 + 1.0F_{INF} + 1.1F_{GDP} + e_C\n",
       "$$\n",
       "\n",
       "Surprise in a macroeconomic model is defined as actual factor minus predicted factor. The surprise in inflation is 0.2% (= 2.2%-2.0%). The surprise in GDP growth is -0.5% (= 1.0%-1.5%). The return for Portfolio AC, composed of a 60% allocation to Fund A and 40% allocation to Fund C, is calculated as the following:\n",
       "\n",
       "$$\n",
       "R_{AC} = (0.6)(0.02) + (0.4)(0.03) + [(0.6)(0.5) + (0.4)(1.0)](0.002) + [(0.6)(1.0) + (0.4)(1.1)](-0.005) + 0.6(0) + 0.4(0) = 0.202\\%\n",
       "$$"
      ],
      "text/plain": [
       "<IPython.core.display.Markdown object>"
      ]
     },
     "metadata": {},
     "output_type": "display_data"
    },
    {
     "name": "stdout",
     "output_type": "stream",
     "text": [
      "Book Label: PortfolioManagement\n",
      "--------------------------------------------------\n",
      "ID: 2740\n"
     ]
    },
    {
     "data": {
      "text/markdown": [
       "Explanation: Surprise in a macroeconomic model is defined as actual factor minus predicted factor. For inflation, the surprise factor is $2.2\\% - 2.0\\% = 0.2\\%$; for GDP growth, the surprise factor is $1.0\\% - 1.5\\% = -0.5\\%$. The effect on returns is the product of the surprise and the factor sensitivity.\n",
       "\n",
       "| Fund | Inflation | GDP Growth |\n",
       "|------|-----------|------------|\n",
       "| A    | $0.5 \\times 0.2\\% = 0.10\\%$ | $1.0 \\times -0.5\\% = -0.50\\%$ |\n",
       "| B    | $1.6 \\times 0.2\\% = 0.32\\%$ | $0.0 \\times -0.5\\% = 0.00\\%$  |\n",
       "| C    | $1.0 \\times 0.2\\% = 0.20\\%$ | $1.1 \\times -0.5\\% = -0.55\\%$ |\n",
       "\n",
       "The effect of the GDP growth surprise on Fund C was the largest single-factor effect on Fund returns ($-0.55\\%$)."
      ],
      "text/plain": [
       "<IPython.core.display.Markdown object>"
      ]
     },
     "metadata": {},
     "output_type": "display_data"
    },
    {
     "name": "stdout",
     "output_type": "stream",
     "text": [
      "Book Label: PortfolioManagement\n",
      "--------------------------------------------------\n",
      "ID: 2741\n"
     ]
    },
    {
     "data": {
      "text/markdown": [
       "Explanation: The effect of the surprises in inflation and GDP growth on the returns of the three funds is calculated as the following.\n",
       "\n",
       "| Fund | Inflation | GDP Growth |\n",
       "|------|-----------|------------|\n",
       "| A    | $0.5 \\times 0.2\\% = 0.10\\%$ | $1.0 \\times -0.5\\% = -0.50\\%$ |\n",
       "| B    | $1.6 \\times 0.2\\% = 0.32\\%$ | $0.0 \\times -0.5\\% = 0.00\\%$  |\n",
       "| C    | $1.0 \\times 0.2\\% = 0.20\\%$ | $1.1 \\times -0.5\\% = -0.55\\%$ |\n",
       "\n",
       " The combined effects for the three funds are the following. Fund A: $0.10\\% (-0.50\\%) = -0.40\\%$ Fund B: $0.32\\% (0.00\\%) = 0.32\\%$ Fund C: $0.20\\% (-0.55\\%) = -0.35\\%$ Therefore, Fund A is the most sensitive to the surprises in inflation and GDP growth in Exhibit 3."
      ],
      "text/plain": [
       "<IPython.core.display.Markdown object>"
      ]
     },
     "metadata": {},
     "output_type": "display_data"
    },
    {
     "name": "stdout",
     "output_type": "stream",
     "text": [
      "Book Label: PortfolioManagement\n",
      "--------------------------------------------------\n",
      "ID: 2750\n"
     ]
    },
    {
     "data": {
      "text/markdown": [
       "Explanation: When using a macroeconomic factor, the expected return is the intercept (when all\n",
       "model factors take on a value of zero). The intercept coefficient for Portfolio 1in Exhibit 1\n",
       "is 2.58."
      ],
      "text/plain": [
       "<IPython.core.display.Markdown object>"
      ]
     },
     "metadata": {},
     "output_type": "display_data"
    },
    {
     "name": "stdout",
     "output_type": "stream",
     "text": [
      "Book Label: PortfolioManagement\n",
      "--------------------------------------------------\n",
      "ID: 2769\n"
     ]
    },
    {
     "data": {
      "text/markdown": [
       "Explanation: The expected total holding period cost for investing in the ETF over the nine-month\n",
       "holding period is calculated as follows:\n",
       "Total expected holding period cost = Annual management fee Round-trip trading commissions\n",
       "Bid–offer spread on purchase/sale.\n",
       "Total expected holding period cost = (9/12) × (0.32%) 0.20% 0.10% = 0.54%."
      ],
      "text/plain": [
       "<IPython.core.display.Markdown object>"
      ]
     },
     "metadata": {},
     "output_type": "display_data"
    },
    {
     "name": "stdout",
     "output_type": "stream",
     "text": [
      "Book Label: PortfolioManagement\n",
      "--------------------------------------------------\n",
      "ID: 2773\n"
     ]
    },
    {
     "data": {
      "text/markdown": [
       "Explanation: The effective spread is calculated as follows:\n",
       "Effective spread = 2 × (Trade price - Midpoint of market at time of order entry)\n",
       "Effective spread of Trade 1 = 2 × ($41.50 - $41.475) = $0.05\n",
       "Effective spread of Trade 2 = 2 × ($41.75 - $41.74) = $0.02\n",
       "Average Effective Spread = ($0.05 + $0.02) / 2 = $0.035"
      ],
      "text/plain": [
       "<IPython.core.display.Markdown object>"
      ]
     },
     "metadata": {},
     "output_type": "display_data"
    },
    {
     "name": "stdout",
     "output_type": "stream",
     "text": [
      "Book Label: PortfolioManagement\n",
      "--------------------------------------------------\n",
      "ID: 2785\n"
     ]
    },
    {
     "data": {
      "text/markdown": [
       "Explanation: The inside bid–ask spread, or market bid–ask spread, is the dif-ference between\n",
       "the highest bid price and the lowest ask price. The highest bid price for Light Systems is\n",
       "$17.15, and the lowest ask price is $17.19. Therefore, the inside bid–ask spread =\n",
       "$17.19–$17.15 = $0.04."
      ],
      "text/plain": [
       "<IPython.core.display.Markdown object>"
      ]
     },
     "metadata": {},
     "output_type": "display_data"
    },
    {
     "name": "stdout",
     "output_type": "stream",
     "text": [
      "Book Label: PortfolioManagement\n",
      "--------------------------------------------------\n",
      "ID: 2786\n"
     ]
    },
    {
     "data": {
      "text/markdown": [
       "Explanation: SAMN's trading desk executes a market sell order for 1,100 shares. Based on the\n",
       "limit order book, the trader would first sell 900 shares at $17.15 (highest bid, Dealer B) and\n",
       "then sell the remaining 200 shares at $17.14 (second highest bid, Dealer C). Therefore, the\n",
       "approximate price per share received by SAMN for selling the 1,100 shares is equal to [(900 ×\n",
       "$17.15) + (200 × $17.14)] / 1,100 = $17.1482 per share ($17.15 rounded)."
      ],
      "text/plain": [
       "<IPython.core.display.Markdown object>"
      ]
     },
     "metadata": {},
     "output_type": "display_data"
    },
    {
     "name": "stdout",
     "output_type": "stream",
     "text": [
      "Book Label: PortfolioManagement\n",
      "--------------------------------------------------\n",
      "ID: 2787\n"
     ]
    },
    {
     "data": {
      "text/markdown": [
       "Explanation: Market impact, or price impact, is the effect of a trade on trans-action prices.\n",
       "After the first trade (Trade 1) was executed at $25.20, Trade 2 was executed at $25.22, which\n",
       "is $0.02 per share higher than the trade price of Trade 1. So, the execution of Trade 1 led to\n",
       "a price impact of $0.02 per share on Trade 2."
      ],
      "text/plain": [
       "<IPython.core.display.Markdown object>"
      ]
     },
     "metadata": {},
     "output_type": "display_data"
    },
    {
     "name": "stdout",
     "output_type": "stream",
     "text": [
      "Book Label: PortfolioManagement\n",
      "--------------------------------------------------\n",
      "ID: 2788\n"
     ]
    },
    {
     "data": {
      "text/markdown": [
       "Explanation: The effective bid–ask spread for buy orders is calculated as:\n",
       "\n",
       "$$\n",
       "\\text{Effective bid–ask spread (buy order)} = 2 \\times \\{\\text{Trade price} - [(\\text{Ask price} + \\text{Bid price}) / 2]\\}\n",
       "$$\n",
       "\n",
       "or\n",
       "\n",
       "$$\n",
       "= 2 \\times (\\text{Trade price} - \\text{Midpoint of the market at the time an order is entered}).\n",
       "$$\n",
       "\n",
       "So, the effective bid–ask spreads for the three buy trades are calculated as:\n",
       "\n",
       "Effective spread of Trade 1 = $2 \\times \\{ \\$25.20 - [ (\\$25.20 + \\$25.17) / 2] \\} = \\$0.0300$.\n",
       "\n",
       "Effective spread of Trade 2 = $2 \\times \\{ \\$25.22 - [ (\\$25.22 + 25.19) / 2] \\} = \\$0.0300$.\n",
       "\n",
       "Effective spread of Trade 3 = $2 \\times \\{ \\$25.27 - [ (\\$25.26 + \\$25.22) / 2] \\} = \\$0.0600$.\n",
       "\n",
       "The resulting average effective spread is then calculated as:\n",
       "\n",
       "$$\n",
       "\\text{Average effective spread} = \\frac{\\text{Effective spread of Trade 1 + Effective spread of Trade 2 + Effective spread of Trade 3}}{3}.\n",
       "$$\n",
       "\n",
       "Average effective spread = $\\frac{(\\$0.0300 + \\$0.0300 + \\$0.0600)}{3} = \\$0.0400$."
      ],
      "text/plain": [
       "<IPython.core.display.Markdown object>"
      ]
     },
     "metadata": {},
     "output_type": "display_data"
    },
    {
     "name": "stdout",
     "output_type": "stream",
     "text": [
      "Book Label: PortfolioManagement\n",
      "--------------------------------------------------\n",
      "ID: 2798\n"
     ]
    },
    {
     "data": {
      "text/markdown": [
       "Explanation: Measuring VaR at a 5% threshold produces an estimated value at risk of 2.69%.From\n",
       "Exhibit 1, the annual portfolio return is 14.1% and the standard deviation is 26.3%. Annual\n",
       "values need to be adjusted to get their daily counterparts. Assuming 250 trading days in a\n",
       "year, the expected annual return is adjusted by dividing by 250 and the standard deviation is\n",
       "adjusted by dividing by the square root of 250.Thus, the daily expected return is 0.141/250 =\n",
       "0.000564 and volatility is 0263/√250. = 0.016634. 5% daily VaR = E(Rp) – 1.65σp = 0.000564\n",
       "– 1.65(0.016634) = –0.026882. The portfolio is expected to experience a potential minimum\n",
       "loss in percentage terms of 2.69% on 5% of trading days."
      ],
      "text/plain": [
       "<IPython.core.display.Markdown object>"
      ]
     },
     "metadata": {},
     "output_type": "display_data"
    },
    {
     "name": "stdout",
     "output_type": "stream",
     "text": [
      "Book Label: PortfolioManagement\n",
      "--------------------------------------------------\n",
      "ID: 2804\n"
     ]
    },
    {
     "data": {
      "text/markdown": [
       "Explanation: Strategy 3 is a covered call strategy, which is a combination of a long position in\n",
       "shares and a short call option. The breakeven share price for a covered call is the share price\n",
       "minus the call premium received, or S0 – c0. The current share price of IZD is €93.93, and\n",
       "the IZD April €97.50 call premium is €1.68. Thus, the breakeven underlying share price for\n",
       "Strategy 3 is S0 – c0 = €93.93 – €1.68 = €92.25."
      ],
      "text/plain": [
       "<IPython.core.display.Markdown object>"
      ]
     },
     "metadata": {},
     "output_type": "display_data"
    },
    {
     "name": "stdout",
     "output_type": "stream",
     "text": [
      "Book Label: Derivatives and Currency Management\n",
      "--------------------------------------------------\n",
      "ID: 2805\n"
     ]
    },
    {
     "data": {
      "text/markdown": [
       "Explanation: Strategy 4 is a protective put position, which is a combination of a long position\n",
       "in shares and a long put option. By purchasing the €25.00 strike put option, Nu?es would be\n",
       "protected from losses at QWY share prices of €25.00 or lower. Thus, the maximum loss per share\n",
       "from Strategy 4 would be the loss of share value from €28.49 to €25.00 (or €3.49) plus the\n",
       "put premium paid for the put option of €0.50: S0 – X + p0 = €28.49 – €25.00 + €0.50 =\n",
       "€3.99."
      ],
      "text/plain": [
       "<IPython.core.display.Markdown object>"
      ]
     },
     "metadata": {},
     "output_type": "display_data"
    },
    {
     "name": "stdout",
     "output_type": "stream",
     "text": [
      "Book Label: Derivatives and Currency Management\n",
      "--------------------------------------------------\n",
      "ID: 2808\n"
     ]
    },
    {
     "data": {
      "text/markdown": [
       "Explanation: Strategy 6 is a bear spread, which is a combination of a long put option and a\n",
       "short put option on the same underlying, where the long put has a higher strike price than the\n",
       "short put. In the case of Strategy 6, the April €31.00 put option would be purchased and the\n",
       "April €25.00 put option would be sold. The long put premium is €3.00 and the short put\n",
       "premium is €0.50, for a net cost of €2.50. The breakeven share price is €28.50, calculated\n",
       "as XH – (pH – pL) = €31.00 – (€3.00 – €0.50) = €28.50."
      ],
      "text/plain": [
       "<IPython.core.display.Markdown object>"
      ]
     },
     "metadata": {},
     "output_type": "display_data"
    },
    {
     "name": "stdout",
     "output_type": "stream",
     "text": [
      "Book Label: Derivatives and Currency Management\n",
      "--------------------------------------------------\n",
      "ID: 2809\n"
     ]
    },
    {
     "data": {
      "text/markdown": [
       "Explanation: Strategy 7 describes a short straddle, which is a combination of a short put option\n",
       "and a short call option, both with the same strike price. The maximum gain is €5.76 per share,\n",
       "which represents the sum of the two option premiums, or c0 + p0 = €2.54 + €3.22 = €5.76.\n",
       "The maximum gain per share is realized if both options expire worthless, which would happen if\n",
       "the share price of XDF at expiration is €75.00."
      ],
      "text/plain": [
       "<IPython.core.display.Markdown object>"
      ]
     },
     "metadata": {},
     "output_type": "display_data"
    },
    {
     "name": "stdout",
     "output_type": "stream",
     "text": [
      "Book Label: Derivatives and Currency Management\n",
      "--------------------------------------------------\n",
      "ID: 2818\n"
     ]
    },
    {
     "data": {
      "text/markdown": [
       "Explanation: The straddle strategy consists of simultaneously buying a call option and buying a\n",
       "put option at the same strike price. The market price for the $67.50 call option is $1.99, and\n",
       "the market price for the $67.50 put option is $2.26, for an initial net cost of $4.25 per\n",
       "share. Thus, this straddle position requires a move greater than $4.25 in either direction from\n",
       "the strike price of $67.50 to become profitable. So, the straddle becomes profitable at $67.50\n",
       "– $4.26 = $63.24 or lower, or $67.50 + $4.26 = $71.76 or higher. At $63.00, the profit on the\n",
       "straddle is positive."
      ],
      "text/plain": [
       "<IPython.core.display.Markdown object>"
      ]
     },
     "metadata": {},
     "output_type": "display_data"
    },
    {
     "name": "stdout",
     "output_type": "stream",
     "text": [
      "Book Label: Derivatives and Currency Management\n",
      "--------------------------------------------------\n",
      "ID: 2819\n"
     ]
    },
    {
     "data": {
      "text/markdown": [
       "Explanation: The bull call strategy consists of buying the lower-strike option and selling the\n",
       "higher-strike option. The purchase of the $65 strike call option costs $3.65 per share, and\n",
       "selling the $70 strike call option generates an inflow of $0.91 per share, for an initial net\n",
       "cost of $2.74 per share. At expiration, the maximum profit occurs when the stock price is $70\n",
       "or higher, which yields a $5.00 per share payoff ($70 – $65) on the long call position. After\n",
       "deduction of the $2.74 per share cost required to initiate the bull call spread, the profit is\n",
       "$2.26 ($5.00 – $2.74)."
      ],
      "text/plain": [
       "<IPython.core.display.Markdown object>"
      ]
     },
     "metadata": {},
     "output_type": "display_data"
    },
    {
     "name": "stdout",
     "output_type": "stream",
     "text": [
      "Book Label: Derivatives and Currency Management\n",
      "--------------------------------------------------\n",
      "ID: 2820\n"
     ]
    },
    {
     "data": {
      "text/markdown": [
       "Explanation: The bear put spread consists of buying a put option with a high strike price ($70)\n",
       "and selling another put option with a lower strike price ($65). The market price for the $70\n",
       "strike put option is $3.70, and the market price for the $65 strike put option is $1.34 per\n",
       "share. Thus, the initial net cost of the bear spread position is $3.70 – $1.34 = $2.36 per\n",
       "share. If Walnut shares are $66 at expiration, the $70 strike put option is in the money by\n",
       "$4.00, and the short position in the $65 strike put expires worthless. After deducting the cost\n",
       "of $2.36 to initiate the bear spread position, the net profit is $1.64 per contract."
      ],
      "text/plain": [
       "<IPython.core.display.Markdown object>"
      ]
     },
     "metadata": {},
     "output_type": "display_data"
    },
    {
     "name": "stdout",
     "output_type": "stream",
     "text": [
      "Book Label: Derivatives and Currency Management\n",
      "--------------------------------------------------\n",
      "ID: 2822\n"
     ]
    },
    {
     "data": {
      "text/markdown": [
       "Explanation: The domestic-currency return is a function of the foreign-currency return and the\n",
       "percentage change of the foreign currency against the domestic currency. Mathematically, the\n",
       "domestic-currency return is expressed as: RDC = (1 + RFC)(1 + RFX) – 1where RDC is the\n",
       "domestic-currency return (in percent), RFC is the foreign-currency return, and RFX is the\n",
       "percentage change of the foreign currency against the domestic currency. Note that this RFX\n",
       "expression is calculated using the investor’s domestic currency (the EUR in this case) as the\n",
       "price currency in the P/B quote. This is different than the market-standard currency quotes in\n",
       "Exhibit 1, where the EUR is the base currency in each of these quotes. Therefore, for the\n",
       "foreign currency (USD, GBP, or CHF) to appreciate against the EUR, the market-standard quote\n",
       "(USD/EUR, GBP/EUR, or CHF/EUR, respectively) must decrease; i.e. the EUR must depreciate.The\n",
       "Euro-Swiss (CHF/EUR) is the only spot rate with a negative change (from 1.2175 to 1.2080),\n",
       "meaning the EUR depreciated against the CHF (the CHF/EUR rate decreased). Or put differently,\n",
       "the CHF appreciated against the EUR, adding to the EUR-denominated return for the German\n",
       "investor holding CHF-denominated assets. This would result in a higher domestic-currency return\n",
       "(RDC), for the German investor, relative to the foreign-currency return (RFC) for the CHF-\n",
       "denominated assets. Both the Euro-dollar (USD/EUR) and Euro-sterling (GBP/EUR) experienced a\n",
       "positive change in the spot rate, meaning the EUR appreciated against these two currencies (the\n",
       "USD/EUR rate and the GBP/EUR rate both increased). This would result in a lower domestic-\n",
       "currency return (RDC) for the German investor relative to the foreign-currency return (RFC) for\n",
       "the USD- and GBP-denominated assets.A is incorrect because the Euro-dollar (USD/EUR)\n",
       "experienced a positive change in the spot rate, meaning the EUR appreciated against the USD\n",
       "(the USD/EUR rate increased). This would result in a lower domestic-currency (i.e. EUR-\n",
       "denominated) return relative to the foreign-currency return for the USD-denominated assets,\n",
       "since the USD has depreciated against the EUR.B is incorrect because the Euro-sterling\n",
       "(GBP/EUR) experienced a positive change in the spot rate, meaning the EUR appreciated against\n",
       "the GPB (the GBP/EUR rate increased). This would result in a lower domestic-currency (i.e. EUR-\n",
       "denominated) return relative to the foreign-currency return for the GBP-denominated assets,\n",
       "since the GBP has depreciated against the EUR."
      ],
      "text/plain": [
       "<IPython.core.display.Markdown object>"
      ]
     },
     "metadata": {},
     "output_type": "display_data"
    },
    {
     "name": "stdout",
     "output_type": "stream",
     "text": [
      "Book Label: Derivatives and Currency Management\n",
      "--------------------------------------------------\n",
      "ID: 2841\n"
     ]
    },
    {
     "data": {
      "text/markdown": [
       "Explanation: The equation to calculate the forward premium (discount) is: $S_{\\text{f/d}}$ is the spot rate with GBP the base currency or d, and INR the foreign currency or f. $S_{\\text{f/d}}$ per Exhibit 1 is 79.5093, $i_{\\text{f}}$ is equal to 7.52% and $i_{\\text{d}}$ is equal to 5.43%. With GBP as the base currency (i.e. the “domestic” currency) in the INR/GBP quote, substituting in the relevant base currency values from Exhibit 1 yields the following:\n",
       "\n",
       "$$\n",
       "F_{\\text{f/d}} - S_{\\text{f/d}} = S_{\\text{f/d}} \\left( \\frac{\\left( \\frac{\\text{Actual}}{360} \\right) (i_r - i_d)}{1 + i_d \\left( \\frac{\\text{Actual}}{360} \\right)} \\right)\n",
       "$$\n",
       "\n",
       "$$\n",
       "F_{\\text{f/d}} - S_{\\text{f/d}} = 79.5093 \\left( \\frac{\\left( \\frac{360}{360} \\right) (0.0752 - 0.0543)}{1 + 0.0543 \\left( \\frac{360}{360} \\right)} \\right)\n",
       "$$\n",
       "\n",
       "$$\n",
       "F_{\\text{f/d}} - S_{\\text{f/d}} = 79.5093 \\left( \\frac{1}{1.0543} (0.0752 - 0.0543) \\right)\n",
       "$$\n",
       "\n",
       "$$\n",
       "F_{\\text{f/d}} - S_{\\text{f/d}} = 1.576\n",
       "$$"
      ],
      "text/plain": [
       "<IPython.core.display.Markdown object>"
      ]
     },
     "metadata": {},
     "output_type": "display_data"
    },
    {
     "name": "stdout",
     "output_type": "stream",
     "text": [
      "Book Label: Economics\n",
      "--------------------------------------------------\n",
      "ID: 2842\n"
     ]
    },
    {
     "data": {
      "text/markdown": [
       "Explanation: The dealer is posting a bid rate to buy BRL at a price that is too high. This\n",
       "overpricing is determined by calculating the interbank implied cross rate for the CHF/BRL using\n",
       "the intuitive equation-based approach:CHF/BRL = CHF/USD × (BRL/USD)–1, orCHF/BRL = CHF/USD ×\n",
       "USD/BRLInverting the BRL/USD given the quotes in Exhibit 2 determines the USD/BRL bid–offer\n",
       "rates of 0.23980/0.23982. (The bid of 0.23980 is the inverse of the BRL/USD offer, calculated\n",
       "as 1/4.1702; the offer of 0.23982 is the inverse of the BRL/USD bid, calculated as 1/4.1698.)\n",
       "Multiplying the CHF/USD and USD/BRL bid–offer rates then leads to the interbank implied\n",
       "CHF/BRL cross rate:\n",
       "Bid: 0.9799 × 0.23980 = 0.2349\n",
       "Offer: 0.9801 × 0.23982 = 0.23505\n",
       "Since the dealer is willing to buy BRL at 0.2355 but BRL can be purchased from the interbank\n",
       "market at 0.23505, there is an arbitrage opportunity to buy BRL in the interbank market and\n",
       "sell BRL to the dealer for a profit of 0.0045 CHF (0.2355 – 0.23505) per BRL transacted."
      ],
      "text/plain": [
       "<IPython.core.display.Markdown object>"
      ]
     },
     "metadata": {},
     "output_type": "display_data"
    },
    {
     "name": "stdout",
     "output_type": "stream",
     "text": [
      "Book Label: Economics\n",
      "--------------------------------------------------\n",
      "ID: 2843\n"
     ]
    },
    {
     "data": {
      "text/markdown": [
       "Explanation: The carry trade involves borrowing in a lower-yielding currency to invest in a\n",
       "higher-yielding\n",
       "one and netting any profit after allowing for borrowing costs and exchange rate movements. The\n",
       "relevant trade is to borrow USD and lend in euros. To calculate the all-in USD return from a\n",
       "one-year EUR Libor deposit, first determine the current and one-year-later USD/EUR exchange\n",
       "rates. Because one USD buys CAD 1.3200 today and one CAD buys EUR 0.6506 today, today’s\n",
       "EUR/USD rate is the product of these two numbers: 1.3200 × 0.6506 = 0.8588. The projected rate\n",
       "one year later is 1.3151 × 0.6567 = 0.8636. Accordingly, measured in dollars, the investment\n",
       "return for the unhedged EUR Libor deposit is equal to\n",
       "(1.3200 × 0.6506) × (1＋0.022) × [1/(1.3151 × 0.6567)] –1\n",
       "= 0.8588 × (1.022) × (1/0.8636) –1 = 1.01632 – 1 = 1.632%\n",
       "However, the borrowing costs must be charged against this gross return to fund the carry trade\n",
       "investment (one-year USD Libor was 0.80%). The net return on the carry trade is therefore\n",
       "1.632% – 0.80% = 0.832%."
      ],
      "text/plain": [
       "<IPython.core.display.Markdown object>"
      ]
     },
     "metadata": {},
     "output_type": "display_data"
    },
    {
     "name": "stdout",
     "output_type": "stream",
     "text": [
      "Book Label: Economics\n",
      "--------------------------------------------------\n",
      "ID: 2861\n"
     ]
    },
    {
     "data": {
      "text/markdown": [
       "Explanation: B is correct. Ian’s average trade price is:\n",
       "Ian’s sell order first fills with the most aggressively priced buy order, which is Mary’s\n",
       "order for 300 shares at ￡20.02. Ian still has 700 shares for sale. The next most aggressively\n",
       "priced buy order is Ann’s order for 400 shares at ￡19.89. This order is filled. Ian still has\n",
       "300 shares for sale. The next most aggressively priced buy order is Paul’s order for 200\n",
       "shares at ￡19.84. A third trade takes place. Ian still has 100 shares for sale.The next buy\n",
       "order is Keith’s order for 1,000 shares at ￡19.70. However, this price is below Ian’s limit\n",
       "price of ￡19.83. Therefore, no more trade is possible.\n",
       "$$\n",
       "£19.92 = \\frac{300 \\times £20.02 + 400 \\times £19.89 + 200 \\times £19.84}{300 + 400 + 200}\n",
       "$$\n",
       " 中文： B是正确的。这道题目说Ian想要买1000股股票，限价19.83卖出。限价卖出的意思是说以不低于这个\n",
       "价格卖出。因此通过下面的表格（买单），能成交的是200*19.84＋400*19.89＋300*20.02共成交900股因此\n",
       "除以900.就是平均成交价格19.92。"
      ],
      "text/plain": [
       "<IPython.core.display.Markdown object>"
      ]
     },
     "metadata": {},
     "output_type": "display_data"
    },
    {
     "name": "stdout",
     "output_type": "stream",
     "text": [
      "Book Label: level1_权益\n",
      "--------------------------------------------------\n",
      "ID: 2873\n"
     ]
    },
    {
     "data": {
      "text/markdown": [
       "Explanation: B is correct. The total return of the market-capitalization-weighted index is\n",
       "calculated below:\n",
       " \n",
       "中文： B是正确的，总回报率计算的时候需要加上期间收益。 将MNO,ORS,XYZ三者的期初市值，期末市值以\n",
       "及期间的股利都分别求和。 期末-期初＋股利/期初=（48250000-53750000＋2625000）/53750000= -5.35%\n",
       " \\begin{tabular}{|l|c|c|c|c|}\n",
       "\\hline\n",
       "Security & Beginning of Period Price (¥) & End of Period Price (¥) & Dividends per Share (¥) & Shares Outstanding \\\\\n",
       "\\hline\n",
       "MNO & 2,500 & 2,700 & 100 & 5,000 \\\\\n",
       "QRS & 3,500 & 2,500 & 150 & 7,500 \\\\\n",
       "XYZ & 1,500 & 1,600 & 100 & 10,000 \\\\\n",
       "\\hline\n",
       "\\end{tabular}\n",
       "\n",
       "Calculated below:\n",
       "\n",
       "\\begin{tabular}{|l|c|c|c|c|}\n",
       "\\hline\n",
       "Security & Beginning of Period Value (¥) & End of Period Value (¥) & Total Dividends (¥) & Total Return (\\%) \\\\\n",
       "\\hline\n",
       "MNO & 12,500,000 & 13,500,000 & 500,000 & 12.00 \\\\\n",
       "QRS & 26,250,000 & 18,750,000 & 1,125,000 & -24.29 \\\\\n",
       "XYZ & 15,000,000 & 16,000,000 & 1,000,000 & 13.33 \\\\\n",
       "\\hline\n",
       "Total & 53,750,000 & 48,250,000 & 2,625,000 & -5.35 \\\\\n",
       "\\hline\n",
       "\\end{tabular}"
      ],
      "text/plain": [
       "<IPython.core.display.Markdown object>"
      ]
     },
     "metadata": {},
     "output_type": "display_data"
    },
    {
     "name": "stdout",
     "output_type": "stream",
     "text": [
      "Book Label: level1_权益\n",
      "--------------------------------------------------\n",
      "ID: 2875\n"
     ]
    },
    {
     "data": {
      "text/markdown": [
       "Explanation: 英文： C is correct. The market is 9.95 bid, offered at 10.02. The best bid is at\n",
       "€9.95 and the best offer is €10.02. 中文： C是正确的，根据上图最优买入和最优卖出分别为9.95和\n",
       "10.02。"
      ],
      "text/plain": [
       "<IPython.core.display.Markdown object>"
      ]
     },
     "metadata": {},
     "output_type": "display_data"
    },
    {
     "name": "stdout",
     "output_type": "stream",
     "text": [
      "Book Label: level1_权益\n",
      "--------------------------------------------------\n",
      "ID: 2886\n"
     ]
    },
    {
     "data": {
      "text/markdown": [
       "Explanation: 英文： B is correct. It is the percentage change in the market value over the\n",
       "period:Market value at beginning of period: (20 × 300) + (50 × 300) + (26 × 2,000) =\n",
       "73,000Market value at end of period: (22 × 300) + (48 × 300) + (30 × 2,000) =\n",
       "81,000Percentage change is 81,000/73,000 – 1 = 0.1096 or 11.0 percent with rounding. 中文：\n",
       "B是正确的。这是该期间市值变动的百分比： 期初市值：（20×300） ＋（50×300）\n",
       "＋（26×2000）=73000 期末市值：（22×300） ＋（48×300） ＋（30×2000）=81000 百分比变化为\n",
       "81000/73000-1=0.1096或11.0%。"
      ],
      "text/plain": [
       "<IPython.core.display.Markdown object>"
      ]
     },
     "metadata": {},
     "output_type": "display_data"
    },
    {
     "name": "stdout",
     "output_type": "stream",
     "text": [
      "Book Label: level1_权益\n",
      "--------------------------------------------------\n",
      "ID: 2888\n"
     ]
    },
    {
     "data": {
      "text/markdown": [
       "Explanation: A market has the following limit orders standing on its book for a particular\n",
       "stock. The bid and ask sizes are number of shares in hundreds.\n",
       "What is the market?"
      ],
      "text/plain": [
       "<IPython.core.display.Markdown object>"
      ]
     },
     "metadata": {},
     "output_type": "display_data"
    },
    {
     "name": "stdout",
     "output_type": "stream",
     "text": [
      "Book Label: level1_权益\n",
      "--------------------------------------------------\n",
      "ID: 2895\n"
     ]
    },
    {
     "data": {
      "text/markdown": [
       "Explanation: B is correct. The price return of the price-weighted index is the percentage change\n",
       "in price of the index: (68 – 75)/75 = –9.33%.\n",
       " B是正确的。价格加权指数的价格回报率是指数价格变化的百分比：（68-75）/75=-9.33%。\n",
       " \\begin{array}{|c|c|c|}\n",
       "\\hline\n",
       "\\text{Security} & \\text{Beginning of Period Price (£)} & \\text{End of Period Price (£)} \\\\\n",
       "\\hline\n",
       "\\text{ABC} & 25.00 & 27.00 \\\\\n",
       "\\text{DEF} & 35.00 & 25.00 \\\\\n",
       "\\text{GHI} & 15.00 & 16.00 \\\\\n",
       "\\hline\n",
       "\\text{TOTAL} & 75.00 & 68.00 \\\\\n",
       "\\hline\n",
       "\\end{array}"
      ],
      "text/plain": [
       "<IPython.core.display.Markdown object>"
      ]
     },
     "metadata": {},
     "output_type": "display_data"
    },
    {
     "name": "stdout",
     "output_type": "stream",
     "text": [
      "Book Label: level1_权益\n",
      "--------------------------------------------------\n",
      "ID: 2897\n"
     ]
    },
    {
     "data": {
      "text/markdown": [
       "Explanation: 英文： C is correct. With an equal-weighted index, the same amount is invested in\n",
       "each security. Assuming $1,000 is invested in each of the three stocks, the index value is\n",
       "$3,000 at the beginning of the period and the following number of shares is purchased for each\n",
       "stock: Security A: 50 shares Security B: 20 shares Security C: 38.46 shares. Using the prices\n",
       "at the beginning of the period for each security, the index value at the end of the period is\n",
       "$3,213.8: ($22 × 50)＋($48 × 20) ＋($30 × 38.46). The price return is $3,213.8/$3,000 – 1 =\n",
       "7.1%. 中文： C是正确的。A、B、C三只股票等权重构成。因此分别计算这三只股票的收益率即可。\n",
       "A：（22-20）/20=0.1 B：（48-50）/50=-0.04 C：（30-26）/26=0.1538 （0.1-0.04＋ 0.1538）/3=7.13%"
      ],
      "text/plain": [
       "<IPython.core.display.Markdown object>"
      ]
     },
     "metadata": {},
     "output_type": "display_data"
    },
    {
     "name": "stdout",
     "output_type": "stream",
     "text": [
      "Book Label: level1_权益\n",
      "--------------------------------------------------\n",
      "ID: 2903\n"
     ]
    },
    {
     "data": {
      "text/markdown": [
       "Explanation: 英文： C is correct. The total return of an index is calculated on the basis of the\n",
       "change in price of the underlying securities plus the sum of income received or the sum of the\n",
       "weighted total returns of each security. The total return of Able is 27.5 percent; of Baker is\n",
       "0 percent; and of Charlie is 6.7 percent:Able: (12 – 10＋0.75)/10 = 27.5% Baker: (19 –\n",
       "20＋1)/20 = 0% Charlie: (30 – 30＋ 2)/30 = 6.7% An equal-weighted index applies the same\n",
       "weight (1/3) to each security’s return; therefore, the total return = 1/3 × (27.5% ＋0%\n",
       "＋6.7%) = 11.4%. 中文： C是正确的。指数的总回报率是根据标的证券的价格变动加上每种证券的期间收入\n",
       "总额或计算的。 Able: (12 – 10＋ 0.75)/10 = 27.5% Baker: (19 – 20 ＋1)/20 = 0% Charlie: (30 –\n",
       "30 ＋2)/30 = 6.7% 总收益率 = 1/3 × (27.5%＋ 0%＋ 6.7%) = 11.4%."
      ],
      "text/plain": [
       "<IPython.core.display.Markdown object>"
      ]
     },
     "metadata": {},
     "output_type": "display_data"
    },
    {
     "name": "stdout",
     "output_type": "stream",
     "text": [
      "Book Label: level1_权益\n",
      "--------------------------------------------------\n",
      "ID: 2907\n"
     ]
    },
    {
     "data": {
      "text/markdown": [
       "Explanation: 英文： B is correct. The price return is the sum of the weighted returns of each\n",
       "security. The return of Able is 20 percent [(12 – 10)/10]; of Baker is –5 percent [(19 –\n",
       "20)/20]; and of Charlie is 0 percent [(30 – 30)/30]. The price return index assigns a weight\n",
       "of 1/3 to each asset; therefore, the price return is 1/3 × [20%＋ (–5%) ＋ 0%] = 5%. 中文：\n",
       "B是正确的。 三只股票是等权重的。因此分别计算每只股票的收益率。 Able 的收益率是20% = [(12 –\n",
       "10)/10]; Baker的收益率是–5 % = [(19 – 20)/20]; Charlie 的收益率是 0% = [(30 – 30)/30]. 价格\n",
       "收益是1/3 × [20%＋(–5%) ＋0%] = 5%."
      ],
      "text/plain": [
       "<IPython.core.display.Markdown object>"
      ]
     },
     "metadata": {},
     "output_type": "display_data"
    },
    {
     "name": "stdout",
     "output_type": "stream",
     "text": [
      "Book Label: level1_权益\n",
      "--------------------------------------------------\n",
      "ID: 2912\n"
     ]
    },
    {
     "data": {
      "text/markdown": [
       "Explanation: 英文： B is correct. The price return of the index is (48,250,000 –\n",
       "53,750,000)/53,750,000 = –10.23%. 中文： B是正确的。该指数的价格回报率为（48250000-\n",
       "53750000）/53750000=-10.23%。"
      ],
      "text/plain": [
       "<IPython.core.display.Markdown object>"
      ]
     },
     "metadata": {},
     "output_type": "display_data"
    },
    {
     "name": "stdout",
     "output_type": "stream",
     "text": [
      "Book Label: level1_权益\n",
      "--------------------------------------------------\n",
      "ID: 2917\n"
     ]
    },
    {
     "data": {
      "text/markdown": [
       "Explanation: The price return of the equal-weighted index is the mean of sum of each return:\n",
       "(2/25-10/35 ＋1/15)/3=-4.6344%.等权重指数的价格回报率是各回报率之和的平均值：(2/25-10/35＋\n",
       "1/15)/3=-4.6344%."
      ],
      "text/plain": [
       "<IPython.core.display.Markdown object>"
      ]
     },
     "metadata": {},
     "output_type": "display_data"
    },
    {
     "name": "stdout",
     "output_type": "stream",
     "text": [
      "Book Label: level1_权益\n",
      "--------------------------------------------------\n",
      "ID: 2941\n"
     ]
    },
    {
     "data": {
      "text/markdown": [
       "Explanation: C is correct.\n",
       " D1 = 0.58(1.20) = 0.70, D2 = 0.58(1.20)(1.15) = 0.80, and P2 = D3/(k – g) =\n",
       "0.80(1.056)/(0.083 – 0.056) = 31.29 C是正确的，如。\n",
       " $$\n",
       "V_0 = \\frac{D_1}{(1+r)} + \\frac{D_2}{(1+r)^2} + \\frac{P_2}{(1+r)^2}\n",
       "$$\n",
       "\n",
       "$$\n",
       "= \\frac{0.70}{(1.083)} + \\frac{0.80}{(1.083)^2} + \\frac{31.29}{(1.083)^2}\n",
       "$$\n",
       "\n",
       "$$\n",
       "= \\$28.01\n",
       "$$"
      ],
      "text/plain": [
       "<IPython.core.display.Markdown object>"
      ]
     },
     "metadata": {},
     "output_type": "display_data"
    },
    {
     "name": "stdout",
     "output_type": "stream",
     "text": [
      "Book Label: level1_权益\n",
      "--------------------------------------------------\n",
      "ID: 2951\n"
     ]
    },
    {
     "data": {
      "text/markdown": [
       "Explanation: 英文 B is correct. P/E = Current price/EPS, and Estimated P/E = Current\n",
       "price/Estimated EPS. Alpha P/E = $57.32/$3.82 = 15.01 Alpha estimated P/E = $57.32/4.75 = 12.07\n",
       "Delta P/E = $18.93/$1.35 = 14.02 Delta estimated P/E = $18.93/$1.40 = 13.52 中文 B是正确的。 分\n",
       "别使用历史数据和预测数据计算。 P/E = Current price/EPS, and Estimated P/E = Current\n",
       "price/Estimated EPS. Alpha P/E = $57.32/$3.82 = 15.01 Alpha estimated P/E = $57.32/4.75 = 12.07\n",
       "Delta P/E = $18.93/$1.35 = 14.02 Delta estimated P/E = $18.93/$1.40 = 13.52"
      ],
      "text/plain": [
       "<IPython.core.display.Markdown object>"
      ]
     },
     "metadata": {},
     "output_type": "display_data"
    },
    {
     "name": "stdout",
     "output_type": "stream",
     "text": [
      "Book Label: level1_权益\n",
      "--------------------------------------------------\n",
      "ID: 2991\n"
     ]
    },
    {
     "data": {
      "text/markdown": [
       "Explanation: B is correct. A company’s ROE is calculated as (NIt/BVEt–1). The BVEt–1 is equal\n",
       "to the beginning total assets minus the beginning total liabilities, which equals ￡50,000,000\n",
       "– ￡35,000,000 = ￡15,000,000. Therefore, ROE = ￡2,000,000/￡15,000,000 = 13.3%. B 是正确的\n",
       "，本题没有给出期末的账面净值。因此用期初账面净值代替平均。"
      ],
      "text/plain": [
       "<IPython.core.display.Markdown object>"
      ]
     },
     "metadata": {},
     "output_type": "display_data"
    },
    {
     "name": "stdout",
     "output_type": "stream",
     "text": [
      "Book Label: level1_权益\n",
      "--------------------------------------------------\n",
      "ID: 3004\n"
     ]
    },
    {
     "data": {
      "text/markdown": [
       "Explanation: $$\n",
       "V_0 = \\frac{D_1}{(1 + r)} + \\frac{D_2}{(1 + r)^2} + \\frac{D_3}{(1 + r)^3} + \\frac{D_4}{(1 + r)^4} + \\frac{P_4}{(1 + r)^4}\n",
       "$$\n",
       "\n",
       "$$\n",
       "= \\frac{468}{(1.12)} + \\frac{486.72}{(1.12)^2} + \\frac{506.19}{(1.12)^3} + \\frac{526.44}{(1.12)^4} + \\frac{9000}{(1.12)^4}\n",
       "$$\n",
       "\n",
       "$$\n",
       "= ¥7,220\n",
       "$$"
      ],
      "text/plain": [
       "<IPython.core.display.Markdown object>"
      ]
     },
     "metadata": {},
     "output_type": "display_data"
    },
    {
     "name": "stdout",
     "output_type": "stream",
     "text": [
      "Book Label: level1_权益\n",
      "--------------------------------------------------\n",
      "ID: 3005\n"
     ]
    },
    {
     "data": {
      "text/markdown": [
       "Explanation: B is correct.\n",
       " $$\n",
       "\\frac{P_0}{E_1} = \\frac{\\frac{D_1}{E_1}}{r - g} = \\frac{\\frac{2.7}{5.7}}{0.0835 - 0.0275} = 8.5\n",
       "$$"
      ],
      "text/plain": [
       "<IPython.core.display.Markdown object>"
      ]
     },
     "metadata": {},
     "output_type": "display_data"
    },
    {
     "name": "stdout",
     "output_type": "stream",
     "text": [
      "Book Label: level1_权益\n",
      "--------------------------------------------------\n",
      "ID: 3011\n"
     ]
    },
    {
     "data": {
      "text/markdown": [
       "Explanation: 英文 A is correct. The book value of the company is equal to total assets minus\n",
       "total liabilities, which is €12,000,000 – €7,500,000 = €4,500,000. 中文 A是正确的。 公司的\n",
       "账面价值等于总资产减去总负债。€12,000,000 – €7,500,000 = €4,500,000"
      ],
      "text/plain": [
       "<IPython.core.display.Markdown object>"
      ]
     },
     "metadata": {},
     "output_type": "display_data"
    },
    {
     "name": "stdout",
     "output_type": "stream",
     "text": [
      "Book Label: level1_权益\n",
      "--------------------------------------------------\n",
      "ID: 3115\n"
     ]
    },
    {
     "data": {
      "text/markdown": [
       "Explanation: B is correct, as shown in the following table.\n",
       " \n",
       "B正确。BAII Plus计算器，CF页面下，2ND CE/C清楚历史记录，依次按\n",
       "：CFo=0C01=100,000F01=1C02=150,000F02=1C03=0F03=2（表示第三笔现金流为0，分别发生在第三年和第四\n",
       "年末，一共两笔）C04=-10,000F04=1 NPV页面下：I=12CPT NPV=203,190.52 \n",
       " ```\n",
       "\\begin{array}{|c|c|c|c|}\n",
       "\\hline\n",
       "\\text{Year} & \\text{Cash Flow (€)} & \\text{Formula} & \\text{PV at Year 0} \\\\\n",
       "\\hline\n",
       "1 & 100,000 & 100,000(1.12)^{-1} = & 89,285.71 \\\\\n",
       "2 & 150,000 & 150,000(1.12)^{-2} = & 119,579.08 \\\\\n",
       "5 & -10,000 & -10,000(1.12)^{-5} = & -5,674.27 \\\\\n",
       "\\hline\n",
       " &  &  & 203,190.52 \\\\\n",
       "\\hline\n",
       "\\end{array}\n",
       "```"
      ],
      "text/plain": [
       "<IPython.core.display.Markdown object>"
      ]
     },
     "metadata": {},
     "output_type": "display_data"
    },
    {
     "name": "stdout",
     "output_type": "stream",
     "text": [
      "Book Label: level1_数量\n",
      "--------------------------------------------------\n",
      "ID: 3116\n"
     ]
    },
    {
     "data": {
      "text/markdown": [
       "Explanation: The median is the value of the middle item of a set of items that has been sorted\n",
       "into ascending or descending order. In an even-numbered sample, we define the median as the\n",
       "mean of the values of items occupying the n/2 and (n +2)/2 positions (the two middle items).\n",
       "The n/2 item is the 10th item and the (n +2)/2 item is the 11th item. The value of the 10th\n",
       "item is 3; the value of the 11th item is 5. The mean of 3 and 5 is 4. 中位数是按升序或降序排序\n",
       "的一组项的中间项的值。在偶数样本中，我们将中位数定义为占据n/2和（n＋2）/2位置（中间两个项目）的\n",
       "项目值的平均值。在题干中，n/2项是第10项，（n＋2）/2项是第11项。 因为第10项的值是3；第11项的值是\n",
       "5。 3和5的平均数是(3＋5）/2=4。"
      ],
      "text/plain": [
       "<IPython.core.display.Markdown object>"
      ]
     },
     "metadata": {},
     "output_type": "display_data"
    },
    {
     "name": "stdout",
     "output_type": "stream",
     "text": [
      "Book Label: level1_数量\n",
      "--------------------------------------------------\n",
      "ID: 3119\n"
     ]
    },
    {
     "data": {
      "text/markdown": [
       "Explanation: B is correct. The coefficient of variation (CV) is the ratio of the standard\n",
       "deviation to the mean, where a higher CV implies greater risk per unit of return.\n",
       " B正确。 变异系数(CV)是标准差与均值的比值，变异系数越大，单位收益的风险越大。\n",
       "CV(UTIL)=s/X=1.23%/2.10%=0.59. CV(MATR)=s/X=1.35%/1.25%=1.08. CV(INDU)=s/X=1.52%/3.01%=0.51. \n",
       " $$\n",
       "CV_{UTIL} = \\frac{s}{\\overline{X}} = \\frac{1.23\\%}{2.10\\%} = 0.59\n",
       "$$\n",
       "\n",
       "$$\n",
       "CV_{MATR} = \\frac{s}{\\overline{X}} = \\frac{1.35\\%}{1.25\\%} = 1.08\n",
       "$$\n",
       "\n",
       "$$\n",
       "CV_{INDU} = \\frac{s}{\\overline{X}} = \\frac{1.52\\%}{3.01\\%} = 0.51\n",
       "$$"
      ],
      "text/plain": [
       "<IPython.core.display.Markdown object>"
      ]
     },
     "metadata": {},
     "output_type": "display_data"
    },
    {
     "name": "stdout",
     "output_type": "stream",
     "text": [
      "Book Label: level1_数量\n",
      "--------------------------------------------------\n",
      "ID: 3120\n"
     ]
    },
    {
     "data": {
      "text/markdown": [
       "Explanation: ： C is correct. The portfolio return must be calculated as the weighted mean\n",
       "return, where the weights are the allocations in each asset class: (0.20 × 8%) ＋ (0.40 ×\n",
       "12%) ＋【0.25×(-3%)】＋ (0.15 × 4%) = 6.25%, or ≈ 6.3%. 去年，一位投资者将他的退休储蓄分配到\n",
       "如下表所示的资产类别中。问2015年的投资组合收益率最接近多少。 C正确。 投资组合的回报须以加权平均\n",
       "回报计算，其中的权重是每种资产类别的配置: (0.20×8%)＋(0.40×12%)＋【0.25×(-3%)】＋(0.15×4%)=\n",
       "6.25%或≈6.3%。"
      ],
      "text/plain": [
       "<IPython.core.display.Markdown object>"
      ]
     },
     "metadata": {},
     "output_type": "display_data"
    },
    {
     "name": "stdout",
     "output_type": "stream",
     "text": [
      "Book Label: level1_数量\n",
      "--------------------------------------------------\n",
      "ID: 3121\n"
     ]
    },
    {
     "data": {
      "text/markdown": [
       "Explanation: C is correct. The cumulative relative frequency of a bin identifies the fraction of\n",
       "observations that are less than the upper limit of the given bin. It is determined by summing\n",
       "the relative frequencies from the lowest bin up to and including the given bin. The following\n",
       "exhibit shows the relative frequencies for all the bins of the data from the previous exhibit:\n",
       "The bin -1.71% ≤ x ＜ 2.03% has a cumulative relative frequency of 0.583.\n",
       ". 根据题目中表格信息，题目问：区间-1.71% ≤ x ＜ 2.03%对应的累积相对频率是多少？一个区间的累积\n",
       "相对频率，应该包含“小于给定区间上限”的观测值的部分。它是由最低区间到并包括给定区间的相对频率\n",
       "之和决定的。表中显示了题目表中所有数据区间的相对频率。区间-1.71% ≤ x ＜ 2.03%对应的累积相对频\n",
       "率为0.583。 补充： 数据中的最大值和最下值可以找到，差值为9.47-（-9.19）=18.66 题目问的一个区间\n",
       "是-1.71至2.03，差值为3.74 于是18.66可以分成？个3.74的区间呢？18.66/3.74=5个 第一个upper limit是\n",
       "-5.45=-9.19＋3.74 \n",
       " \\begin{tabular}{ccccc}\n",
       "\\hline\n",
       "\\text{Lower Limit (\\%)} & \\text{Upper Limit (\\%)} & \\text{Absolute Frequency} & \\text{Relative Frequency} & \\text{Cumulative Relative Frequency} \\\\\n",
       "\\hline\n",
       "$-9.19 \\leq$ & $< -5.45$ & 1 & 0.083 & 0.083 \\\\\n",
       "$-5.45 \\leq$ & $< -1.71$ & 2 & 0.167 & 0.250 \\\\\n",
       "$-1.71 \\leq$ & $< 2.03$ & 4 & 0.333 & 0.583 \\\\\n",
       "$2.03 \\leq$ & $< 5.77$ & 3 & 0.250 & 0.833 \\\\\n",
       "$5.77 \\leq$ & $\\geq 9.51$ & 2 & 0.167 & 1.000 \\\\\n",
       "\\hline\n",
       "\\end{tabular}"
      ],
      "text/plain": [
       "<IPython.core.display.Markdown object>"
      ]
     },
     "metadata": {},
     "output_type": "display_data"
    },
    {
     "name": "stdout",
     "output_type": "stream",
     "text": [
      "Book Label: level1_数量\n",
      "--------------------------------------------------\n",
      "ID: 3122\n"
     ]
    },
    {
     "data": {
      "text/markdown": [
       "Explanation: C is correct. The mean absolute deviation (MAD) of Fund ABC’s returns is greater\n",
       "than the MAD of both of the other funds.\n",
       "The numbers shown for variance are understood to be in “percent squared” terms so that when\n",
       "taking the square root, the result is standard deviation in percentage terms. Alternatively, by\n",
       "expressing standard deviation and variance in decimal form, one can avoid the issue of units;\n",
       "in decimal form, the variances for Fund ABC, Fund XYZ, and Fund PQR are 0.0317, 0.0243, and\n",
       "0.0110, respectively.\n",
       "C正确。 ABC基金回报的平均绝对偏差(MAD)大于其他两个基金的MAD。 ABC基金的MAD = [|-20-(-4)|＋|23-\n",
       "(-4)|＋|-14-(-4)|＋|5-(-4)|＋|-14-(-4)|]/5=14.4% XYZ基金的MAD =[|-33-(-10.8)|＋|-12-(-\n",
       "10.8)|＋|-12-(-10.8)|＋|-8-(-10.8)|＋|11-(-10.8)|]/5=9.8% PQR基金的MAD=[|-14-(-5)|＋|-18-(-\n",
       "5)|＋|6-(-5)|＋|-2-(-5)|＋|3-(-5)|]/5=8.8% A和B错误: 方差的数字被理解为“百分比的平方”的形式\n",
       "，所以当取平方根时，结果就是百分比的标准偏差。或者，用小数表示标准差和方差，就可以避免单位的问\n",
       "题;以小数形式表示，基金ABC、基金XYZ和基金PQR的方差分别为0.0317、0.0243和0.0110。"
      ],
      "text/plain": [
       "<IPython.core.display.Markdown object>"
      ]
     },
     "metadata": {},
     "output_type": "display_data"
    },
    {
     "name": "stdout",
     "output_type": "stream",
     "text": [
      "Book Label: level1_数量\n",
      "--------------------------------------------------\n",
      "ID: 3124\n"
     ]
    },
    {
     "data": {
      "text/markdown": [
       "Explanation: ： A is correct. The covariance is the product of the standard deviations and\n",
       "correlation using the formula Cov(US bond returns, Spanish bond returns) = σ(US bonds) × σ\n",
       "(Spanish bonds) × ρ(US bond returns, Spanish bond returns) = 0.64 × 0.56 × 0.24 = 0.086. ：\n",
       "A正确。 协方差是标准差和相关系数的乘积，用以下公式计算：Cov(美国债券的回报,西班牙债券的回报\n",
       ")=σ(美国国债)×σ(西班牙债券)×ρ(美国债券的回报,西班牙债券的回报)= 0.64×0.56×0.24 = 0.086。"
      ],
      "text/plain": [
       "<IPython.core.display.Markdown object>"
      ]
     },
     "metadata": {},
     "output_type": "display_data"
    },
    {
     "name": "stdout",
     "output_type": "stream",
     "text": [
      "Book Label: level1_数量\n",
      "--------------------------------------------------\n",
      "ID: 3129\n"
     ]
    },
    {
     "data": {
      "text/markdown": [
       "Explanation: ： C is correct. The correlation between two random variables Ri and Rj is defined\n",
       "as ρ(Ri,Rj) = Cov(Ri,Rj)/[σ(Ri)σ(Rj)]. Using the subscript i to represent hedge funds and\n",
       "the subscript j to represent the market index, the standard deviations are σ(Ri) = 2561/2 = 16\n",
       "and σ(Rj) = 811/2 = 9. Thus, ρ(Ri,Rj) = Cov(Ri,Rj)/[σ(Ri) σ(Rj)] = 110/(16 × 9) = 0.764.\n",
       "： C正确。 两个随机变量之间的相关性Ri和Rj被定义为ρ(Ri, Rj) = Cov (Ri, Rj) /(σ(Ri)σ(Rj)]。使\n",
       "用下标代表对冲基金和下标j代表市场指数,标准偏差是σ(Ri) = 256^(1/2) = 16和σ(Rj) = 81^(1/2) =\n",
       "9。因此,ρ(Ri, Rj) = Cov (Ri, Rj) /(σ(Ri)σ(Rj)] = 110 / (16×9) = 0.764。"
      ],
      "text/plain": [
       "<IPython.core.display.Markdown object>"
      ]
     },
     "metadata": {},
     "output_type": "display_data"
    },
    {
     "name": "stdout",
     "output_type": "stream",
     "text": [
      "Book Label: level1_数量\n",
      "--------------------------------------------------\n",
      "ID: 3134\n"
     ]
    },
    {
     "data": {
      "text/markdown": [
       "Explanation: A is correct. The effective annual rate (EAR) is calculated as follows:\n",
       "Solving for N on a financial calculator results in (where FV is future value and PV is present\n",
       "value):\n",
       " \n",
       "方法一（对应） BAII plus金融计算器不可以直接计算：log以x为底y的对数，不过有ln这个功能，ln表示的\n",
       "是log以e为底。可以使用“换底公式”，1.040353^t=4求t，计算过程如下： 用计算器求EAR： 1.2ND 2 2ND\n",
       "CE/C 2.NOM：3 ENTER 3.↓ ↓ C/Y：365 ENTER 4.↑ CPT：EFF=3.045326 计算t年（先算年再转换成月，如\n",
       "果先计算再转换成月不知1个月=?天） 250,000x(1＋EAR)^t=1,000,000 1.03045326^t=4\n",
       "log(1.03045326)4=t 利用换底公式： [Log（　）4]/[Log（　）1.03045326]=t Ln4/Ln1.03045326=t 分别\n",
       "用计算器计算Ln4和Ln1.03045326： 按：4 Ln得1.386294；1.03045326 Ln得0.0299999；t=46.211704(年)\n",
       "计算月的个数：n=tx12=46.211704x12=554.540453 方法二（绕开Ln） 因为PMT=0，表示现金流发生的频率\n",
       "（一年多少次）没有限制，N（一共多少期）没有限制，只要PMT和N匹配即可，此时N可以是天，也可以是年\n",
       "按天来算：PV=-250,000，FV=1,000,000，PMT=0，I/Y=3/365，CPT N=16,687.27453 Number of\n",
       "months=16,687.27453/365 x12 = 46.21171104x12=554.5405按年来算：PV=-\n",
       "250,000，FV=1,000,000，PMT=0，I/Y=3. 045326，CPT N=46.2117 Number of months=46.2117 x 12 =\n",
       "554.5404 \n",
       "\n",
       "$$\n",
       "EAR = (1 + \\text{Periodic interest rate})^{m} - 1\n",
       "$$\n",
       "\n",
       "$$\n",
       "EAR = (1 + 0.03/365)^{365} - 1\n",
       "$$\n",
       "\n",
       "$$\n",
       "EAR = (1.03045) - 1 = 0.030453 \\approx 3.0453\\%\n",
       "$$\n",
       "\n",
       "$$\n",
       "(1 + 0.030453)^N = \\frac{FV_N}{PV} = \\frac{\\yen 1,000,000}{\\yen 250,000}\n",
       "$$\n",
       "\n",
       "= 46.21 years, which multiplied by 12 to convert to months results in 554.5, or $\\approx$ 555 months."
      ],
      "text/plain": [
       "<IPython.core.display.Markdown object>"
      ]
     },
     "metadata": {},
     "output_type": "display_data"
    },
    {
     "name": "stdout",
     "output_type": "stream",
     "text": [
      "Book Label: level1_数量\n",
      "--------------------------------------------------\n",
      "ID: 3137\n"
     ]
    },
    {
     "data": {
      "text/markdown": [
       "Explanation: C is correct, as shown in the following (where FV is future value and PV is present\n",
       "value):\n",
       " C正确。 方法一：FV=PV(1＋r/m)^(m*N), FV6=$75,000(1＋0.07/4)^(4*6)=$113,733.21 方法二\n",
       "：PV=75,000，N=4*6，I/Y=7/4，PMT=0，CPT FV=113,733.21\n",
       " $$\n",
       "FV = PV \\left(1 + \\frac{r_s}{m}\\right)^{mN}\n",
       "$$\n",
       "\n",
       "$$\n",
       "FV_6 = \\$75,000 \\left(1 + \\frac{0.07}{4}\\right)^{(4 \\times 6)}\n",
       "$$\n",
       "\n",
       "$$\n",
       "FV_6 = \\$113,733.21.\n",
       "$$"
      ],
      "text/plain": [
       "<IPython.core.display.Markdown object>"
      ]
     },
     "metadata": {},
     "output_type": "display_data"
    },
    {
     "name": "stdout",
     "output_type": "stream",
     "text": [
      "Book Label: level1_数量\n",
      "--------------------------------------------------\n",
      "ID: 3139\n"
     ]
    },
    {
     "data": {
      "text/markdown": [
       "Explanation: A is correct. The number of combinations is the number of ways to pick four mutual\n",
       "funds out of 10 without regard to order, which is\n",
       " \n",
       "A正确。组合数，指的是不考虑顺序的前提下，从10只共同基金中选择4只的方法数为：\n",
       " $$\n",
       "nCr = \\frac{n!}{(n - r)!r!}\n",
       "$$\n",
       "\n",
       "$$\n",
       "^{10}C_4 = \\frac{10!}{(10 - 4)!4!} = \\frac{10 \\times 9 \\times 8 \\times 7}{4 \\times 3 \\times 2 \\times 1} = 210\n",
       "$$"
      ],
      "text/plain": [
       "<IPython.core.display.Markdown object>"
      ]
     },
     "metadata": {},
     "output_type": "display_data"
    },
    {
     "name": "stdout",
     "output_type": "stream",
     "text": [
      "Book Label: level1_数量\n",
      "--------------------------------------------------\n",
      "ID: 3140\n"
     ]
    },
    {
     "data": {
      "text/markdown": [
       "Explanation: B is correct. First, find the present value (PV) of an ordinary annuity in Year 17\n",
       "that represents the tuition costs:\n",
       "Then, find the PV of the annuity in today’s dollars (where FV is future value):\n",
       " B正确。 在BNG模式下，计算4笔学费在t=18时间点上的PV18： FV=0，N=4，I/Y=6，PMT=-50,000，CPT\n",
       "PV18=183,650.5975 在END模式下，将PV18折现到t=0时间点：\n",
       "FV18=PV18=183,650.5975，N=18，I/Y=6，PMT=0，CPT PV=64,340.8456 \n",
       " $$\n",
       "\\$50,000 \\left[ \\frac{1 - \\frac{1}{(1 + 0.06)^4}}{0.06} \\right]\n",
       "$$\n",
       "\n",
       "= \\$50,000 × 3.4651\n",
       "\n",
       "= \\$173,255.28.\n",
       "\n",
       "$$\n",
       "PV_0 = \\frac{FV}{(1 + 0.06)^{17}}\n",
       "$$\n",
       "\n",
       "$$\n",
       "PV_0 = \\frac{\\$173,255.28}{(1 + 0.06)^{17}}\n",
       "$$\n",
       "\n",
       "$$\n",
       "PV_0 \\approx \\$64,340.85 \\approx \\$64,341.\n",
       "$$"
      ],
      "text/plain": [
       "<IPython.core.display.Markdown object>"
      ]
     },
     "metadata": {},
     "output_type": "display_data"
    },
    {
     "name": "stdout",
     "output_type": "stream",
     "text": [
      "Book Label: level1_数量\n",
      "--------------------------------------------------\n",
      "ID: 3141\n"
     ]
    },
    {
     "data": {
      "text/markdown": [
       "Explanation: B is correct. The difference between continuous compounding and daily compounding\n",
       "is €127,496.85 – €127,491.29 = €5.56, or ≈ €6, as shown in the following\n",
       "calculations.With continuous compounding, the investment earns (where PV is present value)\n",
       "With daily compounding, the investment earns:\n",
       " \n",
       "方法一：连续复利和每日复利的差是： €127,496.85–€127,491.29 =€5.56, or≈€6，相关计算如下所\n",
       "示。 连续复利情况下，投资收益（PV表示的是现值）： PV*e^(rs*N) = €1,000,000*e^(0.03*4) –\n",
       "€1,000,000= €1,127,496.85 – €1,000,000= €127,496.85 以日计息，这个投资的收益为:\n",
       "€1,000,000*(1 0.03/365)^ (365*4) – €1,000,000 = €1,127,491.29 – €1,000,000 =\n",
       "€127,491.29. 方法二(注意不要保留小数带入，直接计算结果带入第三排键)：\n",
       "PV=1,000,000，N=365*4，I/Y=3/365，PMT=0，CPT FV=-1,127,491.29 PV=1,000,000，N=4，I/Y=( e^3%-\n",
       "1)*100，PMT=0，CPT FV=-1,127,496.85 \n",
       " $$\n",
       "PV e^{r_sN} - PV = €1,000,000 e^{0.03(4)} - €1,000,000\n",
       "$$\n",
       "\n",
       "$$\n",
       "= €1,127,496.85 - €1,000,000\n",
       "$$\n",
       "\n",
       "$$\n",
       "= €127,496.85\n",
       "$$\n",
       "\n",
       "€1,000,000(1 + 0.03/365)^{365(4)} - €1,000,000 = €1,127,491.29 - €1,000,000 = €127,491.29."
      ],
      "text/plain": [
       "<IPython.core.display.Markdown object>"
      ]
     },
     "metadata": {},
     "output_type": "display_data"
    },
    {
     "name": "stdout",
     "output_type": "stream",
     "text": [
      "Book Label: level1_数量\n",
      "--------------------------------------------------\n",
      "ID: 3142\n"
     ]
    },
    {
     "data": {
      "text/markdown": [
       "Explanation: ： B is correct. If Scenario 1 occurs, the expected recovery is 60% ($50,000)40%\n",
       "($30,000) = $42,000, and if Scenario 2 occurs, the expected recovery is 90%\n",
       "($80,000)10%($60,000) = $78,000. Weighting by the probability of each scenario, the expected\n",
       "recovery is 40%($42,000)60%($78,000) = $63,600. Alternatively, first calculating the\n",
       "probability of each amount occurring, the expected recovery is\n",
       "(40%)(60%)($50,000)(40%)(40%)($30,000)(60%)(90%)($80,000)(60%)(10%)($60,000) = $63,600. ： B正\n",
       "确。 如果发生场景1，预期的恢复是60%($50,000)40%($30,000)= $42,000，如果发生场景2，预期的恢复是\n",
       "90%($80,000)10%($60,000)= $78,000。按照每种情况的概率进行加权，预期复苏为40%(42,000美元\n",
       ")60%(78,000美元)= 63,600美元。 或者，首先计算每个金额发生的概率，预期回收率为\n",
       "(40%)(60%)($50,000)(40%)(40%)($30,000)(60%)(90%)($80,000)(60%)(10%)($60,000)= $63,600。"
      ],
      "text/plain": [
       "<IPython.core.display.Markdown object>"
      ]
     },
     "metadata": {},
     "output_type": "display_data"
    },
    {
     "name": "stdout",
     "output_type": "stream",
     "text": [
      "Book Label: level1_数量\n",
      "--------------------------------------------------\n",
      "ID: 3151\n"
     ]
    },
    {
     "data": {
      "text/markdown": [
       "Explanation: B is correct. The covariance is 26.56, calculated as follows. First, expected\n",
       "returns are\n",
       " \n",
       "B正确。 协方差为26.56，计算方法如下:首先，预期回报是: E(RFI)\n",
       "=(0.25×25)＋(0.50×15)＋(0.25×10)= 6.25 ＋ 7.50 ＋ 2.50 = 16.25 和 E(RDI) =(0.25×30)＋\n",
       "(0.50×25) ＋(0.25×15)= 7.50＋ 12.50 ＋ 3.75 = 23.75。 Covariance is Cov(RFI,RDI) = 0.25[(25\n",
       "– 16.25)(30 – 23.75)]＋ 0.50[(15 – 16.25)(25 – 23.75)]＋ 0.25[(10 – 16.25)(15 – 23.75)]=\n",
       "13.67 ＋ (–0.78) ＋13.67 = 26.56. \n",
       " \n",
       "\n",
       "$$\n",
       "E(R_{FI}) = (0.25 \\times 25) + (0.50 \\times 15) + (0.25 \\times 10)\n",
       "$$\n",
       "\n",
       "$$\n",
       "= 6.25 + 7.50 + 2.50 = 16.25 \\text{ and}\n",
       "$$\n",
       "\n",
       "$$\n",
       "E(R_{DI}) = (0.25 \\times 30) + (0.50 \\times 25) + (0.25 \\times 15)\n",
       "$$\n",
       "\n",
       "$$\n",
       "= 7.50 + 12.50 + 3.75 = 23.75.\n",
       "$$\n",
       "\n",
       "Covariance is\n",
       "\n",
       "$$\n",
       "\\text{Cov}(R_{FI},R_{DI}) = \\sum_i \\sum_j P(R_{FI,j},R_{DI,j})(R_{FI,j} - E R_{FI})(R_{DI,j} - E R_{DI})\n",
       "$$\n",
       "\n",
       "$$\n",
       "= 0.25[(25 - 16.25)(30 - 23.75)] + 0.50[(15 - 16.25)(25 - 23.75)] + 0.25[(10 - 16.25)(15 - 23.75)]\n",
       "$$\n",
       "\n",
       "$$\n",
       "= 13.67 + (-0.78) + 13.67 = 26.56.\n",
       "$$"
      ],
      "text/plain": [
       "<IPython.core.display.Markdown object>"
      ]
     },
     "metadata": {},
     "output_type": "display_data"
    },
    {
     "name": "stdout",
     "output_type": "stream",
     "text": [
      "Book Label: level1_数量\n",
      "--------------------------------------------------\n",
      "ID: 3153\n"
     ]
    },
    {
     "data": {
      "text/markdown": [
       "Explanation: B is correct. The PV in Year 5 of a $50,000 lump sum paid in Year 20 is $27,763.23\n",
       "(where FV is future value):\n",
       " B正确。 在END模式下，FV=50,000，N=15，I/Y=4，PMT=0，CPT PV= -27,763.23"
      ],
      "text/plain": [
       "<IPython.core.display.Markdown object>"
      ]
     },
     "metadata": {},
     "output_type": "display_data"
    },
    {
     "name": "stdout",
     "output_type": "stream",
     "text": [
      "Book Label: level1_数量\n",
      "--------------------------------------------------\n",
      "ID: 3155\n"
     ]
    },
    {
     "data": {
      "text/markdown": [
       "Explanation: B is correct. Quintiles divide a distribution intofifths, with the fourth quintile\n",
       "occurring at the point at which 80% of theobservations lie below it. The fourth quintile is\n",
       "equivalent to the 80thpercentile. To find the yth percentile (Py), we first must determine\n",
       "itslocation. The formula for the location (Ly) of a yth percentile in an arraywith n entries\n",
       "sorted in ascending order is Ly = (n＋ 1) × (y/100). In this case,n = 10 and y = 80%, so L80 =\n",
       "(10＋1) × (80/100) = 11 × 0.8 = 8.8. With the data arranged in ascending order\n",
       "(－40.33%,－5.02%, 9.57%, 10.02%, 12.34%, 15.25%, 16.54%, 20.65%, 27.37%, and 30.79%), the8.8th\n",
       "position would be between the 8th and 9th entries, 20.65% and 27.37%,respectively. Using linear\n",
       "interpolation, P80 = X8＋ (Ly – 8) × (X9 – X8), P80= 20.65＋ (8.8 – 8) × (27.37 – 20.65)\n",
       "= 20.65＋ (0.8 × 6.72) = 20.65＋ 5.38=26.03%. 五分位数把一个分布分成五分之三，而第四分位数出现\n",
       "在80%的观察值低于它的地方。第四个五分位数相当于第80个百分位数。要找到第yth百分位数(Py)，首先必\n",
       "须确定它的位置。按升序排列n个元素的数组中第y百分位的位置(Ly)公式为Ly = (n＋1)×(y/100)。此时，n\n",
       "= 10, y = 80%，所以L80 =(10＋1)×(80/100)= 11×0.8 = 8.8。 数据按升序排列(－40.33%、－5.02%、\n",
       "9.57%、10.02%、12.34%、15.25%、16.54%、20.65%、27.37%和30.79%)，8.8位分别位于第8和第9项之间，分\n",
       "别为20.65%和27.37%。采用线性插值，P80 = X8＋ (Ly - 8)×(X9 - X8)， P80 = 20.65＋(8.8 -\n",
       "8)×(27.37 - 20.65)= 20.65＋ (0.8×6.72)= 20.65＋ 5.38= 26.03%。"
      ],
      "text/plain": [
       "<IPython.core.display.Markdown object>"
      ]
     },
     "metadata": {},
     "output_type": "display_data"
    },
    {
     "name": "stdout",
     "output_type": "stream",
     "text": [
      "Book Label: level1_数量\n",
      "--------------------------------------------------\n",
      "ID: 3156\n"
     ]
    },
    {
     "data": {
      "text/markdown": [
       "Explanation: A is correct. The analyst must first calculate expected sales as 0.05 × $70 + 0.70\n",
       "× $40 + 0.25 × $25 = $3.50 million + $28.00 million + $6.25 million = $37.75 million. After\n",
       "calculating expected sales, we can calculate the variance of sales:\n",
       "The standard deviation of sales is thus σ = ($96.18)^1/2 = $9.81 million.\n",
       "A正确。 分析师必须首先计算预期销售额为0.05×$70＋0.70×$40＋0.25×$25 =$37.75 million。 通过计\n",
       "算期望销售额，可以计算出销售额的方差: σ^2= P(70)(70- E(销售))^2＋P(40)[ 40 - E(销售)]^2＋\n",
       "P(25)(25- E(销售))^2 = 0.05(70 - 37.75)^2＋0.70(40 - 37.75)^2＋ 0.25(25 - 37.75)^2 = 52 mil＋\n",
       "3.54 mil＋40.64 mil = 96.18 mil。 销售的标准偏差是σ=(96.18)^1/2 = 9.81 mil \n",
       " $$\n",
       "\\sigma^2 (\\text{Sales})\n",
       "$$\n",
       "\n",
       "$$\n",
       "= P(\\$70)[\\$70 - E(\\text{Sales})]^2 + P(\\$40)[\\$40 - E(\\text{Sales})]^2 + P(\\$25)[\\$25 - E(\\text{Sales})]^2\n",
       "$$\n",
       "\n",
       "$$\n",
       "= 0.05(\\$70 - 37.75)^2 + 0.70(\\$40 - 37.75)^2 + 0.25(\\$25 - 37.75)^2\n",
       "$$\n",
       "\n",
       "$$\n",
       "= \\$52.00 \\text{ million} + \\$3.54 \\text{ million} + \\$40.64 \\text{ million} = \\$96.18 \\text{ million}.\n",
       "$$"
      ],
      "text/plain": [
       "<IPython.core.display.Markdown object>"
      ]
     },
     "metadata": {},
     "output_type": "display_data"
    },
    {
     "name": "stdout",
     "output_type": "stream",
     "text": [
      "Book Label: level1_数量\n",
      "--------------------------------------------------\n",
      "ID: 3159\n"
     ]
    },
    {
     "data": {
      "text/markdown": [
       "Explanation: A is correct. To solve for an annuity (A) payment, when the future value (FV),\n",
       "interest rate, and number of periods is known, use the following equation:\n",
       " 这里用金融计算器的第三排五个键计算，大原则是知道4个键可以求余下的那个。 这里需要求的是PMT，所\n",
       "以需要输入余下四个键。第一，清空：2nd FV，清空之前所有输入的数据。第二，保证在END模式下第三，输\n",
       "入：先输入数字，再按第三排的功能键。FV=25,000，N=10*4，I/Y=6/4，PV=0，第四，计算：CPT PMT=-\n",
       "460.677542 \n",
       " $$\n",
       "FV = A \\left[ \\frac{\\left( 1 + \\frac{r_s}{m} \\right)^{mN} - 1}{\\frac{r}{m}} \\right]\n",
       "$$\n",
       "\n",
       "$$\n",
       "£25,000 = A \\left[ \\frac{\\left( 1 + \\frac{0.06}{4} \\right)^{4 \\times 10} - 1}{\\frac{0.06}{4}} \\right]\n",
       "$$\n",
       "\n",
       "$$\n",
       "A = £460.68\n",
       "$$"
      ],
      "text/plain": [
       "<IPython.core.display.Markdown object>"
      ]
     },
     "metadata": {},
     "output_type": "display_data"
    },
    {
     "name": "stdout",
     "output_type": "stream",
     "text": [
      "Book Label: level1_数量\n",
      "--------------------------------------------------\n",
      "ID: 3163\n"
     ]
    },
    {
     "data": {
      "text/markdown": [
       "Explanation: A is correct. Twenty observations lie in the interval “0.0 to 2.0,” and six\n",
       "observations lie in the “2.0 to 4.0” interval. Together, they represent 26/48, or 54.17%, of\n",
       "all observations, which is more than 50%.图中，横轴是日元相对与美元汇率变动的百分比；纵坐标代表\n",
       "落在一个区间中数据的个数（absolute frequency）。在折线图中，横坐标是某一个区间的中点，比如，折\n",
       "线图中的第一个点，横坐标是-5%，纵坐标是3，代表在-5%为中点的左右两边的区间内，落入的数据个数是\n",
       "3个。此时，我们从左往右标出5个区间，如图。每个区间的绝对频数看纵坐标：第一个区间的纵坐标\n",
       "（absolute frequency）=3；第二个区间=8；第三个区间=11；第四个区间=20；第5个区间=6，总共48个数据\n",
       "。题目问：日元升值的说法哪个是正确的？A: 日元升值发生的次数的概率超过50%首先，升值代表的就是横\n",
       "坐标>0%，也就是图上4和5两个区间，发生的次数的概率，就是落在区间中的数据占比（相对频率）=落在4和\n",
       "5区间上的数据总个数/所有区间的总个数=（20＋ 6）/(3 ＋8＋ 11＋ 20 6)=54%>50%，所以A正确。 B说日\n",
       "元升值比贬值发生的频率低。这句话不对，在A问中已经计算出，日元升值的概率约为54%，所以日元贬值的\n",
       "概率是1-54%=46%，应该是贬值的频率低，而不是升值的频率低，B错误。 C说日元升值比例为0-2的区间上对\n",
       "应发生的概率是20%。从图上看，升值比例看横轴，横坐标0-2的区间，对应的就是第四个区间，也就是以\n",
       "1%为中心的区间。这个区间中，数据落入的个数是20个，总数据个数是48个。20/48＝42%，也就是说，在这\n",
       "个区间中，数据的占比应该是42%而不是C选项中说的20%。所以C的说法也是错误的。"
      ],
      "text/plain": [
       "<IPython.core.display.Markdown object>"
      ]
     },
     "metadata": {},
     "output_type": "display_data"
    },
    {
     "name": "stdout",
     "output_type": "stream",
     "text": [
      "Book Label: level1_数量\n",
      "--------------------------------------------------\n",
      "ID: 3165\n"
     ]
    },
    {
     "data": {
      "text/markdown": [
       "Explanation: B is correct, calculated as follows (where A is annuity and PV is present value):\n",
       " B正确。 这里说“pmt due in one month”是指第一笔现金流在第一个月月末付款，所以是一个后付年金的\n",
       "形式。 在END模式下，FV=0，PV=200,000，N=5*12，I/Y=6/12，CPT PMT=3,866.56 \n",
       " $$\n",
       "A = (\\text{PV of annuity}) \\sqrt{\\frac{ \\left[ \\frac{1 - \\frac{1}{(1 + \\frac{r_s}{m})^{mN}}}{\\frac{r_s}{m}} \\right]}{\\left[ \\frac{1 - \\frac{1}{(1 + \\frac{r_s}{m})^{mN}}}{\\frac{r_s}{m}} \\right]}}\n",
       "$$\n",
       "\n",
       "$$\n",
       "= (£200,000) \\sqrt{\\frac{ \\left[ \\frac{1 - \\frac{1}{(1 + \\frac{r_s}{m})^{mN}}}{\\frac{r_s}{m}} \\right]}{\\left[ \\frac{1 - \\frac{1}{(1 + \\frac{r_s}{m})^{mN}}}{\\frac{r_s}{m}} \\right]}}\n",
       "$$\n",
       "\n",
       "$$\n",
       "(£200,000) \\sqrt{\\frac{ \\left[ \\frac{1 - \\frac{1}{(1 + 0.06/12)^{12(5)}}}{0.06/12} \\right]}{\\left[ \\frac{1 - \\frac{1}{(1 + 0.06/12)^{12(5)}}}{0.06/12} \\right]}}\n",
       "$$\n",
       "\n",
       "$$\n",
       "= (£200,000)/51.72556\n",
       "$$\n",
       "\n",
       "$$\n",
       "= £3,866.56\n",
       "$$"
      ],
      "text/plain": [
       "<IPython.core.display.Markdown object>"
      ]
     },
     "metadata": {},
     "output_type": "display_data"
    },
    {
     "name": "stdout",
     "output_type": "stream",
     "text": [
      "Book Label: level1_数量\n",
      "--------------------------------------------------\n",
      "ID: 3166\n"
     ]
    },
    {
     "data": {
      "text/markdown": [
       "Explanation: B is correct. The value of the perpetuity one year from now is calculated as: PV =\n",
       "A/r, where PV is present value, A is annuity, and r is expressed as a quarterly required rate\n",
       "of return because the payments are quarterly.\n",
       " B正确。 一年后的永续年金价值计算如下：PV = A/r，其中PV为现值，A为年金，r表示为季度要求收益率\n",
       "，因为支付是按季度来的： PV4 = $2.00/(0.06/4)= $133.33。 今天时间点上的现值是： PV0=\n",
       "FV4*(1＋r)^(–N)=$133.33*(1＋0.015)^(–4) = $125.62≈$126. 注意：第一笔现金流（股利）发生在\n",
       "t=5时刻，第二年第一个季度末，PV算下来是在t=4时刻的现值PV4，所以还要折现一次到t=0时刻。 \n",
       " \n",
       "\n",
       "$$\n",
       "PV = \\frac{2.00}{(0.06/4)}\n",
       "$$\n",
       "\n",
       "$$\n",
       "PV = 133.33\n",
       "$$\n",
       "\n",
       "The value today is (where FV is future value)\n",
       "\n",
       "$$\n",
       "PV = FV (1 + r)^{-N}\n",
       "$$\n",
       "\n",
       "$$\n",
       "PV = 133.33(1 + 0.015)^{-4}\n",
       "$$\n",
       "\n",
       "$$\n",
       "PV = 125.62 \\approx 126\n",
       "$$"
      ],
      "text/plain": [
       "<IPython.core.display.Markdown object>"
      ]
     },
     "metadata": {},
     "output_type": "display_data"
    },
    {
     "name": "stdout",
     "output_type": "stream",
     "text": [
      "Book Label: level1_数量\n",
      "--------------------------------------------------\n",
      "ID: 3170\n"
     ]
    },
    {
     "data": {
      "text/markdown": [
       "Explanation: B is correct. The present value of a 10-year annuity (A) due with payments of\n",
       "$2,000 at a 5% discount rate is calculated as follows:\n",
       "Alternatively, the PV of a 10-year annuity due is simply the PV of the ordinary annuity\n",
       "multiplied by 1.05:\n",
       " 原版书的公式比较复杂，如果计算器在手边的话，可以用计算器求解：N=10, I/Y=5, FV=0, PMT=-2,000\n",
       "[END] CPT PV=15,443.46986 N=10, I/Y=5, FV=0, PMT=-2,000 [BGN] CPT PV=16,215.64335\n",
       "15,443.46986*1.05=16,215.64335 \n",
       " ```\n",
       "$$\n",
       "PV = A \\left[ \\frac{1 - \\frac{1}{(1 + r)^N}}{r} \\right] + 2000\n",
       "$$\n",
       "\n",
       "$$\n",
       "PV = 2000 \\left[ \\frac{1 - \\frac{1}{(1 + 0.05)^9}}{0.05} \\right] + 2000\n",
       "$$\n",
       "\n",
       "$$\n",
       "PV = 15,443.47 \\times 1.05\n",
       "$$\n",
       "\n",
       "$$\n",
       "PV = 16,215.64.\n",
       "$$\n",
       "```"
      ],
      "text/plain": [
       "<IPython.core.display.Markdown object>"
      ]
     },
     "metadata": {},
     "output_type": "display_data"
    },
    {
     "name": "stdout",
     "output_type": "stream",
     "text": [
      "Book Label: level1_数量\n",
      "--------------------------------------------------\n",
      "ID: 3172\n"
     ]
    },
    {
     "data": {
      "text/markdown": [
       "Explanation: B is correct because ￡97,531 represents the present value (PV) of ￡100,000\n",
       "received one year from today when today’s deposit earns a stated annual rate of 2.50% and\n",
       "interest compounds weekly, as shown in the following equation (where FV is future value):\n",
       " \n",
       "B正确。 年利率为2.50%，每年按周计息，￡97,531表示一年后收到的这￡100,000钱现值(PV): 方法一\n",
       "：PV=FV(1＋rs/m)^(-mN), PV=￡100,000(1＋0.025/52)^(-52)= ￡97,531.58 方法二\n",
       "：FV=100,000，N=52，I/Y=2.5/52，PMT=0，CPT PV=-97,531.58 \n",
       " $$\n",
       "PV = FV_N \\left( 1 + \\frac{r_s}{m} \\right)^{-mN}\n",
       "$$\n",
       "\n",
       "$$\n",
       "PV = £100,000 \\left( 1 + \\frac{0.025}{52} \\right)^{-52}\n",
       "$$\n",
       "\n",
       "$$\n",
       "PV = £97,531.58\n",
       "$$"
      ],
      "text/plain": [
       "<IPython.core.display.Markdown object>"
      ]
     },
     "metadata": {},
     "output_type": "display_data"
    },
    {
     "name": "stdout",
     "output_type": "stream",
     "text": [
      "Book Label: level1_数量\n",
      "--------------------------------------------------\n",
      "ID: 3174\n"
     ]
    },
    {
     "data": {
      "text/markdown": [
       "Explanation: ： A is correct. The geometric mean return for Fund Y is found as follows:Fund Y =\n",
       "[(1＋0.195) × (1 – 0.019) × (1 ＋ 0.197) × (1 ＋ 0.350) × (1 ＋0.057)]^(1/5) – 1= 14.9%.\n",
       "： A正确。基金Y的几何平均收益率为: Fund Y = [(1＋ 0.195)×(1 - 0.019)×(1＋ 0.197)×(1＋\n",
       "0.350)×(1＋ 0.057)]^(1/5) - 1 = 14.9%。"
      ],
      "text/plain": [
       "<IPython.core.display.Markdown object>"
      ]
     },
     "metadata": {},
     "output_type": "display_data"
    },
    {
     "name": "stdout",
     "output_type": "stream",
     "text": [
      "Book Label: level1_数量\n",
      "--------------------------------------------------\n",
      "ID: 3175\n"
     ]
    },
    {
     "data": {
      "text/markdown": [
       "Explanation: A is correct. The effective annual rate (EAR) when compounded daily is 4.08%.\n",
       " \n",
       "A正确。 方法一：已知每年计息为“以日计息”，名义年利率为4%，运用effective annual rate (EAR)求解\n",
       "公式， EAR = (1＋Periodic interest rate)^m – 1=(1＋ 0.04/365)^365 – 1 = (1.0408) –1 =\n",
       "0.04081 ≈ 4.08%. 方法二：BAII Plus计算器，2ND＋2页面下，2ND＋CE/C清楚历史记录\n",
       "，NOM=4，C/Y=365，CPT EFF=4.08 \n",
       " $$\n",
       "EAR = (1 + \\text{Periodic interest rate})^m - 1\n",
       "$$\n",
       "\n",
       "$$\n",
       "EAR = (1 + 0.04/365)^{365} - 1\n",
       "$$\n",
       "\n",
       "$$\n",
       "EAR = (1.0408) - 1 = 0.04081 \\approx 4.08\\%\n",
       "$$"
      ],
      "text/plain": [
       "<IPython.core.display.Markdown object>"
      ]
     },
     "metadata": {},
     "output_type": "display_data"
    },
    {
     "name": "stdout",
     "output_type": "stream",
     "text": [
      "Book Label: level1_数量\n",
      "--------------------------------------------------\n",
      "ID: 3177\n"
     ]
    },
    {
     "data": {
      "text/markdown": [
       "Explanation: B is correct, as the following cash flows show:\n",
       "The first payment grows at 2.0% compounded monthly for three years (where FV is future value):\n",
       "The second payment grows at 2.0% compounded monthly for two years:\n",
       "The third payment grows at 2.0% compounded monthly for one year:\n",
       "The fourth payment is paid at the end of Year 4. Its future value is €700. The sum of all\n",
       "future value payments is as follows:\n",
       " B正确。 方法一：如下现金流所示 这四笔年利率是根据存单3.5%的年利率计算的\n",
       "：€20,000*3.5%=€7,000。 第一笔利息€7,000以2.0%名义年率按照每月复利计息，为期三年(其中FV为未\n",
       "来价值): FV=€700(1＋0.02/12)^(3×12)=743.25 第二笔利息€7,000以2.0%名义年率按照每月复利计息\n",
       "，为期两年: FV=€700(1＋0.02/12)^(2×12)= 728.54 第三笔利息€7,000以2.0%名义年率按照每月复利计\n",
       "息，为期一年: FV=€700(1＋0.02/12)^(3×12)=714.13 第四笔利息€7,000在第4年年底支付。它的未来价\n",
       "值就是€700。 所有未来价值支付的总和如下:\n",
       "€20,000.00＋€743.25＋€728.54＋€714.13＋€700.00=€22,885.92 Or 方法二: 1＋EAR (with a\n",
       "stated annual interest rate of 2.0% compounded monthly)=(1＋0.02/12)^12=1.02018436 END model：\n",
       "PV=0, PMT=700, I/Y=2.018436, N=4, CPT FV=2,885.92. Total Future value is\n",
       "€22,885.925=€2,885.925 €20,000. \n",
       " €20,000 initial deposit\n",
       "\n",
       "$$\n",
       "FVN = €700 \\left( 1 + \\frac{0.02}{12} \\right)^{3 \\times 12}\n",
       "$$\n",
       "\n",
       "$$\n",
       "FVN = 743.25\n",
       "$$\n",
       "\n",
       "$$\n",
       "FVN = €700 \\left( 1 + \\frac{0.02}{12} \\right)^{2 \\times 12}\n",
       "$$\n",
       "\n",
       "$$\n",
       "FVN = 728.54\n",
       "$$\n",
       "\n",
       "$$\n",
       "FVN = €700 \\left( 1 + \\frac{0.02}{12} \\right)^{1 \\times 12}\n",
       "$$\n",
       "\n",
       "$$\n",
       "FVN = 714.13 \n",
       "$$\n",
       "\n",
       "€20,000.00 CD\n",
       "\n",
       "€743.25 First payment’s $FV$\n",
       "\n",
       "€728.54 Second payment’s $FV$\n",
       "\n",
       "€714.13 Third payment’s $FV$\n",
       "\n",
       "€700.00 Fourth payment’s $FV$\n",
       "\n",
       "€22,885.92 Total $FV$\n"
      ],
      "text/plain": [
       "<IPython.core.display.Markdown object>"
      ]
     },
     "metadata": {},
     "output_type": "display_data"
    },
    {
     "name": "stdout",
     "output_type": "stream",
     "text": [
      "Book Label: level1_数量\n",
      "--------------------------------------------------\n",
      "ID: 3178\n"
     ]
    },
    {
     "data": {
      "text/markdown": [
       "Explanation: A is correct. The relative frequency is the absolute frequency of each bindivided\n",
       "by the total number of observations. Here, the relative frequency is calculatedas: (12/60) ×\n",
       "100 = 20%. B is incorrect because the relative frequency ofthis bin is (23/60) × 100 = 38.33%.\n",
       "C is incorrect because the cumulative relativefrequency of the last bin must equal 100%. A是正\n",
       "确的。相对频率，指的是落在某一个区间中数据的占比，即每个区间中的绝对频数除以观测总数。此处，相\n",
       "对频率计算为：（12/60）×100=20%。 B是不正确的，这个区间的相对频率为（23/60）×100=38.33%。 C是\n",
       "不正确的，最后一个区间的累积相对频率必须等于100%。"
      ],
      "text/plain": [
       "<IPython.core.display.Markdown object>"
      ]
     },
     "metadata": {},
     "output_type": "display_data"
    },
    {
     "name": "stdout",
     "output_type": "stream",
     "text": [
      "Book Label: level1_数量\n",
      "--------------------------------------------------\n",
      "ID: 3181\n"
     ]
    },
    {
     "data": {
      "text/markdown": [
       "Explanation: ： C is correct. The median of Portfolio R is 0.8% higher than the mean for\n",
       "Portfolio R. ： 三种投资组合的年度收益如表中信息所示。投资组合P和R在第一年创建，投资组合Q在第二\n",
       "年创建。问的是2013年投资组合创造的年收益率中位数是多少。C组合R的中位数比组合R的平均值高0.8%。"
      ],
      "text/plain": [
       "<IPython.core.display.Markdown object>"
      ]
     },
     "metadata": {},
     "output_type": "display_data"
    },
    {
     "name": "stdout",
     "output_type": "stream",
     "text": [
      "Book Label: level1_数量\n",
      "--------------------------------------------------\n",
      "ID: 3182\n"
     ]
    },
    {
     "data": {
      "text/markdown": [
       "Explanation: C is correct. With Bayes’ formula, the probability of the CEO being fired given a\n",
       "“good” rating is\n",
       "where\n",
       "P(A) = 0.05 = probability of the CEO being fired\n",
       "P(B) = 0.50 = probability of a “good” rating\n",
       "P(B | A) = 0.30 = probability of a “good” rating given that the CEO is fired\n",
       "With these estimates, the probability of the CEO being fired given a “good” rating is\n",
       " \n",
       "Although 5% of all CEOs are fired, the probability of being fired given a “good” performance\n",
       "rating is 3%.. C正确。题目考察的就是贝叶斯公式的运用。 根据题意可知： CEO被解雇的概率：P(A) =\n",
       "0.05 CEO有“好”业绩表现的概率为：P(B) = 0.50 在给定被解雇的前提下CEO有“好”业绩表现的概率为\n",
       "：P(B |A) = 0.30 那么，根据贝叶斯公式，在CEO有“好”业绩表现的前提下，被解雇的概率：\n",
       " $$\n",
       "P(A \\mid B) = \\frac{P(B \\mid A)P(A)}{P(B)}\n",
       "$$\n",
       "\n",
       "$$\n",
       "P(A \\mid B) = \\frac{P(B \\mid A)P(A)}{P(B)} = \\frac{0.30}{0.50} \\times 0.05 = 0.03\n",
       "$$"
      ],
      "text/plain": [
       "<IPython.core.display.Markdown object>"
      ]
     },
     "metadata": {},
     "output_type": "display_data"
    },
    {
     "name": "stdout",
     "output_type": "stream",
     "text": [
      "Book Label: level1_数量\n",
      "--------------------------------------------------\n",
      "ID: 3185\n"
     ]
    },
    {
     "data": {
      "text/markdown": [
       "Explanation: C is correct, as shown in the following (where FV is future value and PV is present\n",
       "value):\n",
       " \n",
       "C正确。 FV=PV*(1＋rs/m)^(m*N) 500,000*(1＋EAR)^6=800,000 求得EAR=8.148375%，选择ABC中EAR与之最\n",
       "接近的。 A中EAR=e^7.5%-1=7.7884% BAII Plus计算器，2ND 2页面下，2ND CE/C清楚历史记录，分别求：\n",
       "B中的EAR：NOM=7.7，C/Y=365，CPT EFF=8.003331（计算结果没有带%） C中的EAR：NOM=8，C/Y=2，CPT\n",
       "EFF=8.16（计算结果没有带%）\n",
       " If:\n",
       "$$\n",
       "FV_N = PV \\left(1 + \\frac{r_s}{m}\\right)^{mN}\n",
       "$$\n",
       "\n",
       "Then:\n",
       "$$\n",
       "\\left( \\frac{FV_N}{PV} \\right)^{\\frac{1}{mN}} - 1 = \\frac{r_s}{m}\n",
       "$$\n",
       "\n",
       "$$\n",
       "\\left( \\frac{800,000}{500,000} \\right)^{\\frac{1}{2 \\times 6}} - 1 = \\frac{r_s}{2}\n",
       "$$\n",
       "\n",
       "$$\n",
       "r_s = 0.07988 \\text{ (rounded to 8.0%).}\n",
       "$$"
      ],
      "text/plain": [
       "<IPython.core.display.Markdown object>"
      ]
     },
     "metadata": {},
     "output_type": "display_data"
    },
    {
     "name": "stdout",
     "output_type": "stream",
     "text": [
      "Book Label: level1_数量\n",
      "--------------------------------------------------\n",
      "ID: 3186\n"
     ]
    },
    {
     "data": {
      "text/markdown": [
       "Explanation: C is correct. The interquartile range is the difference between 114.25 and 79.74,\n",
       "which is 34.51.interquartile，四分位间距，指的是除去两端的四分之一的数据 ，即第三四分位数和第一\n",
       "四分位数之间的差距。根据题目中显示的信息，第三四分位数是114.25，第一四分位数是79.74，那么二者之\n",
       "间的差距为：114.25-79.74=34.51。故选项C是正确选项"
      ],
      "text/plain": [
       "<IPython.core.display.Markdown object>"
      ]
     },
     "metadata": {},
     "output_type": "display_data"
    },
    {
     "name": "stdout",
     "output_type": "stream",
     "text": [
      "Book Label: level1_数量\n",
      "--------------------------------------------------\n",
      "ID: 3188\n"
     ]
    },
    {
     "data": {
      "text/markdown": [
       "Explanation: ： A is correct. The harmonic mean is appropriate for determining the average price\n",
       "per unit. It is calculated by summing the reciprocals of the prices, then averaging that sum by\n",
       "dividing by the number of prices, then taking the reciprocal of the average: 4/[(1/62.00) +\n",
       "(1/76.00) + (1/84.00) + (1/90.00)] = €76.48. ： A正确。调和平均数适用于确定每一单位的平均价格\n",
       "。它的计算方法是将价格的倒数相加;然后除以价格的平均数;最后，取平均值的倒数。 4/[(1/62.00)\n",
       "(1/76.00) (1/84.00) (1/90.00)] = €76.48."
      ],
      "text/plain": [
       "<IPython.core.display.Markdown object>"
      ]
     },
     "metadata": {},
     "output_type": "display_data"
    },
    {
     "name": "stdout",
     "output_type": "stream",
     "text": [
      "Book Label: level1_数量\n",
      "--------------------------------------------------\n",
      "ID: 3189\n"
     ]
    },
    {
     "data": {
      "text/markdown": [
       "Explanation: Observers：8 10 12 13 15 17 17 18 19 23 24,\n",
       "N=11，\n",
       "i.e. the 9th number is 75%， The third quartiles =19.\n",
       "\n",
       "$$\n",
       "L_y = (n+1) \\times (y/100)\n",
       "$$\n",
       "\n",
       "$$\n",
       "N = 11,\n",
       "$$\n",
       "\n",
       "$$\n",
       "L_y = (11+1) \\times 75\\% = 9\n",
       "$$\n",
       "\n",
       "i.e. the 9th number is 75%, The third quartiles =19."
      ],
      "text/plain": [
       "<IPython.core.display.Markdown object>"
      ]
     },
     "metadata": {},
     "output_type": "display_data"
    },
    {
     "name": "stdout",
     "output_type": "stream",
     "text": [
      "Book Label: level1_数量\n",
      "--------------------------------------------------\n",
      "ID: 3190\n"
     ]
    },
    {
     "data": {
      "text/markdown": [
       "Explanation: A正确。平均绝对偏差(MAD)运用其公式。 第1列:将年收益相加，除以n，得到算术平均值为\n",
       "16.40%。第2栏:计算第1栏中每年回报率与平均值之差的绝对值。对结果求和，然后除以n得到MAD。\n",
       " A is correct. The formula for mean absolute deviation (MAD) is \n",
       "\n",
       "$$\n",
       "MAD = \\frac{\\sum_{i=1}^{n} |X_i - \\bar{X}|}{n}\n",
       "$$\n",
       "\n",
       "Column 1: Sum annual returns and divide by $n$ to find the arithmetic mean ($\\bar{X}$) of 16.40%.\n",
       "\n",
       "Column 2: Calculate the absolute value of the difference between each year's return and the mean from Column 1. Sum the results and divide by $n$ to find the MAD."
      ],
      "text/plain": [
       "<IPython.core.display.Markdown object>"
      ]
     },
     "metadata": {},
     "output_type": "display_data"
    },
    {
     "name": "stdout",
     "output_type": "stream",
     "text": [
      "Book Label: level1_数量\n",
      "--------------------------------------------------\n",
      "ID: 3191\n"
     ]
    },
    {
     "data": {
      "text/markdown": [
       "Explanation: B is correct. To solve for the future value of unequal cash flows, compute the\n",
       "future value of each payment as of Year 4 at the semiannual rate of 2%, and then sum the\n",
       "individual future values, as follows:\n",
       " 第一步：求EAR： BAII Plus计算器，2ND＋2页面下，2ND＋CE/C清楚历史记录，NOM=4，C/Y=2，CPT\n",
       "EFF=4.04 第二步：分别求4笔现金流： PV=-4,000，N=3，I/Y=4.04，PMT=0，CPT FV=4,504.65 PV=-\n",
       "8,000，N=2，I/Y=4.04，PMT=0，CPT FV=8,659.46 PV=-7,000，N=1，I/Y=4.04，PMT=0，CPT FV=7,282.80\n",
       "PV=-10,000，N=0，I/Y=4.04，PMT=0，CPT FV=10,000.00 第三步：将4个FV加总得到30,446.91。 视频和对\n",
       "比，补充： 两种方式（半年的4%/2和年的EAR）都可以，原因是“PMT=0”，现金流为0，N和I/Y只要匹配\n",
       "，按照“年”还是“半年”为单位计算无所谓，结果是相同的。求第一个时间点4000的FV：PV=-\n",
       "4,000，N=3，I/Y=4.04，PMT=0，CPT FV=4,504.65PV=-4,000，N=6，I/Y=4/2=2，PMT=0，CPT FV=4,504.65理\n",
       "解“匹配”：使用正确的利率需要用到一个“匹配”的思想，意味着现金流发生的时间间隔，对应着利率期\n",
       "限，例如按照每一个月发生的CF，我们应该用月利率对CF折现。\n",
       " These calculations are shown in the following exhibit:\n",
       "\n",
       "\\[\n",
       "\\begin{array}{cc|cc}\n",
       "\\text{Year} & \\text{Return} & \\left| X_i - \\bar{X} \\right| \\\\\n",
       "\\hline\n",
       "\\text{Year 6} & 30.79\\% & 14.39\\% \\\\\n",
       "\\text{Year 7} & 12.34\\% & 4.06\\% \\\\\n",
       "\\text{Year 8} & -5.02\\% & 21.42\\% \\\\\n",
       "\\text{Year 9} & 16.54\\% & 0.14\\% \\\\\n",
       "\\text{Year 10} & 27.37\\% & 10.97\\% \\\\\n",
       "\\hline\n",
       "\\text{Sum:} & 82.02\\% & \\text{Sum:} & 50.98\\% \\\\\n",
       "n & 5 & n & 5 \\\\\n",
       "\\bar{X} & 16.40\\% & \\text{MAD:} & 10.20\\%\n",
       "\\end{array}\n",
       "\\]\n",
       "\n",
       "\\[\n",
       "\\begin{array}{cccc}\n",
       "\\text{Year} & \\text{End of Year Deposits (\\$)} & \\text{Factor} & \\text{Future Value (\\$)} \\\\\n",
       "\\hline\n",
       "1 & 4,000 & (1.02)^6 & 4,504.65 \\\\\n",
       "2 & 8,000 & (1.02)^4 & 8,659.46 \\\\\n",
       "3 & 7,000 & (1.02)^2 & 7,282.80 \\\\\n",
       "4 & 10,000 & (1.02)^0 & 10,000.00 \\\\\n",
       "\\hline\n",
       "& \\text{Sum =} & & 30,446.91\n",
       "\\end{array}\n",
       "\\]"
      ],
      "text/plain": [
       "<IPython.core.display.Markdown object>"
      ]
     },
     "metadata": {},
     "output_type": "display_data"
    },
    {
     "name": "stdout",
     "output_type": "stream",
     "text": [
      "Book Label: level1_数量\n",
      "--------------------------------------------------\n",
      "ID: 3192\n"
     ]
    },
    {
     "data": {
      "text/markdown": [
       "Explanation: A is correct. The answer is found using the combination formula\n",
       "Here, n = 4 and r = 2, so the answer is 4!/[(4 – 2)!2!] = 24/[(2) × (2)] = 6. This result can\n",
       "be verified by assuming there are four vice presidents, VP1–VP4. The six possible additions to\n",
       "the investment committee are VP1 and VP2, VP1 and VP3, VP1 and VP4, VP2 and VP3, VP2 and VP4,\n",
       "and VP3 and VP4.. A正确。 使用组合公式:n = 4 r = 2，所以答案是4!/ ((4 - 2),2 != 24/[(2)×(2)]=\n",
       "6。这个结果可以通过假设有四个副总裁来验证，VP1到VP4。 选两个加入到委员会中，那么投资委员会可能\n",
       "增加的成员将有以下6种组合，分别是:VP1和VP2、VP1和VP3、VP1和VP4、VP2和VP3、VP2和VP4、VP3和VP4。\n",
       " $$\n",
       "nC_r = \\binom{n}{r} = \\frac{n!}{(n-r)!r!}\n",
       "$$"
      ],
      "text/plain": [
       "<IPython.core.display.Markdown object>"
      ]
     },
     "metadata": {},
     "output_type": "display_data"
    },
    {
     "name": "stdout",
     "output_type": "stream",
     "text": [
      "Book Label: level1_数量\n",
      "--------------------------------------------------\n",
      "ID: 3196\n"
     ]
    },
    {
     "data": {
      "text/markdown": [
       "Explanation: B is correct, as shown in the following calculation for an annuity (A) due:\n",
       " $$\n",
       "PV = A \\left[ \\frac{1 - \\frac{1}{(1 + r)^N}}{r} \\right] (1 + r)\n",
       "$$\n",
       "\n",
       "where $A = €300$, $r = 0.04$, and $N = 5$.\n",
       "\n",
       "$$\n",
       "PV = €300 \\left[ \\frac{1 - \\frac{1}{(1 + .04)^5}}{.04} \\right] (1.04)\n",
       "$$\n",
       "\n",
       "$$\n",
       "PV = €1,388.97, \\text{ or } \\approx €1,389.\n",
       "$$"
      ],
      "text/plain": [
       "<IPython.core.display.Markdown object>"
      ]
     },
     "metadata": {},
     "output_type": "display_data"
    },
    {
     "name": "stdout",
     "output_type": "stream",
     "text": [
      "Book Label: level1_数量\n",
      "--------------------------------------------------\n",
      "ID: 3209\n"
     ]
    },
    {
     "data": {
      "text/markdown": [
       "Explanation: To derive the standard error of the forecast (s<sub>f</sub>), we first have to\n",
       "calculate the variation of RDR. Then, we have the all the pieces to calculate s<sub>f:</sub>\n",
       " 题目中告诉我们，standard error of the estimate，也就是SEE =se= 1.8618987 根据基础班讲义中的\n",
       "Sf的公式，如下图，因此，只需要计算出根号部分的数值后，带入SEE即可求出Sf 题目中还告诉了variance\n",
       "of RDR=[∑(Xi－X拔 )^2 ]/(n-1)=4.285714，n=8，因此可以得出：∑(Xi－X拔 )^2=4.285714×7=30所以\n",
       "Sf=1.8618987×根号下（1＋1/8＋(5-7.5)^2/30）=1.8618987×1.154701=2.149936 \n",
       " ```\n",
       "Exhibit 9    Details of Calculation of Slope of NPM Regressed on RDR\n",
       "\n",
       "\\begin{array}{ccccccccc}\n",
       "\\hline\n",
       "\\text{Company} & \\text{NPM} & \\text{RDR} & (Y_i - \\bar{Y}) & (X_i - \\bar{X}) & (Y_i - \\bar{Y})^2 & (X_i - \\bar{X})^2 & (X_i - \\bar{X})(Y_i - \\bar{Y}) \\\\\n",
       "               & (\\%) (Y_i) &  (\\%) (X_i)\\\\\n",
       " \\hline\n",
       "  1 & 4 & 8 & -2.8 & 0.5 & 7.5625 & 0.25 & -1.375 \\\\\n",
       "  2 & 6 & 10 &  -1.8 & 2.5 & 3.0625 & 6.25 & -4.375 \\\\\n",
       "  3 & 10 & 6 & 3.3 & -1.5 & 10.5625 & 2.25 & -4.875 \\\\\n",
       "  4 & 9 & 5 & 2.3 & -2.5 & 5.0625 & 6.25 & -5.625 \\\\\n",
       "  5 & 5 & 7 & -1.8 & -0.5 & 3.0625 & 0.25 & 0.875 \\\\\n",
       "  6 & 4 & 6 & -2.8 & -1.5 & 7.5625 & 2.25 & 4.125 \\\\\n",
       "  7 & 12 & 5.3 & 5.3 & -2.2 & 27.5625 & 6.25 & -13.125 \\\\\n",
       "  8 & 3 & 10 & -3.8 & 2.5 & 14.0625 & 6.25 & -9.375 \\\\\n",
       "  \\hline\n",
       "  \\text{Sum} & 54.0 & 60.0 & 0.0 & 0.0 & 71.5000 & 30.00 & -39.0 \\\\\n",
       "  \\text{Average} & 6.75 & 7.5\\\\\n",
       "  \\hline\n",
       "\\end{array}\n",
       "\n",
       "$$\n",
       "\\sum_{i=1}^{n} (X_i - \\bar{X})^2 = 4.285714 \\times 7 = 30.\n",
       "$$\n",
       "\n",
       "$$\n",
       "s_f = 1.8618987 \\sqrt{1 + \\frac{1}{8} + \\frac{(5 - 7.5)^2}{30}} = 2.1499.\n",
       "$$\n",
       "```"
      ],
      "text/plain": [
       "<IPython.core.display.Markdown object>"
      ]
     },
     "metadata": {},
     "output_type": "display_data"
    },
    {
     "name": "stdout",
     "output_type": "stream",
     "text": [
      "Book Label: level1_数量\n",
      "--------------------------------------------------\n",
      "ID: 3213\n"
     ]
    },
    {
     "data": {
      "text/markdown": [
       "Explanation: B is correct.The estimate of the standard error of the sample mean with bootstrap\n",
       "resampling is calculated as follows:\n",
       " B是正确的。 在bootstrapping中，它的步骤是这样的：1.从总体中随机抽取n个数作为样本，把这个样本集\n",
       "（sample）视为“（新）总体”；2.从（新）总体中，抽取第一个样本后放回，再抽取第二个再放回，以此\n",
       "类推，重复n次；重复抽样形成第一个样本集1（样本容量和新总体相同，均为n）3.不断重复第二步，形成\n",
       "B个样本集（样本1，样本2……样本B）；4.计算每一个样本集的均值X拔（共B个），并计算所有B个样本均值\n",
       "的均值E(X拔)。5.计算B个样本均值的标准差，即估计量的标准误，公式如下图。 从上述过程看出：从总体\n",
       "中抽取得到的sample 当做一个新的总体，那么sample mean就是样本，对样本求标准差，带入的是样本方差\n",
       "的计算公式然后开根号即可，计算出的就是题目要求解的答案。故，此时样本平均值的标准误差估计值，带\n",
       "入公式计算如下图：\n",
       " $$\n",
       "s_{\\bar{X}} = \\sqrt{\\frac{1}{B-1} \\sum_{b=1}^{B} (\\hat{,}^{b} - \\bar{,})^2} = \\sqrt{\\frac{1}{200-1} \\sum_{b=1}^{200} (\\hat{,}^{b} - 0.0261)^2} = \\sqrt{\\frac{1}{199} \\times 0.835}\n",
       "$$\n",
       "\n",
       "$$\n",
       "s_{\\bar{X}} = 0.0648\n",
       "$$"
      ],
      "text/plain": [
       "<IPython.core.display.Markdown object>"
      ]
     },
     "metadata": {},
     "output_type": "display_data"
    },
    {
     "name": "stdout",
     "output_type": "stream",
     "text": [
      "Book Label: level1_数量\n",
      "--------------------------------------------------\n",
      "ID: 3219\n"
     ]
    },
    {
     "data": {
      "text/markdown": [
       "Explanation: B is correct. Taking the square root of the known population variance to determine\n",
       "the population standard deviation (σ) results in:\n",
       "The formula for the standard error of the sample mean (σX), based on a known sample size (n),\n",
       "is:\n",
       " B正确。 已知的总体方差的平方根来确定总体标准偏差(σ)结果: σ= 2.45^0.5=1.565 样本均值的标准误\n",
       "差的公式(σx),基于已知样本大小(n),是: σx=σ/(n^0.5) 因此, σx=1.565/(40^0.5) =0.247 \n",
       " $$\n",
       "\\sigma = \\sqrt{2.45} = 1.565\n",
       "$$\n",
       "\n",
       "$$\n",
       "\\sigma_X = \\frac{\\sigma}{\\sqrt{n}}\n",
       "$$\n",
       "\n",
       "Therefore,\n",
       "\n",
       "$$\n",
       "\\sigma_X = \\frac{1.565}{\\sqrt{40}} = 0.247\n",
       "$$"
      ],
      "text/plain": [
       "<IPython.core.display.Markdown object>"
      ]
     },
     "metadata": {},
     "output_type": "display_data"
    },
    {
     "name": "stdout",
     "output_type": "stream",
     "text": [
      "Book Label: level1_数量\n",
      "--------------------------------------------------\n",
      "ID: 3222\n"
     ]
    },
    {
     "data": {
      "text/markdown": [
       "Explanation: A is correct. Only the top node value of $219.9488 exceeds $200.\n",
       " A正确。只有顶部节点值$219.9488超过$200。\n",
       " ```plaintext\n",
       "\\$\n",
       "\\$\n",
       "\\$190.0000\\$ \\rightarrow \\$199.5000\\$ \\rightarrow \\$209.4750\\$\n",
       "                                     \\rightarrow \\$189.5250\\$\n",
       "                      \\rightarrow \\$180.5000\\$ \\rightarrow \\$171.4750\\$\n",
       "\n",
       "\\$\n",
       "\\$\n",
       "                            \\$190.0000\\$ \\rightarrow \\$199.5000\\$ \\rightarrow \\$209.4750\\$ \\rightarrow \\$219.9488\\$\n",
       "                                           \\rightarrow \\$189.5250\\$ \\rightarrow \\$199.0013\\$\n",
       "                                                                   \\rightarrow \\$180.0488\\$\n",
       "  \\$190.0000\\$ \\rightarrow \\$180.5000\\$ \\rightarrow \\$171.4750\\$ \\rightarrow \\$162.9013\\$\n",
       "\\$\n",
       "\\$\n",
       "```\n"
      ],
      "text/plain": [
       "<IPython.core.display.Markdown object>"
      ]
     },
     "metadata": {},
     "output_type": "display_data"
    },
    {
     "name": "stdout",
     "output_type": "stream",
     "text": [
      "Book Label: level1_数量\n",
      "--------------------------------------------------\n",
      "ID: 3228\n"
     ]
    },
    {
     "data": {
      "text/markdown": [
       "Explanation: A is correct. To solve, use the structure of Confidence interval = Point estimate\n",
       "± Reliability factor × Standard error, which, for a normally distributed population with\n",
       "known variance, is represented by the following formula:\n",
       " A正确。 置信区间=点估计±置信因子×标准误差，对于方差已知的正态分布总体，置信区间为: 样本均值\n",
       "±Z(a/2)*σ/(n^0.5) 在99%置信区间下，用z(0.005) = 2.58。 同时,σ= 529^0.5 = 23。 因此，下限=\n",
       "31-2.58*23/(65^0.5)=23.6398\n",
       " $$\n",
       "\\bar{X} \\pm z_{\\alpha/2} \\frac{\\sigma}{\\sqrt{n}}\n",
       "$$\n",
       "\n",
       "For a 99% confidence interval, use $z_{0.005} = 2.58$.\n",
       "\n",
       "Also, $\\sigma = \\sqrt{529} = 23$.\n",
       "\n",
       "Therefore, the lower limit $= 31 - 2.58 \\frac{23}{\\sqrt{65}} = 23.6398$."
      ],
      "text/plain": [
       "<IPython.core.display.Markdown object>"
      ]
     },
     "metadata": {},
     "output_type": "display_data"
    },
    {
     "name": "stdout",
     "output_type": "stream",
     "text": [
      "Book Label: level1_数量\n",
      "--------------------------------------------------\n",
      "ID: 3234\n"
     ]
    },
    {
     "data": {
      "text/markdown": [
       "Explanation: A is correct. The calculated test statistic is\n",
       "Because the value of t = －2.30177 is outside the bounds of ±1.96, we reject the null\n",
       "hypothesis of no correlation and conclude that there is enough evidence to indicate that the\n",
       "correlation is different from zero. 计算出检验统计量是： t=[r(n-2)^0.5]/[(1-r^2)]=[-0.1452(248-\n",
       "2)^0.5]/{[(1-(-0.1452)^2)]^0.5}=-2.30177 由于t = -2.30177的绝对值大于1.96，故相关系数具有统计学\n",
       "意义。\n",
       " $$\n",
       "t = \\frac{r \\sqrt{n - 2}}{\\sqrt{1 - r^2}}\n",
       "$$\n",
       "\n",
       "$$\n",
       "= \\frac{-0.1452 \\sqrt{248 - 2}}{\\sqrt{1 - (-0.1452)^2}} = -2.30177\n",
       "$$"
      ],
      "text/plain": [
       "<IPython.core.display.Markdown object>"
      ]
     },
     "metadata": {},
     "output_type": "display_data"
    },
    {
     "name": "stdout",
     "output_type": "stream",
     "text": [
      "Book Label: level1_数量\n",
      "--------------------------------------------------\n",
      "ID: 3235\n"
     ]
    },
    {
     "data": {
      "text/markdown": [
       "Explanation: ： A is correct. The chance of a negative return falls in the area to the left of\n",
       "0% under a standard normal curve. By standardizing the returns and standard deviations of the\n",
       "two assets, the likelihood of either asset experiencing a negative return may be determined: Z-\n",
       "score (standardized value) = (X – μ)/σ Z-score for a bond return of 0% = (0 – 2)/5 =\n",
       "–0.40. Z-score for a stock return of 0% = (0 – 10)/15 = –0.67. For bonds, a 0% return falls\n",
       "0.40 standard deviations below the mean return of 2%. In contrast, for stocks, a 0% return\n",
       "falls 0.67 standard deviations below the mean return of 10%. A standard deviation of 0.40 is\n",
       "less than a standard deviation of 0.67. Negative returns thus occupy more of the left tail of\n",
       "the bond distribution than the stock distribution. Thus, bonds are more likely than stocks to\n",
       "experience a negative return. ： A正确。 在标准正态曲线下，落在0%左侧的区域代表的是负收益。通过\n",
       "标准化两个资产的回报和标准差，资产收益为负回报的可能性可能决定：z分数(标准化值)= (X -μ)/σ 债\n",
       "券收益率为0%的z值=(0 - 2)/5 = - 0.40。 股票收益率为0%的z值=(0 - 10)/15 = - 0.67。 对于债券来说\n",
       "，0%的回报率比2%的平均回报率低0.40个标准差。相比之下，对于股票来说，0%的回报率比10%的平均回报率\n",
       "低0.67个标准差。0.40的标准差小于0.67的标准差。因此，相比于股票，负收益占据了债券左尾更多的分布\n",
       "面积。因此，债券比股票更有可能出现负回报。"
      ],
      "text/plain": [
       "<IPython.core.display.Markdown object>"
      ]
     },
     "metadata": {},
     "output_type": "display_data"
    },
    {
     "name": "stdout",
     "output_type": "stream",
     "text": [
      "Book Label: level1_数量\n",
      "--------------------------------------------------\n",
      "ID: 3236\n"
     ]
    },
    {
     "data": {
      "text/markdown": [
       "Explanation: Roy's safety-first criterion states that the optimal portfolio minimizes the\n",
       "probability that the return of the portfolio falls below some minimum acceptable level. This\n",
       "minimum acceptable level is called the \"threshold\" level. Symbolically, Roy's safety-first\n",
       "criterion can be stated as: Maximize the SFR where Where:\n",
       " \n",
       " \n",
       " 罗伊第一安全比率指出，最优投资组合将投资组合的回报率降至某个最小可接受水平以下的概率最小化（最\n",
       "小化P（R<=RL）。 这个最小可接受的收益率称为“阈值”收益率（RL）。罗伊的安全第一标准可以表述为\n",
       "：最大化SFR，其中：\n",
       " \n",
       "\n",
       "$R_p = portfolio \\, return$\n",
       "\n",
       "$$\n",
       "R_L = \\frac{8000}{89000} = 8.99\\%\n",
       "$$\n",
       "\n",
       "$$\n",
       "SFR = \\left(\\frac{12\\% - 8.99\\%}{0.0125^{1/2}}\\right) = \\frac{0.0301}{0.1118} = 0.269\n",
       "$$"
      ],
      "text/plain": [
       "<IPython.core.display.Markdown object>"
      ]
     },
     "metadata": {},
     "output_type": "display_data"
    },
    {
     "name": "stdout",
     "output_type": "stream",
     "text": [
      "Book Label: level1_数量\n",
      "--------------------------------------------------\n",
      "ID: 3238\n"
     ]
    },
    {
     "data": {
      "text/markdown": [
       "Explanation: C is correct. The probability that the performance is at or below the expectation\n",
       "is calculated by finding F(3) = p(3) + p(2) + p(1) using the formula:\n",
       "Therefore, F(3) = p(3) + p(2) + p(1) + p(0) = 0.42 + 0.20 + 0.06 + 0.004 = 0.684 or\n",
       "approximately 68 percent C正确。 这题问：1年中，有小于等于三个季度，股票表现好于市场的概率。1个\n",
       "季度两种情况，相当于做了伯努利实验；1年4个季度，相当于4次试验，此时服从二项分布，所以这个就是二\n",
       "项分布的计算。包括4种情况，第一，1年中没有任何一个季度股票表现好于市场，P（0）第二，1年中有1个\n",
       "季度股票表现高于市场，P（1）第三，1年中有2个季度股票表现高于市场，P（2）第四，1年中有3个季度股\n",
       "票表现高于市场，P（3）通过计算F(3) = p(3)＋ p(2)＋p(1) p(0)，可以计算出性能达到或低于预期的概率\n",
       ": 解法1： 通过计算F(3) = p(3)＋ p(2)＋p(1) p(0)，可以计算出性能达到或低于预期的概率:\n",
       "P(x)=P(X=x)=[n!/(n-x)!x!](p^x)[(1-p)^(n-x)] 使用这个公式, P(3)= [4!/(4-3)!3!](0.75^3)[(1-\n",
       "0.75)^(4-3)]=[24/6](0.42)(0.25)=0.42 P(2)= [4!/(4-2)!2!](0.75^2)[(1-0.75)^(4-\n",
       "2)]=[24/4](0.56)(0.06)=0.20 P(1)= [4!/(4-1)!1!](0.75^1)[(1-0.75)^(4-1)]=[24/6](0.75)(0.02)=0.06\n",
       "P(0)= [4!/(4-0)!0!](0.75^0)[(1-0.75)^(4-0)]=[24/24](1)(0.004)=0.004 因此，F(3) = p(3)＋ p(2)＋\n",
       "p(1)＋ p(0) = 0.42＋ 0.20＋ 0.06＋ 0.004 = 0.684，约为68%。 解法2： P(4)= [4!/(4-\n",
       "4)!4!](0.75^4)[(1-0.75)^(4-4)]=0.31640625 F(3)=1-P(4)=1-0.31640625=0.68359375\n",
       " $$\n",
       "p(x) = P(X = x) = \\binom{n}{x} p^x (1 - p)^{n - x} = \\frac{n!}{(n - x)! x!} p^x (1 - p)^{n - x}\n",
       "$$\n",
       "\n",
       "Using this formula,\n",
       "\n",
       "$$\n",
       "p(3) = \\frac{4!}{(4 - 3)! 3!} 0.75^3 (1 - 0.75)^{4 - 3} = [\\frac{24}{6}](0.42)(0.25) = 0.42\n",
       "$$\n",
       "\n",
       "$$\n",
       "p(2) = \\frac{4!}{(4 - 2)! 2!} 0.75^2 (1 - 0.75)^{4 - 2} = [\\frac{24}{4}](0.56)(0.06) = 0.20\n",
       "$$\n",
       "\n",
       "$$\n",
       "p(1) = \\frac{4!}{(4 - 1)! 1!} 0.75^1 (1 - 0.75)^{4 - 1} = [\\frac{24}{6}](0.75)(0.02) = 0.06\n",
       "$$\n",
       "\n",
       "$$\n",
       "p(0) = \\frac{4!}{(4 - 0)! 0!} 0.75^0 (1 - 0.75)^{4 - 0} = [\\frac{24}{24}](1)(0.004) = 0.004\n",
       "$$"
      ],
      "text/plain": [
       "<IPython.core.display.Markdown object>"
      ]
     },
     "metadata": {},
     "output_type": "display_data"
    },
    {
     "name": "stdout",
     "output_type": "stream",
     "text": [
      "Book Label: level1_数量\n",
      "--------------------------------------------------\n",
      "ID: 3243\n"
     ]
    },
    {
     "data": {
      "text/markdown": [
       "Explanation: B is correct. Allocation B has the highest safety-first ratio. The threshold return\n",
       "level RL for the portfolio is ￡90,000/￡2,000,000 = 4.5%, thus any return less than RL = 4.5%\n",
       "will invade the portfolio principal. To compute the allocation that is safety-first optimal,\n",
       "select the alternative with the highest ratio:\n",
       " B正确。 投资组合B的安全第一比率最高。投资组合的门槛收益率为￡90,000/￡2,000,000 = 4.5%，因此任\n",
       "何低于RL = 4.5%的收益率都会影响到投资组合的本金。要计算安全第一的最优配置，选择比率最高的值:\n",
       "Allocation A = (6.5-4.5)/8.35= 0.240 Allocation B = (7.5=4.5)/10.21= 0.294 Allocation C = (8.5-\n",
       "4.5)/14.34= 0.279 \n",
       " $$\n",
       "\\frac{E(R_P - R_L)}{\\sigma_P}\n",
       "$$\n",
       "\n",
       "Allocation A = $\\frac{6.5 - 4.5}{8.35} = 0.240$\n",
       "\n",
       "Allocation B = $\\frac{7.5 - 4.5}{10.21} = 0.294$\n",
       "\n",
       "Allocation C = $\\frac{8.5 - 4.5}{14.34} = 0.279$"
      ],
      "text/plain": [
       "<IPython.core.display.Markdown object>"
      ]
     },
     "metadata": {},
     "output_type": "display_data"
    },
    {
     "name": "stdout",
     "output_type": "stream",
     "text": [
      "Book Label: level1_数量\n",
      "--------------------------------------------------\n",
      "ID: 3252\n"
     ]
    },
    {
     "data": {
      "text/markdown": [
       "Explanation: ： A is correct. The continuously compounded return of an asset over a period is\n",
       "equal to the natural log of period’s change. In this case: ln(120/112) = 6.90% ： A正确。 资产\n",
       "在一段时期内的连续复利收益等于期间变化的自然对数。在这种情况下: ln (120/112) = 6.90%\n",
       " ```\n",
       "\\begin{tabular}{|l|c|}\n",
       "\\hline\n",
       "\\textbf{Date} & \\textbf{Closing Price (€)} \\\\\n",
       "\\hline\n",
       "1 August & 112 \\\\\n",
       "8 August & 160 \\\\\n",
       "15 August & 120 \\\\\n",
       "\\hline\n",
       "\\end{tabular}\n",
       "```"
      ],
      "text/plain": [
       "<IPython.core.display.Markdown object>"
      ]
     },
     "metadata": {},
     "output_type": "display_data"
    },
    {
     "name": "stdout",
     "output_type": "stream",
     "text": [
      "Book Label: level1_数量\n",
      "--------------------------------------------------\n",
      "ID: 3257\n"
     ]
    },
    {
     "data": {
      "text/markdown": [
       "Explanation: A is correct.The calculated t-statistic value of 0.4893 falls within the bounds of\n",
       "the critical t-values of ±1.984. Thus, H0 cannot be rejected; the result is not statistically\n",
       "significant at the 0.05 level. A正确。 0.4893这个t统计量不落在临界值之间的拒绝区域(≤-1.984或>\n",
       "1.984)。相反，它落在接受区域之内。因此，Ho不能被拒绝；结果在0.05显著性水平下不显著。"
      ],
      "text/plain": [
       "<IPython.core.display.Markdown object>"
      ]
     },
     "metadata": {},
     "output_type": "display_data"
    },
    {
     "name": "stdout",
     "output_type": "stream",
     "text": [
      "Book Label: level1_数量\n",
      "--------------------------------------------------\n",
      "ID: 3258\n"
     ]
    },
    {
     "data": {
      "text/markdown": [
       "Explanation: B is correct. To calculate the probability of 4 years of outperformance, use the\n",
       "formula:\n",
       " \n",
       "Using this formula to calculate the probability in 4 of 5 years, n = 5, x = 4 and p =\n",
       "0.60.Therefore,\n",
       "The probability of outperforming 4 or more times is p(4) + p(5) = 0.2592 + 0.0778 = 0.3370 B正\n",
       "确。 要计算4年的均是优越表现的概率，可以使用以下公式: P(x)=P(X=x)=[n!/(n-x)!x!](p^x)[(1-p)^(n-\n",
       "x)] 用这个公式计算5年内4次优越的概率，n = 5, x = 4, p = 0.60。 因此, P(4)= [5!/(5-\n",
       "4)!4!](0.6^4)[(1-0.6)^(5-4)]=[120/24](0.1296)(0.40)=0.2592 P(5)= [5!/(5-5)!5!](0.6^5)[(1-\n",
       "0.6)^(5-5)]=[120/120](0.0778)(1)=0.0778 超过4次或4次以上的概率是p(4)＋p(5) = 0.2592＋ 0.0778 =\n",
       "0.3370 补充计算器按键步骤： 以：P(4)= [5!/(5-4)!4!](0.6^4)[(1-0.6)^(5-\n",
       "4)]=[120/24](0.1296)(0.40)=0.2592 为例 每个部分依次按（其中“ ”表示两个按键的连接并不是“加号\n",
       "”）： 1.5!/(5-4)!4!]：“5” “2ND” “ ” “4” “=”得出5 2.(0.6^4)：“0.6” “yx” “4”得出\n",
       "0.12960 3.[(1-0.6)^(5-4)]：“1” “-“ ”0.6” “=” “yx” “1”=0.4 将以上3个部分相乘\n",
       "5x0.12960x0.4=0.25920 \n",
       " $$\n",
       "p(x) = P(X = x) = \\binom{n}{x} p^x (1 - p)^{n-x} = \\frac{n!}{(n - x)! x!} p^x (1 - p)^{n-x}\n",
       "$$\n",
       "\n",
       "$$\n",
       "p(4) = \\frac{5!}{(5 - 4)! 4!} 0.6^4 (1 - 0.6)^{5-4} = [120/24](0.1296)(0.40) = 0.2592\n",
       "$$\n",
       "\n",
       "$$\n",
       "p(5) = \\frac{5!}{(5 - 5)! 5!} 0.6^5 (1 - 0.6)^{5-5} = [120/120](0.0778)(1) = 0.0778\n",
       "$$"
      ],
      "text/plain": [
       "<IPython.core.display.Markdown object>"
      ]
     },
     "metadata": {},
     "output_type": "display_data"
    },
    {
     "name": "stdout",
     "output_type": "stream",
     "text": [
      "Book Label: level1_数量\n",
      "--------------------------------------------------\n",
      "ID: 3336\n"
     ]
    },
    {
     "data": {
      "text/markdown": [
       "Explanation: The solution follows: \n",
       "$$15 \\times 0.992556 + 15 \\times 0.982240 + 1015 \\times 0.967713 = 1,011.85 $$ \n",
       "Therefore, the bond price is approximately $1,011.85."
      ],
      "text/plain": [
       "<IPython.core.display.Markdown object>"
      ]
     },
     "metadata": {},
     "output_type": "display_data"
    },
    {
     "name": "stdout",
     "output_type": "stream",
     "text": [
      "Book Label: Validation and Risk Models1\n",
      "--------------------------------------------------\n",
      "ID: 3348\n"
     ]
    },
    {
     "data": {
      "text/markdown": [
       "Explanation: To obtain the d(1.0) discount factor, first solve for d(0.5). In the equation below, the price for Bond A is equated to its terminal cash flow in six months, which is the principal plus the semiannual coupon of $3.00. 101.182 = 103.00 × d(0.5), d(0.5) = 0.9823. Next use the price and cash flows of Bond B to calculate the d(1.0) discount factor. The cash flow in one year is the principal plus the semiannual coupon of $6.00 and is discounted by d(0.5) and d(1.0). 102.341 = 6.00 × d(0.5) + 106.00 × d(1.0), which gives d(1.0) = 0.9099."
      ],
      "text/plain": [
       "<IPython.core.display.Markdown object>"
      ]
     },
     "metadata": {},
     "output_type": "display_data"
    },
    {
     "name": "stdout",
     "output_type": "stream",
     "text": [
      "Book Label: Validation and Risk Models1\n",
      "--------------------------------------------------\n",
      "ID: 3355\n"
     ]
    },
    {
     "data": {
      "text/markdown": [
       "Explanation: \n",
       "\n",
       "$$\n",
       "100 \\times \\left(1+\\frac{7.5\\%}{2}\\right) \\times d_1 = 102 + \\frac{9}{32}, \\, d_1 = 0.9858\n",
       "$$\n",
       "\n",
       "$$\n",
       "100 \\times \\left(\\frac{12.375\\%}{2}\\right) \\times d_1 + 100 \\times \\left(1+\\frac{12.375\\%}{2}\\right) \\times d_2, \\, d_2 = 0.9546\n",
       "$$\n"
      ],
      "text/plain": [
       "<IPython.core.display.Markdown object>"
      ]
     },
     "metadata": {},
     "output_type": "display_data"
    },
    {
     "name": "stdout",
     "output_type": "stream",
     "text": [
      "Book Label: Validation and Risk Models1\n",
      "--------------------------------------------------\n",
      "ID: 3361\n"
     ]
    },
    {
     "data": {
      "text/markdown": [
       "Explanation: The solution is as follows:\n",
       "\n",
       "$$\n",
       "\\text{1-year forward rate one year from today} = \\frac{1.07^2}{1.045} - 1 = 9.56\\%\n",
       "$$\n",
       "\n",
       "$$\n",
       "\\text{1-year forward rate two years from today} = \\frac{1.09^3}{1.07^2} - 1 = 13.11\\%\n",
       "$$\n",
       "\n",
       "$$\n",
       "\\text{2-year forward rate one year from today} = \\sqrt{ \\frac{1.09^3}{1.045}} - 1 = 11.32\\%\n",
       "$$\n"
      ],
      "text/plain": [
       "<IPython.core.display.Markdown object>"
      ]
     },
     "metadata": {},
     "output_type": "display_data"
    },
    {
     "name": "stdout",
     "output_type": "stream",
     "text": [
      "Book Label: Validation and Risk Models1\n",
      "--------------------------------------------------\n"
     ]
    }
   ],
   "source": [
    "# Select the specified columns\n",
    "text = data[data['Question Type'] == 'text only']\n",
    "textmath = text[text['QA Type'] == 'Math reasoning QA']\n",
    "textKnowledge = text[text['QA Type'] != 'Math reasoning QA']\n",
    "\n",
    "textimage = data[data['Question Type'] != 'text only']\n",
    "textimagemath = textimage[textimage['QA Type'] == 'Math reasoning QA']\n",
    "for index, row in textimagemath[200:].iterrows():\n",
    "    print(f\"ID: {row['ID']}\")\n",
    "    display(Markdown(f\"Explanation: {row['Explanation']}\"))\n",
    "    print(f\"Book Label: {row['Book Label']}\")\n",
    "    print(\"-\" * 50)\n"
   ]
  },
  {
   "cell_type": "code",
   "execution_count": null,
   "id": "c57a5f12",
   "metadata": {},
   "outputs": [],
   "source": [
    "\n",
    "math=data[data['QA Type'] == 'Math reasoning QA']"
   ]
  },
  {
   "cell_type": "code",
   "execution_count": null,
   "id": "e2f367e1f692f4e6",
   "metadata": {},
   "outputs": [],
   "source": [
    "    if row['Image'] !='':\n",
    "        print(f\"Image: {row['Image']}\")\n",
    "        display(Image(filename=row['Image']))\n",
    "    else:\n",
    "        print(\"no Image\")"
   ]
  }
 ],
 "metadata": {
  "kernelspec": {
   "display_name": ".venv",
   "language": "python",
   "name": "python3"
  },
  "language_info": {
   "codemirror_mode": {
    "name": "ipython",
    "version": 3
   },
   "file_extension": ".py",
   "mimetype": "text/x-python",
   "name": "python",
   "nbconvert_exporter": "python",
   "pygments_lexer": "ipython3",
   "version": "3.12.5"
  }
 },
 "nbformat": 4,
 "nbformat_minor": 5
}
