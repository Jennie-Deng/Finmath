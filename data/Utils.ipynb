{
 "cells": [
  {
   "metadata": {},
   "cell_type": "code",
   "source": [
    "import json\n",
    "import pandas as pd\n",
    "from PIL import Image\n",
    "import os\n",
    "from IPython.display import display"
   ],
   "id": "299b3c26ccf423da",
   "outputs": [],
   "execution_count": null
  },
  {
   "metadata": {},
   "cell_type": "code",
   "source": [
    "def process_image(image_paths):\n",
    "  image_list = []\n",
    "  for path in image_paths:\n",
    "    try:\n",
    "      if os.path.exists(path):\n",
    "        image_list.append(Image.open(path))\n",
    "      else:\n",
    "        image_list.append(None)\n",
    "    except Exception as e:\n",
    "      image_list.append(None)\n",
    "  return image_list"
   ],
   "id": "dcb39ea5d2678799",
   "outputs": [],
   "execution_count": null
  },
  {
   "metadata": {
    "collapsed": true
   },
   "cell_type": "code",
   "source": [
    "\n",
    "# Load the JSON data from both files\n",
    "imagefolder = '/Volumes/Jennie/Reasoning/FinMath/data/FRMLevel2/CreditRiskMeasurementandManagement'\n",
    "with open('/Volumes/Jennie/Reasoning/FinMath/data/FRMLevel2/CreditRiskMeasurementandManagement/CreditRiskMeasurementandManagement.json', 'r', encoding='utf-8') as f:\n",
    "  credit_risk_data = json.load(f)\n",
    "credit_risk_data\n",
    "df1= pd.DataFrame(credit_risk_data)\n",
    "df1['share_context'] = [[] for _ in range(len(df1))]\n",
    "df1['share_image'] = [[] for _ in range(len(df1))]\n",
    "df1['image'] = df1['image'].apply(lambda x: [os.path.join(imagefolder, x)] if pd.notnull(x) and x != '' else [])\n",
    "df1['pil_image'] = df1['image'].apply(process_image)\n",
    "df1['pil_share_image'] = df1['share_image'].apply(process_image)"
   ],
   "id": "initial_id",
   "outputs": [],
   "execution_count": null
  },
  {
   "metadata": {},
   "cell_type": "code",
   "source": [
    "# Load the JSON data from both files\n",
    "imagefolder = '/Volumes/Jennie/Reasoning/FinMath/data/CFALevel2/AlternativeInvestments'\n",
    "with open('/Volumes/Jennie/Reasoning/FinMath/data/CFALevel2/AlternativeInvestments/AlternativeInvestments.json', 'r', encoding='utf-8') as f:\n",
    "  AlternativeInvestments= json.load(f)\n",
    "AlternativeInvestments\n",
    "df2= pd.DataFrame(AlternativeInvestments)\n",
    "df2['image'] = df2['image'].apply(lambda x: [os.path.join(imagefolder, x)] if pd.notnull(x) and x != '' else [])\n",
    "df2['share_image'] = df2['share_image'].apply(lambda x: [os.path.join(imagefolder, filename) for filename in x] if pd.notnull(x).all() and isinstance(x, list) else [])\n",
    "df2['pil_image'] = df2['image'].apply(process_image)\n",
    "df2['pil_share_image'] = df2['share_image'].apply(process_image)\n",
    "df2"
   ],
   "id": "a0fa2bf587688ad3",
   "outputs": [],
   "execution_count": null
  },
  {
   "metadata": {},
   "cell_type": "code",
   "source": [
    "\n",
    "# Iterate through the DataFrame and check if 'pil_image' is not None\n",
    "for index, row in df2.iterrows():\n",
    "    if len(row['pil_share_image']) !=0:\n",
    "        print(f\"Question Number: {row['question_number']}\")\n",
    "        print(f\"image: {row['share_image'][0]}\")\n",
    "        print(f\"option: {row['options']}\")\n",
    "        display(row['pil_share_image'][0])\n",
    "        print(\"_\"*20)"
   ],
   "id": "f13b748783b30096",
   "outputs": [],
   "execution_count": null
  },
  {
   "metadata": {
    "ExecuteTime": {
     "end_time": "2024-09-24T06:46:27.960597Z",
     "start_time": "2024-09-24T06:46:27.291061Z"
    }
   },
   "cell_type": "code",
   "source": [
    "result = pd.concat([df1, df2], axis=0)  # axis=0 means concatenation along rows\n",
    "result.to_csv(\"result.csv\", index=False)"
   ],
   "id": "53b9bb1df07eb4d3",
   "outputs": [],
   "execution_count": 98
  },
  {
   "metadata": {},
   "cell_type": "code",
   "source": "",
   "id": "39e896c76c5845ed",
   "outputs": [],
   "execution_count": null
  }
 ],
 "metadata": {
  "kernelspec": {
   "display_name": "Python 3",
   "language": "python",
   "name": "python3"
  },
  "language_info": {
   "codemirror_mode": {
    "name": "ipython",
    "version": 2
   },
   "file_extension": ".py",
   "mimetype": "text/x-python",
   "name": "python",
   "nbconvert_exporter": "python",
   "pygments_lexer": "ipython2",
   "version": "2.7.6"
  }
 },
 "nbformat": 4,
 "nbformat_minor": 5
}
